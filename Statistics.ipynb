{
 "cells": [
  {
   "cell_type": "code",
   "execution_count": 383,
   "metadata": {},
   "outputs": [],
   "source": [
    "from transformers import AutoTokenizer, AutoModelForSequenceClassification\n",
    "from transformers import TrainingArguments, Trainer\n",
    "import pandas as pd\n",
    "import numpy as np\n",
    "import torch\n",
    "from datasets import load_dataset, Dataset, load_metric\n",
    "from sklearn.metrics import f1_score, recall_score, precision_score\n",
    "from utils import numerical_df"
   ]
  },
  {
   "cell_type": "markdown",
   "metadata": {},
   "source": [
    "### Hyperparameters"
   ]
  },
  {
   "cell_type": "code",
   "execution_count": 2,
   "metadata": {},
   "outputs": [],
   "source": [
    "\n",
    "df_path = './climate_twitter_tweets.csv'\n",
    "df_org = pd.read_csv(df_path)\n",
    "## Remove empty strings\n",
    "df = df_org[df_org.tweet != '']\n",
    "df = df[df.tweet.notnull()]"
   ]
  },
  {
   "cell_type": "code",
   "execution_count": 3,
   "metadata": {},
   "outputs": [
    {
     "data": {
      "text/html": [
       "<div>\n",
       "<style scoped>\n",
       "    .dataframe tbody tr th:only-of-type {\n",
       "        vertical-align: middle;\n",
       "    }\n",
       "\n",
       "    .dataframe tbody tr th {\n",
       "        vertical-align: top;\n",
       "    }\n",
       "\n",
       "    .dataframe thead th {\n",
       "        text-align: right;\n",
       "    }\n",
       "</style>\n",
       "<table border=\"1\" class=\"dataframe\">\n",
       "  <thead>\n",
       "    <tr style=\"text-align: right;\">\n",
       "      <th></th>\n",
       "      <th>labels</th>\n",
       "      <th>claim_expert1</th>\n",
       "      <th>evidence_expert1</th>\n",
       "    </tr>\n",
       "  </thead>\n",
       "  <tbody>\n",
       "    <tr>\n",
       "      <th>count</th>\n",
       "      <td>212.000000</td>\n",
       "      <td>212.000000</td>\n",
       "      <td>212.000000</td>\n",
       "    </tr>\n",
       "    <tr>\n",
       "      <th>mean</th>\n",
       "      <td>0.877358</td>\n",
       "      <td>0.849057</td>\n",
       "      <td>0.415094</td>\n",
       "    </tr>\n",
       "    <tr>\n",
       "      <th>std</th>\n",
       "      <td>0.328802</td>\n",
       "      <td>0.358841</td>\n",
       "      <td>0.493905</td>\n",
       "    </tr>\n",
       "    <tr>\n",
       "      <th>min</th>\n",
       "      <td>0.000000</td>\n",
       "      <td>0.000000</td>\n",
       "      <td>0.000000</td>\n",
       "    </tr>\n",
       "    <tr>\n",
       "      <th>25%</th>\n",
       "      <td>1.000000</td>\n",
       "      <td>1.000000</td>\n",
       "      <td>0.000000</td>\n",
       "    </tr>\n",
       "    <tr>\n",
       "      <th>50%</th>\n",
       "      <td>1.000000</td>\n",
       "      <td>1.000000</td>\n",
       "      <td>0.000000</td>\n",
       "    </tr>\n",
       "    <tr>\n",
       "      <th>75%</th>\n",
       "      <td>1.000000</td>\n",
       "      <td>1.000000</td>\n",
       "      <td>1.000000</td>\n",
       "    </tr>\n",
       "    <tr>\n",
       "      <th>max</th>\n",
       "      <td>1.000000</td>\n",
       "      <td>1.000000</td>\n",
       "      <td>1.000000</td>\n",
       "    </tr>\n",
       "  </tbody>\n",
       "</table>\n",
       "</div>"
      ],
      "text/plain": [
       "           labels  claim_expert1  evidence_expert1\n",
       "count  212.000000     212.000000        212.000000\n",
       "mean     0.877358       0.849057          0.415094\n",
       "std      0.328802       0.358841          0.493905\n",
       "min      0.000000       0.000000          0.000000\n",
       "25%      1.000000       1.000000          0.000000\n",
       "50%      1.000000       1.000000          0.000000\n",
       "75%      1.000000       1.000000          1.000000\n",
       "max      1.000000       1.000000          1.000000"
      ]
     },
     "execution_count": 3,
     "metadata": {},
     "output_type": "execute_result"
    }
   ],
   "source": [
    "df[['labels', 'claim_expert1', 'evidence_expert1']].describe()"
   ]
  },
  {
   "cell_type": "code",
   "execution_count": 4,
   "metadata": {},
   "outputs": [
    {
     "data": {
      "text/html": [
       "<div>\n",
       "<style scoped>\n",
       "    .dataframe tbody tr th:only-of-type {\n",
       "        vertical-align: middle;\n",
       "    }\n",
       "\n",
       "    .dataframe tbody tr th {\n",
       "        vertical-align: top;\n",
       "    }\n",
       "\n",
       "    .dataframe thead th {\n",
       "        text-align: right;\n",
       "    }\n",
       "</style>\n",
       "<table border=\"1\" class=\"dataframe\">\n",
       "  <thead>\n",
       "    <tr style=\"text-align: right;\">\n",
       "      <th></th>\n",
       "      <th>labels</th>\n",
       "      <th>claim_expert1</th>\n",
       "      <th>evidence_expert1</th>\n",
       "    </tr>\n",
       "  </thead>\n",
       "  <tbody>\n",
       "    <tr>\n",
       "      <th>count</th>\n",
       "      <td>300.000000</td>\n",
       "      <td>300.000000</td>\n",
       "      <td>300.000000</td>\n",
       "    </tr>\n",
       "    <tr>\n",
       "      <th>mean</th>\n",
       "      <td>0.866667</td>\n",
       "      <td>0.846667</td>\n",
       "      <td>0.420000</td>\n",
       "    </tr>\n",
       "    <tr>\n",
       "      <th>std</th>\n",
       "      <td>0.340503</td>\n",
       "      <td>0.360911</td>\n",
       "      <td>0.494383</td>\n",
       "    </tr>\n",
       "    <tr>\n",
       "      <th>min</th>\n",
       "      <td>0.000000</td>\n",
       "      <td>0.000000</td>\n",
       "      <td>0.000000</td>\n",
       "    </tr>\n",
       "    <tr>\n",
       "      <th>25%</th>\n",
       "      <td>1.000000</td>\n",
       "      <td>1.000000</td>\n",
       "      <td>0.000000</td>\n",
       "    </tr>\n",
       "    <tr>\n",
       "      <th>50%</th>\n",
       "      <td>1.000000</td>\n",
       "      <td>1.000000</td>\n",
       "      <td>0.000000</td>\n",
       "    </tr>\n",
       "    <tr>\n",
       "      <th>75%</th>\n",
       "      <td>1.000000</td>\n",
       "      <td>1.000000</td>\n",
       "      <td>1.000000</td>\n",
       "    </tr>\n",
       "    <tr>\n",
       "      <th>max</th>\n",
       "      <td>1.000000</td>\n",
       "      <td>1.000000</td>\n",
       "      <td>1.000000</td>\n",
       "    </tr>\n",
       "  </tbody>\n",
       "</table>\n",
       "</div>"
      ],
      "text/plain": [
       "           labels  claim_expert1  evidence_expert1\n",
       "count  300.000000     300.000000        300.000000\n",
       "mean     0.866667       0.846667          0.420000\n",
       "std      0.340503       0.360911          0.494383\n",
       "min      0.000000       0.000000          0.000000\n",
       "25%      1.000000       1.000000          0.000000\n",
       "50%      1.000000       1.000000          0.000000\n",
       "75%      1.000000       1.000000          1.000000\n",
       "max      1.000000       1.000000          1.000000"
      ]
     },
     "execution_count": 4,
     "metadata": {},
     "output_type": "execute_result"
    }
   ],
   "source": [
    "df_org[['labels', 'claim_expert1', 'evidence_expert1']].describe()"
   ]
  },
  {
   "cell_type": "code",
   "execution_count": 5,
   "metadata": {},
   "outputs": [
    {
     "data": {
      "text/plain": [
       "(0.8047619047619048, 0.7763658243080627, 0.24845070422535212)"
      ]
     },
     "execution_count": 5,
     "metadata": {},
     "output_type": "execute_result"
    }
   ],
   "source": [
    "f1_score(df_org.labels, np.ones(300), average='weighted'), f1_score(df_org.claim_expert1, np.ones(300), average='weighted'),  f1_score(df_org.evidence_expert1, np.ones(300), average='weighted')"
   ]
  },
  {
   "cell_type": "code",
   "execution_count": 6,
   "metadata": {},
   "outputs": [
    {
     "data": {
      "text/plain": [
       "(0.8666666666666667, 0.8466666666666667, 0.42)"
      ]
     },
     "execution_count": 6,
     "metadata": {},
     "output_type": "execute_result"
    }
   ],
   "source": [
    "recall_score(df_org.labels, np.ones(300), average='weighted'), recall_score(df_org.claim_expert1, np.ones(300), average='weighted'),  recall_score(df_org.evidence_expert1, np.ones(300), average='weighted')"
   ]
  },
  {
   "cell_type": "code",
   "execution_count": 7,
   "metadata": {},
   "outputs": [
    {
     "name": "stderr",
     "output_type": "stream",
     "text": [
      "/home/mah/.local/lib/python3.8/site-packages/sklearn/metrics/_classification.py:1221: UndefinedMetricWarning: Precision is ill-defined and being set to 0.0 in labels with no predicted samples. Use `zero_division` parameter to control this behavior.\n",
      "  _warn_prf(average, modifier, msg_start, len(result))\n"
     ]
    },
    {
     "data": {
      "text/plain": [
       "(0.7511111111111112, 0.7168444444444445, 0.17639999999999997)"
      ]
     },
     "execution_count": 7,
     "metadata": {},
     "output_type": "execute_result"
    }
   ],
   "source": [
    "precision_score(df_org.labels, np.ones(300), average='weighted'), precision_score(df_org.claim_expert1, np.ones(300), average='weighted'),  precision_score(df_org.evidence_expert1, np.ones(300), average='weighted')"
   ]
  },
  {
   "cell_type": "code",
   "execution_count": 8,
   "metadata": {},
   "outputs": [
    {
     "data": {
      "text/plain": [
       "(0.8200436142979046, 0.7797458606083943, 0.24352201257861641)"
      ]
     },
     "execution_count": 8,
     "metadata": {},
     "output_type": "execute_result"
    }
   ],
   "source": [
    "f1_score(df.labels, np.ones(212), average='weighted'), f1_score(df.claim_expert1, np.ones(212), average='weighted'),  f1_score(df.evidence_expert1, np.ones(212), average='weighted')"
   ]
  },
  {
   "cell_type": "code",
   "execution_count": 9,
   "metadata": {},
   "outputs": [
    {
     "data": {
      "text/plain": [
       "(0.8773584905660378, 0.8490566037735849, 0.41509433962264153)"
      ]
     },
     "execution_count": 9,
     "metadata": {},
     "output_type": "execute_result"
    }
   ],
   "source": [
    "recall_score(df.labels, np.ones(212), average='weighted'), recall_score(df.claim_expert1, np.ones(212), average='weighted'),  recall_score(df.evidence_expert1, np.ones(212), average='weighted')"
   ]
  },
  {
   "cell_type": "code",
   "execution_count": 10,
   "metadata": {},
   "outputs": [
    {
     "data": {
      "text/plain": [
       "(0.7697579209683162, 0.7208971164115343, 0.17230331078675687)"
      ]
     },
     "execution_count": 10,
     "metadata": {},
     "output_type": "execute_result"
    }
   ],
   "source": [
    "precision_score(df.labels, np.ones(212), average='weighted'), precision_score(df.claim_expert1, np.ones(212), average='weighted'),  precision_score(df.evidence_expert1, np.ones(212), average='weighted')"
   ]
  },
  {
   "cell_type": "code",
   "execution_count": null,
   "metadata": {},
   "outputs": [],
   "source": []
  },
  {
   "cell_type": "code",
   "execution_count": 39,
   "metadata": {},
   "outputs": [],
   "source": [
    "filtered = pd.read_csv('filtered_annotated.csv')\n",
    "dev = pd.read_csv('dev.csv')\n",
    "test = pd.read_csv('test.csv')\n",
    "tweets = pd.read_csv('scraped_tweets.csv')"
   ]
  },
  {
   "cell_type": "code",
   "execution_count": 19,
   "metadata": {},
   "outputs": [],
   "source": [
    "dev = dev.assign(evidence_type=pd.Series(['']*100).values)\n",
    "test = test.assign(evidence_type=pd.Series(['']*100).values)"
   ]
  },
  {
   "cell_type": "code",
   "execution_count": 22,
   "metadata": {},
   "outputs": [],
   "source": [
    "filtered_1 = filtered.sample(frac = 0.5) \n",
    "filtered_2 = filtered.drop(filtered_1.index) "
   ]
  },
  {
   "cell_type": "code",
   "execution_count": 24,
   "metadata": {},
   "outputs": [
    {
     "data": {
      "text/html": [
       "<div>\n",
       "<style scoped>\n",
       "    .dataframe tbody tr th:only-of-type {\n",
       "        vertical-align: middle;\n",
       "    }\n",
       "\n",
       "    .dataframe tbody tr th {\n",
       "        vertical-align: top;\n",
       "    }\n",
       "\n",
       "    .dataframe thead th {\n",
       "        text-align: right;\n",
       "    }\n",
       "</style>\n",
       "<table border=\"1\" class=\"dataframe\">\n",
       "  <thead>\n",
       "    <tr style=\"text-align: right;\">\n",
       "      <th></th>\n",
       "      <th>index</th>\n",
       "      <th>tweet</th>\n",
       "      <th>label</th>\n",
       "      <th>argumentative</th>\n",
       "      <th>evidence</th>\n",
       "      <th>claim</th>\n",
       "      <th>procon</th>\n",
       "      <th>arg_type</th>\n",
       "      <th>evidence_type</th>\n",
       "      <th>topic</th>\n",
       "    </tr>\n",
       "  </thead>\n",
       "  <tbody>\n",
       "    <tr>\n",
       "      <th>1</th>\n",
       "      <td>1</td>\n",
       "      <td>&lt;MENTION&gt; Doing a whole foods keto diet. Coffe...</td>\n",
       "      <td>1</td>\n",
       "      <td>1</td>\n",
       "      <td>0.0</td>\n",
       "      <td>0.0</td>\n",
       "      <td>-1.0</td>\n",
       "      <td>implicit</td>\n",
       "      <td>NaN</td>\n",
       "      <td>Sustainable diets are healty</td>\n",
       "    </tr>\n",
       "    <tr>\n",
       "      <th>4</th>\n",
       "      <td>4</td>\n",
       "      <td>&lt;MENTION&gt; &lt;MENTION&gt; &lt;MENTION&gt; Because russian ...</td>\n",
       "      <td>0</td>\n",
       "      <td>1</td>\n",
       "      <td>0.0</td>\n",
       "      <td>0.0</td>\n",
       "      <td>0.0</td>\n",
       "      <td>unrelated</td>\n",
       "      <td>NaN</td>\n",
       "      <td>Sustainable diets are healty</td>\n",
       "    </tr>\n",
       "    <tr>\n",
       "      <th>9</th>\n",
       "      <td>9</td>\n",
       "      <td>&lt;MENTION&gt; Oh wow, I think they have a differen...</td>\n",
       "      <td>0</td>\n",
       "      <td>lacks context</td>\n",
       "      <td>0.0</td>\n",
       "      <td>0.0</td>\n",
       "      <td>0.0</td>\n",
       "      <td>NaN</td>\n",
       "      <td>NaN</td>\n",
       "      <td>Sustainable diets are healty</td>\n",
       "    </tr>\n",
       "    <tr>\n",
       "      <th>11</th>\n",
       "      <td>11</td>\n",
       "      <td>&lt;MENTION&gt; Beans. But you have to have some mea...</td>\n",
       "      <td>1</td>\n",
       "      <td>1</td>\n",
       "      <td>0.0</td>\n",
       "      <td>0.0</td>\n",
       "      <td>1.0</td>\n",
       "      <td>implicit</td>\n",
       "      <td>NaN</td>\n",
       "      <td>Sustainable diets are healty</td>\n",
       "    </tr>\n",
       "    <tr>\n",
       "      <th>13</th>\n",
       "      <td>13</td>\n",
       "      <td>&lt;MENTION&gt; Tbh….\\nI prefer the actual fruit..\\n...</td>\n",
       "      <td>0</td>\n",
       "      <td>lacks context</td>\n",
       "      <td>0.0</td>\n",
       "      <td>0.0</td>\n",
       "      <td>0.0</td>\n",
       "      <td>NaN</td>\n",
       "      <td>NaN</td>\n",
       "      <td>Sustainable diets are healty</td>\n",
       "    </tr>\n",
       "    <tr>\n",
       "      <th>...</th>\n",
       "      <td>...</td>\n",
       "      <td>...</td>\n",
       "      <td>...</td>\n",
       "      <td>...</td>\n",
       "      <td>...</td>\n",
       "      <td>...</td>\n",
       "      <td>...</td>\n",
       "      <td>...</td>\n",
       "      <td>...</td>\n",
       "      <td>...</td>\n",
       "    </tr>\n",
       "    <tr>\n",
       "      <th>265</th>\n",
       "      <td>265</td>\n",
       "      <td>&lt;MENTION&gt; a better diet. start with better bre...</td>\n",
       "      <td>0</td>\n",
       "      <td>1</td>\n",
       "      <td>0.0</td>\n",
       "      <td>0.0</td>\n",
       "      <td>0.0</td>\n",
       "      <td>unrelated</td>\n",
       "      <td>NaN</td>\n",
       "      <td>Sustainable diets are healty</td>\n",
       "    </tr>\n",
       "    <tr>\n",
       "      <th>266</th>\n",
       "      <td>266</td>\n",
       "      <td>&lt;MENTION&gt; But some olive oil on your door hinges</td>\n",
       "      <td>0</td>\n",
       "      <td>0</td>\n",
       "      <td>0.0</td>\n",
       "      <td>0.0</td>\n",
       "      <td>0.0</td>\n",
       "      <td>NaN</td>\n",
       "      <td>NaN</td>\n",
       "      <td>Sustainable diets are healty</td>\n",
       "    </tr>\n",
       "    <tr>\n",
       "      <th>268</th>\n",
       "      <td>268</td>\n",
       "      <td>&lt;MENTION&gt; &lt;MENTION&gt; &lt;MENTION&gt; &lt;MENTION&gt; Sorry,...</td>\n",
       "      <td>0</td>\n",
       "      <td>0</td>\n",
       "      <td>0.0</td>\n",
       "      <td>0.0</td>\n",
       "      <td>0.0</td>\n",
       "      <td>NaN</td>\n",
       "      <td>NaN</td>\n",
       "      <td>Sustainable diets are healty</td>\n",
       "    </tr>\n",
       "    <tr>\n",
       "      <th>274</th>\n",
       "      <td>274</td>\n",
       "      <td>&lt;MENTION&gt; In the 60's and 70's in SE. QLD a sc...</td>\n",
       "      <td>0</td>\n",
       "      <td>0</td>\n",
       "      <td>0.0</td>\n",
       "      <td>0.0</td>\n",
       "      <td>0.0</td>\n",
       "      <td>NaN</td>\n",
       "      <td>NaN</td>\n",
       "      <td>Sustainable diets are healty</td>\n",
       "    </tr>\n",
       "    <tr>\n",
       "      <th>276</th>\n",
       "      <td>276</td>\n",
       "      <td>Crunch Master 4 Cheese Toasted Sesame Rice Cra...</td>\n",
       "      <td>0</td>\n",
       "      <td>0</td>\n",
       "      <td>0.0</td>\n",
       "      <td>0.0</td>\n",
       "      <td>0.0</td>\n",
       "      <td>NaN</td>\n",
       "      <td>NaN</td>\n",
       "      <td>Sustainable diets are healty</td>\n",
       "    </tr>\n",
       "  </tbody>\n",
       "</table>\n",
       "<p>140 rows × 10 columns</p>\n",
       "</div>"
      ],
      "text/plain": [
       "     index                                              tweet  label  \\\n",
       "1        1  <MENTION> Doing a whole foods keto diet. Coffe...      1   \n",
       "4        4  <MENTION> <MENTION> <MENTION> Because russian ...      0   \n",
       "9        9  <MENTION> Oh wow, I think they have a differen...      0   \n",
       "11      11  <MENTION> Beans. But you have to have some mea...      1   \n",
       "13      13  <MENTION> Tbh….\\nI prefer the actual fruit..\\n...      0   \n",
       "..     ...                                                ...    ...   \n",
       "265    265  <MENTION> a better diet. start with better bre...      0   \n",
       "266    266   <MENTION> But some olive oil on your door hinges      0   \n",
       "268    268  <MENTION> <MENTION> <MENTION> <MENTION> Sorry,...      0   \n",
       "274    274  <MENTION> In the 60's and 70's in SE. QLD a sc...      0   \n",
       "276    276  Crunch Master 4 Cheese Toasted Sesame Rice Cra...      0   \n",
       "\n",
       "     argumentative  evidence  claim  procon   arg_type evidence_type  \\\n",
       "1                1       0.0    0.0    -1.0   implicit           NaN   \n",
       "4                1       0.0    0.0     0.0  unrelated           NaN   \n",
       "9    lacks context       0.0    0.0     0.0        NaN           NaN   \n",
       "11               1       0.0    0.0     1.0   implicit           NaN   \n",
       "13   lacks context       0.0    0.0     0.0        NaN           NaN   \n",
       "..             ...       ...    ...     ...        ...           ...   \n",
       "265              1       0.0    0.0     0.0  unrelated           NaN   \n",
       "266              0       0.0    0.0     0.0        NaN           NaN   \n",
       "268              0       0.0    0.0     0.0        NaN           NaN   \n",
       "274              0       0.0    0.0     0.0        NaN           NaN   \n",
       "276              0       0.0    0.0     0.0        NaN           NaN   \n",
       "\n",
       "                            topic  \n",
       "1    Sustainable diets are healty  \n",
       "4    Sustainable diets are healty  \n",
       "9    Sustainable diets are healty  \n",
       "11   Sustainable diets are healty  \n",
       "13   Sustainable diets are healty  \n",
       "..                            ...  \n",
       "265  Sustainable diets are healty  \n",
       "266  Sustainable diets are healty  \n",
       "268  Sustainable diets are healty  \n",
       "274  Sustainable diets are healty  \n",
       "276  Sustainable diets are healty  \n",
       "\n",
       "[140 rows x 10 columns]"
      ]
     },
     "execution_count": 24,
     "metadata": {},
     "output_type": "execute_result"
    }
   ],
   "source": [
    "filtered_2"
   ]
  },
  {
   "cell_type": "code",
   "execution_count": 97,
   "metadata": {},
   "outputs": [],
   "source": [
    "dev_full = pd.concat([dev, filtered_1]).drop(columns=['label'])\n",
    "test_full = pd.concat([test, filtered_1]).drop(columns=['label'])"
   ]
  },
  {
   "cell_type": "code",
   "execution_count": 98,
   "metadata": {},
   "outputs": [],
   "source": [
    "def get_ids(df):\n",
    "    lacks_ids = df[df.id.isna()]\n",
    "    ids = pd.merge(left=lacks_ids, right=tweets, left_on='tweet', right_on='tweet', how='inner')\n",
    "    df.id.update(pd.Series(ids.id_y.values, index=lacks_ids.index))\n",
    "    return df"
   ]
  },
  {
   "cell_type": "code",
   "execution_count": 99,
   "metadata": {},
   "outputs": [],
   "source": [
    "test_full = get_ids(test_full)\n",
    "dev_full = get_ids(dev_full)\n",
    "dev_full.lang = 'en'\n",
    "test_full.lang = 'en'"
   ]
  },
  {
   "cell_type": "code",
   "execution_count": 266,
   "metadata": {},
   "outputs": [],
   "source": [
    "test_full.reset_index(drop=True, inplace=True)\n",
    "dev_full.reset_index(drop=True, inplace=True)"
   ]
  },
  {
   "cell_type": "code",
   "execution_count": 299,
   "metadata": {},
   "outputs": [
    {
     "data": {
      "text/plain": [
       "0"
      ]
     },
     "execution_count": 299,
     "metadata": {},
     "output_type": "execute_result"
    }
   ],
   "source": [
    "sum(test_full[test_full.argumentative == '1'].arg_type.isna())"
   ]
  },
  {
   "cell_type": "code",
   "execution_count": 336,
   "metadata": {},
   "outputs": [],
   "source": [
    "test_full.to_csv('full_testing_set.csv', index = False)\n",
    "dev_full.to_csv('full_development_set.csv', index = False)"
   ]
  },
  {
   "cell_type": "code",
   "execution_count": 375,
   "metadata": {},
   "outputs": [],
   "source": [
    "def numerical_df(df):\n",
    "    df = df.copy()\n",
    "    idx = df[df.argumentative == 'lacks context'].index\n",
    "    df.argumentative.update(pd.Series(np.zeros(len(idx)), index=idx))\n",
    "    df.argumentative = pd.to_numeric(df.argumentative)\n",
    "    df.claim = pd.to_numeric(df.claim)\n",
    "    df.evidence = pd.to_numeric(df.evidence)\n",
    "    df.procon = pd.to_numeric(df.procon)\n",
    "    return df\n",
    "\n",
    "def score(df, label = 0, avg = 'weighted', score_fun = f1_score):\n",
    "    df = numerical_df(df)\n",
    "    \n",
    "    return (score_fun(df.argumentative, [label]*len(df), average=avg), \n",
    "           score_fun(df.claim, [label]*len(df), average=avg),  \n",
    "           score_fun(df.evidence, [label]*len(df), average=avg),\n",
    "           score_fun(df.procon, [label]*len(df), average=avg))"
   ]
  },
  {
   "cell_type": "code",
   "execution_count": 391,
   "metadata": {},
   "outputs": [
    {
     "data": {
      "text/html": [
       "<div>\n",
       "<style scoped>\n",
       "    .dataframe tbody tr th:only-of-type {\n",
       "        vertical-align: middle;\n",
       "    }\n",
       "\n",
       "    .dataframe tbody tr th {\n",
       "        vertical-align: top;\n",
       "    }\n",
       "\n",
       "    .dataframe thead th {\n",
       "        text-align: right;\n",
       "    }\n",
       "</style>\n",
       "<table border=\"1\" class=\"dataframe\">\n",
       "  <thead>\n",
       "    <tr style=\"text-align: right;\">\n",
       "      <th></th>\n",
       "      <th>Argumentative f1</th>\n",
       "      <th>Claim f1</th>\n",
       "      <th>Evidence f1</th>\n",
       "      <th>Procon f1</th>\n",
       "    </tr>\n",
       "  </thead>\n",
       "  <tbody>\n",
       "    <tr>\n",
       "      <th>0</th>\n",
       "      <td>0.434843</td>\n",
       "      <td>0.544030</td>\n",
       "      <td>0.846612</td>\n",
       "      <td>0.603894</td>\n",
       "    </tr>\n",
       "    <tr>\n",
       "      <th>1</th>\n",
       "      <td>0.444930</td>\n",
       "      <td>0.587398</td>\n",
       "      <td>0.834603</td>\n",
       "      <td>0.654107</td>\n",
       "    </tr>\n",
       "  </tbody>\n",
       "</table>\n",
       "</div>"
      ],
      "text/plain": [
       "   Argumentative f1  Claim f1  Evidence f1  Procon f1\n",
       "0          0.434843  0.544030     0.846612   0.603894\n",
       "1          0.444930  0.587398     0.834603   0.654107"
      ]
     },
     "execution_count": 391,
     "metadata": {},
     "output_type": "execute_result"
    }
   ],
   "source": [
    "label = 0\n",
    "\n",
    "df = pd.DataFrame([score(dev_full, label = label, score_fun = f1_score), score(test_full, label = label, score_fun = f1_score)])\n",
    "df.columns = ['Argumentative f1', 'Claim f1', 'Evidence f1', 'Procon f1']\n",
    "df"
   ]
  },
  {
   "cell_type": "code",
   "execution_count": 392,
   "metadata": {},
   "outputs": [
    {
     "data": {
      "text/html": [
       "<div>\n",
       "<style scoped>\n",
       "    .dataframe tbody tr th:only-of-type {\n",
       "        vertical-align: middle;\n",
       "    }\n",
       "\n",
       "    .dataframe tbody tr th {\n",
       "        vertical-align: top;\n",
       "    }\n",
       "\n",
       "    .dataframe thead th {\n",
       "        text-align: right;\n",
       "    }\n",
       "</style>\n",
       "<table border=\"1\" class=\"dataframe\">\n",
       "  <thead>\n",
       "    <tr style=\"text-align: right;\">\n",
       "      <th></th>\n",
       "      <th>Argumentative recall</th>\n",
       "      <th>Claim recakk</th>\n",
       "      <th>Evidence precision</th>\n",
       "      <th>Procon recall</th>\n",
       "    </tr>\n",
       "  </thead>\n",
       "  <tbody>\n",
       "    <tr>\n",
       "      <th>0</th>\n",
       "      <td>0.587500</td>\n",
       "      <td>0.675000</td>\n",
       "      <td>0.895833</td>\n",
       "      <td>0.720833</td>\n",
       "    </tr>\n",
       "    <tr>\n",
       "      <th>1</th>\n",
       "      <td>0.595833</td>\n",
       "      <td>0.708333</td>\n",
       "      <td>0.887500</td>\n",
       "      <td>0.758333</td>\n",
       "    </tr>\n",
       "  </tbody>\n",
       "</table>\n",
       "</div>"
      ],
      "text/plain": [
       "   Argumentative recall  Claim recakk  Evidence precision  Procon recall\n",
       "0              0.587500      0.675000            0.895833       0.720833\n",
       "1              0.595833      0.708333            0.887500       0.758333"
      ]
     },
     "execution_count": 392,
     "metadata": {},
     "output_type": "execute_result"
    }
   ],
   "source": [
    "df = pd.DataFrame([score(dev_full, label = label, score_fun = recall_score), score(test_full, label = label, score_fun = recall_score)])\n",
    "df.columns = ['Argumentative recall', 'Claim recall', 'Evidence recall', 'Procon recall']\n",
    "df"
   ]
  },
  {
   "cell_type": "code",
   "execution_count": 393,
   "metadata": {},
   "outputs": [
    {
     "name": "stderr",
     "output_type": "stream",
     "text": [
      "/home/mah/.local/lib/python3.8/site-packages/sklearn/metrics/_classification.py:1221: UndefinedMetricWarning: Precision is ill-defined and being set to 0.0 in labels with no predicted samples. Use `zero_division` parameter to control this behavior.\n",
      "  _warn_prf(average, modifier, msg_start, len(result))\n"
     ]
    },
    {
     "data": {
      "text/html": [
       "<div>\n",
       "<style scoped>\n",
       "    .dataframe tbody tr th:only-of-type {\n",
       "        vertical-align: middle;\n",
       "    }\n",
       "\n",
       "    .dataframe tbody tr th {\n",
       "        vertical-align: top;\n",
       "    }\n",
       "\n",
       "    .dataframe thead th {\n",
       "        text-align: right;\n",
       "    }\n",
       "</style>\n",
       "<table border=\"1\" class=\"dataframe\">\n",
       "  <thead>\n",
       "    <tr style=\"text-align: right;\">\n",
       "      <th></th>\n",
       "      <th>Argumentative precision</th>\n",
       "      <th>Claim precision</th>\n",
       "      <th>Evidence precision</th>\n",
       "      <th>Procon precision</th>\n",
       "    </tr>\n",
       "  </thead>\n",
       "  <tbody>\n",
       "    <tr>\n",
       "      <th>0</th>\n",
       "      <td>0.345156</td>\n",
       "      <td>0.455625</td>\n",
       "      <td>0.802517</td>\n",
       "      <td>0.519601</td>\n",
       "    </tr>\n",
       "    <tr>\n",
       "      <th>1</th>\n",
       "      <td>0.355017</td>\n",
       "      <td>0.501736</td>\n",
       "      <td>0.787656</td>\n",
       "      <td>0.575069</td>\n",
       "    </tr>\n",
       "  </tbody>\n",
       "</table>\n",
       "</div>"
      ],
      "text/plain": [
       "   Argumentative precision  Claim precision  Evidence precision  \\\n",
       "0                 0.345156         0.455625            0.802517   \n",
       "1                 0.355017         0.501736            0.787656   \n",
       "\n",
       "   Procon precision  \n",
       "0          0.519601  \n",
       "1          0.575069  "
      ]
     },
     "execution_count": 393,
     "metadata": {},
     "output_type": "execute_result"
    }
   ],
   "source": [
    "df = pd.DataFrame([score(dev_full, label = label, score_fun = precision_score) , score(test_full, label = label, score_fun = precision_score)])\n",
    "df.columns = ['Argumentative precision', 'Claim precision', 'Evidence precision', 'Procon precision']\n",
    "df"
   ]
  },
  {
   "cell_type": "code",
   "execution_count": 394,
   "metadata": {},
   "outputs": [
    {
     "data": {
      "text/html": [
       "<div>\n",
       "<style scoped>\n",
       "    .dataframe tbody tr th:only-of-type {\n",
       "        vertical-align: middle;\n",
       "    }\n",
       "\n",
       "    .dataframe tbody tr th {\n",
       "        vertical-align: top;\n",
       "    }\n",
       "\n",
       "    .dataframe thead th {\n",
       "        text-align: right;\n",
       "    }\n",
       "</style>\n",
       "<table border=\"1\" class=\"dataframe\">\n",
       "  <thead>\n",
       "    <tr style=\"text-align: right;\">\n",
       "      <th></th>\n",
       "      <th>argumentative</th>\n",
       "      <th>claim</th>\n",
       "      <th>evidence</th>\n",
       "      <th>procon</th>\n",
       "    </tr>\n",
       "  </thead>\n",
       "  <tbody>\n",
       "    <tr>\n",
       "      <th>count</th>\n",
       "      <td>240.000000</td>\n",
       "      <td>240.000000</td>\n",
       "      <td>240.000000</td>\n",
       "      <td>240.000000</td>\n",
       "    </tr>\n",
       "    <tr>\n",
       "      <th>mean</th>\n",
       "      <td>0.412500</td>\n",
       "      <td>0.325000</td>\n",
       "      <td>0.104167</td>\n",
       "      <td>0.062500</td>\n",
       "    </tr>\n",
       "    <tr>\n",
       "      <th>std</th>\n",
       "      <td>0.493313</td>\n",
       "      <td>0.469354</td>\n",
       "      <td>0.306115</td>\n",
       "      <td>0.525749</td>\n",
       "    </tr>\n",
       "    <tr>\n",
       "      <th>min</th>\n",
       "      <td>0.000000</td>\n",
       "      <td>0.000000</td>\n",
       "      <td>0.000000</td>\n",
       "      <td>-1.000000</td>\n",
       "    </tr>\n",
       "    <tr>\n",
       "      <th>25%</th>\n",
       "      <td>0.000000</td>\n",
       "      <td>0.000000</td>\n",
       "      <td>0.000000</td>\n",
       "      <td>0.000000</td>\n",
       "    </tr>\n",
       "    <tr>\n",
       "      <th>50%</th>\n",
       "      <td>0.000000</td>\n",
       "      <td>0.000000</td>\n",
       "      <td>0.000000</td>\n",
       "      <td>0.000000</td>\n",
       "    </tr>\n",
       "    <tr>\n",
       "      <th>75%</th>\n",
       "      <td>1.000000</td>\n",
       "      <td>1.000000</td>\n",
       "      <td>0.000000</td>\n",
       "      <td>0.000000</td>\n",
       "    </tr>\n",
       "    <tr>\n",
       "      <th>max</th>\n",
       "      <td>1.000000</td>\n",
       "      <td>1.000000</td>\n",
       "      <td>1.000000</td>\n",
       "      <td>1.000000</td>\n",
       "    </tr>\n",
       "  </tbody>\n",
       "</table>\n",
       "</div>"
      ],
      "text/plain": [
       "       argumentative       claim    evidence      procon\n",
       "count     240.000000  240.000000  240.000000  240.000000\n",
       "mean        0.412500    0.325000    0.104167    0.062500\n",
       "std         0.493313    0.469354    0.306115    0.525749\n",
       "min         0.000000    0.000000    0.000000   -1.000000\n",
       "25%         0.000000    0.000000    0.000000    0.000000\n",
       "50%         0.000000    0.000000    0.000000    0.000000\n",
       "75%         1.000000    1.000000    0.000000    0.000000\n",
       "max         1.000000    1.000000    1.000000    1.000000"
      ]
     },
     "execution_count": 394,
     "metadata": {},
     "output_type": "execute_result"
    }
   ],
   "source": [
    "numerical_df(dev_full)[['argumentative', 'claim', 'evidence', 'procon']].describe()"
   ]
  },
  {
   "cell_type": "code",
   "execution_count": null,
   "metadata": {},
   "outputs": [],
   "source": []
  }
 ],
 "metadata": {
  "kernelspec": {
   "display_name": "Python 3 (ipykernel)",
   "language": "python",
   "name": "python3"
  },
  "language_info": {
   "codemirror_mode": {
    "name": "ipython",
    "version": 3
   },
   "file_extension": ".py",
   "mimetype": "text/x-python",
   "name": "python",
   "nbconvert_exporter": "python",
   "pygments_lexer": "ipython3",
   "version": "3.8.5"
  }
 },
 "nbformat": 4,
 "nbformat_minor": 5
}
