{
 "cells": [
  {
   "cell_type": "code",
   "execution_count": 1,
   "metadata": {},
   "outputs": [],
   "source": [
    "import pandas as pd\n",
    "from sklearn.metrics import cohen_kappa_score"
   ]
  },
  {
   "cell_type": "code",
   "execution_count": 2,
   "metadata": {},
   "outputs": [],
   "source": [
    "forgotten_rows = list(range(4,9)) + list(range(45,49))"
   ]
  },
  {
   "cell_type": "code",
   "execution_count": 3,
   "metadata": {},
   "outputs": [],
   "source": [
    "anno1 = pd.read_csv('sample_annotated.csv')\n",
    "anno2 = pd.read_csv('sample_annotated_2.csv')\n",
    "anno3 = pd.read_csv('sample_annotated-v2.csv')\n",
    "anno4 = pd.read_csv('sample_annotated-v3.csv')\n",
    "anno5 = pd.read_csv('sample_annotated-v4.csv')\n",
    "\n",
    "anno1 = anno1[~anno1.index.isin(forgotten_rows)]\n",
    "anno2 = anno2[~anno2.index.isin(forgotten_rows)]\n",
    "anno3 = anno3[~anno3.index.isin(forgotten_rows)]\n",
    "anno4 = anno4[~anno4.index.isin(forgotten_rows)]\n",
    "anno5 = anno5[~anno5.index.isin(forgotten_rows)]"
   ]
  },
  {
   "cell_type": "code",
   "execution_count": 28,
   "metadata": {},
   "outputs": [],
   "source": [
    "def filtering(series1, series2, label, run = True):\n",
    "    if label != 'argumentative' and run:\n",
    "        series_b = series1.argumentative == series2.argumentative\n",
    "        series1 = series1[series_b]\n",
    "        series1 = series1[series1.argumentative == '1']\n",
    "        series2 = series2[series_b]\n",
    "        series2 = series2[series2.argumentative == '1']\n",
    "        \n",
    "    \n",
    "    return series1[label], series2[label] \n",
    "\n",
    "def kappa(label, run):\n",
    "    v1, v2 = filtering(anno5, anno2, label, run)\n",
    "    return label, cohen_kappa_score(v1, v2)"
   ]
  },
  {
   "cell_type": "code",
   "execution_count": 29,
   "metadata": {},
   "outputs": [
    {
     "data": {
      "text/plain": [
       "(('argumentative', 0.4991568296795953),\n",
       " ('claim', 0.5761467889908257),\n",
       " ('evidence', 0.4570383912248629),\n",
       " ('procon', 0.6333333333333333))"
      ]
     },
     "execution_count": 29,
     "metadata": {},
     "output_type": "execute_result"
    }
   ],
   "source": [
    "add_filter = True\n",
    "\n",
    "kappa('argumentative', add_filter),kappa('claim', add_filter),kappa('evidence', add_filter),kappa('procon', add_filter)#,kappa('evidence_type', add_filter)#,kappa('evidence_type', add_filter) "
   ]
  },
  {
   "cell_type": "code",
   "execution_count": 30,
   "metadata": {},
   "outputs": [
    {
     "data": {
      "text/plain": [
       "(('argumentative', 0.4991568296795953),\n",
       " ('claim', 0.5301204819277108),\n",
       " ('evidence', 0.4946996466431095),\n",
       " ('procon', 0.5579196217494089))"
      ]
     },
     "execution_count": 30,
     "metadata": {},
     "output_type": "execute_result"
    }
   ],
   "source": [
    "add_filter = False\n",
    "\n",
    "kappa('argumentative', add_filter),kappa('claim', add_filter),kappa('evidence', add_filter),kappa('procon', add_filter) "
   ]
  },
  {
   "cell_type": "code",
   "execution_count": null,
   "metadata": {},
   "outputs": [],
   "source": []
  },
  {
   "cell_type": "code",
   "execution_count": null,
   "metadata": {},
   "outputs": [],
   "source": []
  }
 ],
 "metadata": {
  "kernelspec": {
   "display_name": "Python 3 (ipykernel)",
   "language": "python",
   "name": "python3"
  },
  "language_info": {
   "codemirror_mode": {
    "name": "ipython",
    "version": 3
   },
   "file_extension": ".py",
   "mimetype": "text/x-python",
   "name": "python",
   "nbconvert_exporter": "python",
   "pygments_lexer": "ipython3",
   "version": "3.8.5"
  }
 },
 "nbformat": 4,
 "nbformat_minor": 4
}
