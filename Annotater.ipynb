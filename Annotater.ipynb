{
 "cells": [
  {
   "cell_type": "code",
   "execution_count": 1,
   "metadata": {},
   "outputs": [],
   "source": [
    "%gui asyncio"
   ]
  },
  {
   "cell_type": "code",
   "execution_count": 2,
   "metadata": {},
   "outputs": [],
   "source": [
    "import asyncio\n",
    "import pandas as pd\n",
    "import numpy as np\n",
    "\n",
    "def wait_for_change(widget, value):\n",
    "    future = asyncio.Future()\n",
    "    def getvalue(change):\n",
    "        # make the new value available\n",
    "        future.set_result(change.new)\n",
    "        widget.unobserve(getvalue, value)\n",
    "    widget.observe(getvalue, value)\n",
    "    return future"
   ]
  },
  {
   "cell_type": "code",
   "execution_count": 15,
   "metadata": {},
   "outputs": [],
   "source": [
    "from ipywidgets import widgets as w\n",
    "from IPython.display import clear_output\n",
    "import time \n",
    "\n",
    "\n",
    "\n",
    "def annotate(df):\n",
    "    cur_topic = 'Sustainable diets are healty'\n",
    "    reset_opt = ''\n",
    "    argumentative = w.ToggleButtons(\n",
    "        options=[reset_opt, 0, 1, 'lacks context'],\n",
    "        description='Argumentative:',\n",
    "        disabled=False,\n",
    "        button_style='',\n",
    "    )\n",
    "    \n",
    "    evidence = w.ToggleButtons(\n",
    "        options=[0, 1],\n",
    "        description='Evidence:',\n",
    "        disabled=False,\n",
    "        button_style='',\n",
    "    )\n",
    "    \n",
    "    claim = w.ToggleButtons(\n",
    "        options=[0, 1],\n",
    "        description='Claim:',\n",
    "        disabled=False,\n",
    "        button_style='',\n",
    "    )\n",
    "    \n",
    "    procon = w.ToggleButtons(\n",
    "        options=[-1, 0, 1],\n",
    "        description='Pro/Con:',\n",
    "        disabled=False,\n",
    "        button_style='',\n",
    "    )\n",
    "    \n",
    "    arg_type = w.ToggleButtons(\n",
    "        options=[reset_opt, 'implicit', 'explicit', 'unrelated'],\n",
    "        description='Argument type:',\n",
    "        disabled=False,\n",
    "        button_style='',\n",
    "    )\n",
    "\n",
    "    evidence_type = w.ToggleButtons(\n",
    "        options=[reset_opt, 'expert', 'anecdotal', 'study'],\n",
    "        description='Evidence type:',\n",
    "        disabled=False,\n",
    "        button_style='',\n",
    "    )\n",
    "    \n",
    "    out = w.HTML()\n",
    "\n",
    "    \n",
    "    res = []\n",
    "    async def f():\n",
    "        for i, row in enumerate(df.iloc):\n",
    "            t = \"{:<307}\".format(row.tweet)\n",
    "            out.value = f'<div style=\"height: 50px;\">#Tweet-num: {i+1}/{len(df)}<br/><strong>Topic:</strong><pref> {cur_topic}</pre><br/><strong>Tweet:</strong>{row.tweet.ljust(307)}</div>'\n",
    "            av = await wait_for_change(argumentative, 'value')\n",
    "            if av == 1:\n",
    "                while evidence.value == '' or claim.value == '' or procon.value == '' or arg_type.value == '': \n",
    "                    at = await wait_for_change(arg_type, 'value')\n",
    "\n",
    "            df.at[i, 'evidence'] = evidence.value\n",
    "            df.at[i, 'claim'] = claim.value\n",
    "            df.at[i, 'procon'] = procon.value\n",
    "            df.at[i, 'arg_type'] = arg_type.value\n",
    "            df.at[i, 'argumentative'] = argumentative.value\n",
    "            df.at[i, 'topic'] = cur_topic\n",
    "            df.at[i, 'evidence_type'] = evidence_type.value\n",
    "            argumentative.value = reset_opt\n",
    "            evidence.value = 0\n",
    "            claim.value = 0\n",
    "            procon.value = 0\n",
    "            arg_type.value = reset_opt\n",
    "            evidence_type.value = reset_opt\n",
    "\n",
    "    asyncio.ensure_future(f())\n",
    "    return w.AppLayout(header=out, footer=w.Box(children=[argumentative, claim, evidence, procon, evidence_type, arg_type])), res"
   ]
  },
  {
   "cell_type": "code",
   "execution_count": 16,
   "metadata": {},
   "outputs": [],
   "source": [
    "df = pd.read_csv('filtered_tweets.csv')\n",
    "test = pd.read_csv('test.csv')\n",
    "dev = pd.read_csv('dev.csv')\n",
    "df = df.loc[~df.tweet.isin(test['tweet'].values)]\n",
    "df = df.loc[~df.tweet.isin(dev['tweet'].values)]#.sample(100)"
   ]
  },
  {
   "cell_type": "code",
   "execution_count": 17,
   "metadata": {},
   "outputs": [],
   "source": [
    "sLength = len(df)\n",
    "df = df.assign(argumentative=pd.Series(['']*sLength).values)\n",
    "df = df.assign(evidence=pd.Series(np.zeros(sLength)).values)\n",
    "df = df.assign(claim=pd.Series(np.zeros(sLength)).values)\n",
    "df = df.assign(procon=pd.Series(np.zeros(sLength)).values)\n",
    "df = df.assign(arg_type=pd.Series(['']*sLength).values)\n",
    "df = df.assign(evidence_type=pd.Series(['']*sLength).values)\n",
    "df = df.reset_index()"
   ]
  },
  {
   "cell_type": "code",
   "execution_count": 18,
   "metadata": {},
   "outputs": [],
   "source": [
    "view, res = annotate(df)"
   ]
  },
  {
   "cell_type": "code",
   "execution_count": 19,
   "metadata": {},
   "outputs": [
    {
     "data": {
      "application/vnd.jupyter.widget-view+json": {
       "model_id": "4f8f8a42b04e4af0ad46e5300f0eaa01",
       "version_major": 2,
       "version_minor": 0
      },
      "text/plain": [
       "AppLayout(children=(HTML(value='<div style=\"height: 50px;\">#Tweet-num: 1/280<br/><strong>Topic:</strong><pref>…"
      ]
     },
     "metadata": {},
     "output_type": "display_data"
    }
   ],
   "source": [
    "view"
   ]
  },
  {
   "cell_type": "code",
   "execution_count": 25,
   "metadata": {},
   "outputs": [],
   "source": [
    "df.to_csv('filtered_annotated.csv', index=False)"
   ]
  },
  {
   "cell_type": "code",
   "execution_count": null,
   "metadata": {},
   "outputs": [],
   "source": []
  },
  {
   "cell_type": "code",
   "execution_count": null,
   "metadata": {},
   "outputs": [],
   "source": []
  }
 ],
 "metadata": {
  "kernelspec": {
   "display_name": "Python 3 (ipykernel)",
   "language": "python",
   "name": "python3"
  },
  "language_info": {
   "codemirror_mode": {
    "name": "ipython",
    "version": 3
   },
   "file_extension": ".py",
   "mimetype": "text/x-python",
   "name": "python",
   "nbconvert_exporter": "python",
   "pygments_lexer": "ipython3",
   "version": "3.8.5"
  }
 },
 "nbformat": 4,
 "nbformat_minor": 5
}
