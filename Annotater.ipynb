{
 "cells": [
  {
   "cell_type": "code",
   "execution_count": 8,
   "metadata": {},
   "outputs": [],
   "source": [
    "%gui asyncio"
   ]
  },
  {
   "cell_type": "code",
   "execution_count": 9,
   "metadata": {},
   "outputs": [],
   "source": [
    "import asyncio\n",
    "import pandas as pd\n",
    "import numpy as np\n",
    "import html"
   ]
  },
  {
   "cell_type": "code",
   "execution_count": 11,
   "metadata": {},
   "outputs": [],
   "source": [
    "from ipywidgets import widgets as w\n",
    "from IPython.display import clear_output\n",
    "import time \n",
    "\n",
    "def gen_table(numRows):\n",
    "    rows = []\n",
    "    reset_opt = ''\n",
    "    \n",
    "    done = w.Button(\n",
    "        description='Next',\n",
    "        disabled=False,\n",
    "        button_style='', # 'success', 'info', 'warning', 'danger' or ''\n",
    "        tooltip='Click if done with annotation',\n",
    "        icon='arrow-right' # (FontAwesome names without the `fa-` prefix)\n",
    "    )\n",
    "    \n",
    "    back = w.Button(\n",
    "        description='Back',\n",
    "        disabled=False,\n",
    "        button_style='', # 'success', 'info', 'warning', 'danger' or ''\n",
    "        tooltip='Click if to go back with annotations',\n",
    "        icon='arrow-left' # (FontAwesome names without the `fa-` prefix)\n",
    "    )\n",
    "    \n",
    "    gs = w.GridspecLayout(numRows+1, 1)\n",
    "    btns = w.GridspecLayout(1, 2)\n",
    "    gs[numRows, 0] = btns\n",
    "    btns[0, 0] = back\n",
    "    btns[0, 1] = done\n",
    "\n",
    "    for i in range(numRows):\n",
    "        argumentative = w.ToggleButtons(\n",
    "            options=['0', '1', 'lacks context'],\n",
    "            description='Argumentative:',\n",
    "            disabled=False,\n",
    "            button_style='',\n",
    "        )\n",
    "\n",
    "        evidence = w.ToggleButtons(\n",
    "            options=[0, 1],\n",
    "            description='Evidence:',\n",
    "            disabled=False,\n",
    "            button_style='',\n",
    "        )\n",
    "\n",
    "        claim = w.ToggleButtons(\n",
    "            options=[0, 1],\n",
    "            description='Claim:',\n",
    "            disabled=False,\n",
    "            button_style='',\n",
    "        )\n",
    "\n",
    "        procon = w.ToggleButtons(\n",
    "            options=[-1, 0, 1],\n",
    "            description='Pro/Con:',\n",
    "            disabled=False,\n",
    "            button_style='',\n",
    "        )\n",
    "\n",
    "        arg_type = w.ToggleButtons(\n",
    "            options=[reset_opt, 'implicit', 'explicit', 'unrelated'],\n",
    "            description='Argument type:',\n",
    "            disabled=False,\n",
    "            button_style='',\n",
    "        )\n",
    "\n",
    "        evidence_type = w.ToggleButtons(\n",
    "            options=[reset_opt, 'expert', 'anecdotal', 'study', 'fact', 'normative'],\n",
    "            description='Evidence type:',\n",
    "            disabled=False,\n",
    "            button_style='',\n",
    "        )\n",
    "        \n",
    "        gsl = w.GridspecLayout(4, 2)\n",
    "        \n",
    "        topic = w.HTML()\n",
    "        tweet = w.HTML()\n",
    "        vector = {'value': ''} # This happens to save the tweet vector\n",
    "        rows.append((topic, tweet, argumentative, claim, evidence, procon, arg_type, evidence_type, {'row_index': 0}))\n",
    "        \n",
    "        gs[i, 0] = gsl\n",
    "        \n",
    "        gsl[0, 0] = topic\n",
    "        gsl[0, 1] = tweet\n",
    "        gsl[1, 0] = argumentative\n",
    "        gsl[1, 1] = claim\n",
    "        gsl[2, 0] = evidence\n",
    "        gsl[2, 1] = procon\n",
    "        gsl[3, 0] = arg_type\n",
    "        gsl[3, 1] = evidence_type\n",
    "    \n",
    "    return gs, rows, done, back\n",
    "\n",
    "\n",
    "def annotate(df, num_rows = 10, annotation_file = 'full-sample-v4.csv'):\n",
    "    gs, rows, done, back = gen_table(num_rows)\n",
    "    reset_opt = ''\n",
    "    counter = 0\n",
    "    \n",
    "    out = w.HTML()\n",
    "\n",
    "            \n",
    "    def combined(_):\n",
    "        save()\n",
    "        iterate()\n",
    "        \n",
    "    def back_click(_):\n",
    "        save()\n",
    "        nonlocal counter\n",
    "        nonlocal rows\n",
    "        counter = min(counter - 2*len(rows), 0)\n",
    "        iterate()\n",
    "\n",
    "    def save():\n",
    "        nonlocal rows\n",
    "        nonlocal df\n",
    "        nonlocal annotation_file\n",
    "        \n",
    "        for (topic, tweet, argumentative, claim, evidence, procon, arg_type, evidence_type, data) in rows:\n",
    "            i = data['row_index']\n",
    "            df.at[i, 'evidence'] = evidence.value\n",
    "            df.at[i, 'claim'] = claim.value\n",
    "            df.at[i, 'procon'] = procon.value\n",
    "            df.at[i, 'arg_type'] = arg_type.value\n",
    "            df.at[i, 'argumentative'] = argumentative.value\n",
    "            df.at[i, 'evidence_type'] = evidence_type.value\n",
    "\n",
    "        df.to_csv(annotation_file, index=False)\n",
    "        \n",
    "    def iterate():\n",
    "        nonlocal counter\n",
    "        nonlocal rows\n",
    "        nonlocal df\n",
    "        nonlocal reset_opt\n",
    "        \n",
    "        for i, ((topic, tweet, argumentative, claim, evidence, procon, arg_type, evidence_type, data), row) in enumerate(zip(rows, df.iloc[counter:counter+len(rows)].iloc)):\n",
    "            topic.value =  f'Tweet number: {i + counter + 1} <br/> Topic: {html.escape(row.topic)}' # Sets the tweet text\n",
    "            tweet.value = html.escape(row.tweet)\n",
    "            data['row_index'] = i + counter\n",
    "            \n",
    "            argumentative.value = row.argumentative\n",
    "            evidence.value = row.evidence\n",
    "            claim.value = row.claim\n",
    "            procon.value = row.procon\n",
    "            arg_type.value = row.arg_type\n",
    "            evidence_type.value = row.evidence_type\n",
    "\n",
    "\n",
    "        counter = counter + len(rows)\n",
    "\n",
    "    done.on_click(combined)\n",
    "    back.on_click(back_click)\n",
    "    iterate() # We iterate once to pull in the first set of tweets\n",
    "    return gs"
   ]
  },
  {
   "cell_type": "code",
   "execution_count": 29,
   "metadata": {},
   "outputs": [],
   "source": [
    "df = pd.read_csv('full_sample.csv')"
   ]
  },
  {
   "cell_type": "code",
   "execution_count": 30,
   "metadata": {},
   "outputs": [
    {
     "data": {
      "text/plain": [
       "200"
      ]
     },
     "execution_count": 30,
     "metadata": {},
     "output_type": "execute_result"
    }
   ],
   "source": [
    "len(df)"
   ]
  },
  {
   "cell_type": "code",
   "execution_count": 31,
   "metadata": {},
   "outputs": [],
   "source": [
    "sLength = len(df)\n",
    "#df = df.assign(argumentative=pd.Series(['']*sLength).values)\n",
    "#df = df.assign(evidence=pd.Series(np.zeros(sLength)).values)\n",
    "#df = df.assign(claim=pd.Series(np.zeros(sLength)).values)\n",
    "#df = df.assign(procon=pd.Series(np.zeros(sLength)).values)\n",
    "#df = df.assign(arg_type=pd.Series(['']*sLength).values)\n",
    "#df = df.assign(evidence_type=pd.Series(['']*sLength).values)\n",
    "#df = df.reset_index()\n",
    "df.fillna('', inplace=True)\n",
    "df.argumentative = df.argumentative.astype(str)"
   ]
  },
  {
   "cell_type": "code",
   "execution_count": 32,
   "metadata": {},
   "outputs": [
    {
     "data": {
      "application/vnd.jupyter.widget-view+json": {
       "model_id": "df37212ee5c5442d861bd9158c3aa7d6",
       "version_major": 2,
       "version_minor": 0
      },
      "text/plain": [
       "GridspecLayout(children=(GridspecLayout(children=(Button(description='Back', icon='arrow-left', layout=Layout(…"
      ]
     },
     "metadata": {},
     "output_type": "display_data"
    }
   ],
   "source": [
    "annotate(df, 5)"
   ]
  },
  {
   "cell_type": "code",
   "execution_count": null,
   "metadata": {},
   "outputs": [],
   "source": []
  },
  {
   "cell_type": "code",
   "execution_count": null,
   "metadata": {},
   "outputs": [],
   "source": []
  },
  {
   "cell_type": "code",
   "execution_count": null,
   "metadata": {},
   "outputs": [],
   "source": []
  }
 ],
 "metadata": {
  "kernelspec": {
   "display_name": "Python 3 (ipykernel)",
   "language": "python",
   "name": "python3"
  },
  "language_info": {
   "codemirror_mode": {
    "name": "ipython",
    "version": 3
   },
   "file_extension": ".py",
   "mimetype": "text/x-python",
   "name": "python",
   "nbconvert_exporter": "python",
   "pygments_lexer": "ipython3",
   "version": "3.8.5"
  }
 },
 "nbformat": 4,
 "nbformat_minor": 5
}
