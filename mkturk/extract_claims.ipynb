{
 "cells": [
  {
   "cell_type": "code",
   "execution_count": 62,
   "metadata": {},
   "outputs": [],
   "source": [
    "import json\n",
    "import pandas as pd\n",
    "import numpy as np\n",
    "import random\n",
    "def dump_json(data, file_name):\n",
    "    with open(f'./{file_name}.json', 'w') as fout:\n",
    "        json.dump(data, fout, cls=DateTimeEncoder)\n",
    "        \n",
    "def read_json(file_name):\n",
    "    with open(f'./{file_name}.json', 'r') as fout:\n",
    "        return json.load(fout)"
   ]
  },
  {
   "cell_type": "code",
   "execution_count": 63,
   "metadata": {},
   "outputs": [],
   "source": [
    "round_one = read_json('claims_first_round.csv')\n",
    "round_two = read_json('claims_second_round')\n",
    "round_three = read_json('claims_third_round')"
   ]
  },
  {
   "cell_type": "code",
   "execution_count": 64,
   "metadata": {},
   "outputs": [
    {
     "name": "stdout",
     "output_type": "stream",
     "text": [
      "387 3 3\n",
      "0 390 7\n",
      "0 304 7\n"
     ]
    }
   ],
   "source": [
    "tweet_dict = {}\n",
    "\n",
    "def fill_dict(round_):\n",
    "    misses = 0\n",
    "    hits = 0\n",
    "    max_answer_length_found = 0\n",
    "    for i, hit in enumerate(round_):\n",
    "        key = hit['tweet']\n",
    "        \n",
    "        max_answer_length_found = max(len(hit['answers']), max_answer_length_found)\n",
    "        if key in tweet_dict:\n",
    "            hits = hits + 1\n",
    "            workers = {}\n",
    "            for answ in [*tweet_dict[key]['answers'], *hit['answers']]:\n",
    "                worker = answ['worker']\n",
    "                if worker not in workers:\n",
    "                    workers[worker] = answ\n",
    "            max_answer_length_found = max(len(workers.values()), max_answer_length_found)\n",
    "            tweet_dict[key]['answers'] = list(workers.values())\n",
    "            \n",
    "        else:\n",
    "            tweet_dict[key] = hit.copy()\n",
    "            misses = misses + 1\n",
    "            \n",
    "    print(misses, hits, max_answer_length_found)\n",
    "            \n",
    "fill_dict(round_one)\n",
    "fill_dict(round_two)\n",
    "fill_dict(round_three)\n",
    "results = list(tweet_dict.values())"
   ]
  },
  {
   "cell_type": "code",
   "execution_count": 65,
   "metadata": {},
   "outputs": [
    {
     "data": {
      "text/plain": [
       "387"
      ]
     },
     "execution_count": 65,
     "metadata": {},
     "output_type": "execute_result"
    }
   ],
   "source": [
    "len(results)"
   ]
  },
  {
   "cell_type": "code",
   "execution_count": 66,
   "metadata": {},
   "outputs": [
    {
     "data": {
      "text/plain": [
       "{5: 186, 6: 38, 4: 99, 3: 60, 7: 4}"
      ]
     },
     "execution_count": 66,
     "metadata": {},
     "output_type": "execute_result"
    }
   ],
   "source": [
    "dist = {}\n",
    "for item in results:\n",
    "    key = len(item['answers'])\n",
    "    if key in dist:\n",
    "        dist[key] = dist[key] + 1\n",
    "    else:\n",
    "        dist[key] = 1\n",
    "        \n",
    "dist"
   ]
  },
  {
   "cell_type": "code",
   "execution_count": 67,
   "metadata": {},
   "outputs": [
    {
     "data": {
      "text/plain": [
       "[{'QuestionFormAnswers': {'@xmlns': 'http://mechanicalturk.amazonaws.com/AWSMechanicalTurkDataSchemas/2005-10-01/QuestionFormAnswers.xsd',\n",
       "   'Answer': {'QuestionIdentifier': 'claim',\n",
       "    'FreeText': 'Plant based food should be encouraged|Vegan and vegetarian diets should be encouraged'}},\n",
       "  'worker': 'A3CFNUD7VR2E1E',\n",
       "  'answer': 'Plant based food should be encouraged|Vegan and vegetarian diets should be encouraged'},\n",
       " {'QuestionFormAnswers': {'@xmlns': 'http://mechanicalturk.amazonaws.com/AWSMechanicalTurkDataSchemas/2005-10-01/QuestionFormAnswers.xsd',\n",
       "   'Answer': {'QuestionIdentifier': 'claim',\n",
       "    'FreeText': 'Plant based food should be encouraged'}},\n",
       "  'worker': 'ABY1RK8H6HC8C',\n",
       "  'answer': 'Plant based food should be encouraged'},\n",
       " {'QuestionFormAnswers': {'@xmlns': 'http://mechanicalturk.amazonaws.com/AWSMechanicalTurkDataSchemas/2005-10-01/QuestionFormAnswers.xsd',\n",
       "   'Answer': {'QuestionIdentifier': 'claim',\n",
       "    'FreeText': 'Plant based food should be encouraged'}},\n",
       "  'worker': 'A33TFZWRGY3ASF',\n",
       "  'answer': 'Plant based food should be encouraged'},\n",
       " {'QuestionFormAnswers': {'@xmlns': 'http://mechanicalturk.amazonaws.com/AWSMechanicalTurkDataSchemas/2005-10-01/QuestionFormAnswers.xsd',\n",
       "   'Answer': {'QuestionIdentifier': 'claim', 'FreeText': 'no claim'}},\n",
       "  'worker': 'A12PR5DPEZ5I3U',\n",
       "  'answer': 'no claim'},\n",
       " {'QuestionFormAnswers': {'@xmlns': 'http://mechanicalturk.amazonaws.com/AWSMechanicalTurkDataSchemas/2005-10-01/QuestionFormAnswers.xsd',\n",
       "   'Answer': {'QuestionIdentifier': 'claim',\n",
       "    'FreeText': 'Plant based food should be encouraged'}},\n",
       "  'worker': 'A1CF6U3GF7DZEJ',\n",
       "  'answer': 'Plant based food should be encouraged'}]"
      ]
     },
     "execution_count": 67,
     "metadata": {},
     "output_type": "execute_result"
    }
   ],
   "source": [
    "results[0]['answers']"
   ]
  },
  {
   "cell_type": "code",
   "execution_count": 68,
   "metadata": {},
   "outputs": [],
   "source": [
    "claims = []\n",
    "for item in results:\n",
    "    answers = item['answers']\n",
    "    tweet = item['tweet']\n",
    "    topic_dist = {}\n",
    "    for answer in answers:\n",
    "        keys = answer['answer'].split('|')\n",
    "        for key in keys:\n",
    "            if key in topic_dist:\n",
    "                topic_dist[key] = topic_dist[key] + 1\n",
    "            else:\n",
    "                topic_dist[key] = 1\n",
    "\n",
    "    claims.append((tweet, topic_dist, len(answers)))\n",
    "        "
   ]
  },
  {
   "cell_type": "code",
   "execution_count": 69,
   "metadata": {},
   "outputs": [
    {
     "data": {
      "text/plain": [
       "('Vegetarian maybe but not vegan',\n",
       " {'Vegan and vegetarian diets should be encouraged': 4,\n",
       "  'Plant based food should be encouraged': 2,\n",
       "  'no claim': 1},\n",
       " 7)"
      ]
     },
     "execution_count": 69,
     "metadata": {},
     "output_type": "execute_result"
    }
   ],
   "source": [
    "claims[155]"
   ]
  },
  {
   "cell_type": "code",
   "execution_count": 70,
   "metadata": {},
   "outputs": [],
   "source": [
    "#for (tweet, topic_dist, sup) in arguments:\n",
    "#    row = df[df.tweet == tweet]\n",
    "#    df.loc[df.tweet == tweet, 'topic'] = (arg_dist['argumentative'] if 'argumentative' in arg_dist else 0)/sum(arg_dist.values())\n",
    "df = pd.read_csv('argumentative.csv').drop(columns=['Unnamed: 0', 'index'])\n",
    "df = pd.DataFrame(df_rec).sample(frac=1).drop_duplicates(subset=['id'])\n",
    "topics_en_v2 = [\n",
    "    \"We should reduce the consumption of meat\",\n",
    "    \"Plant based food should be encouraged\",\n",
    "    \"Meat alternatives should be encouraged\",\n",
    "    \"Vegan and vegetarian diets should be encouraged\",\n",
    "    \"We should pursue policies that promote sustainable foods\"\n",
    "]\n",
    "\n",
    "df_rec = []\n",
    "for r in df.to_dict('records'):\n",
    "    for topic in topics_en_v2:\n",
    "        rec = r.copy()\n",
    "        rec['topic'] = {}\n",
    "        rec['topic'] = topic\n",
    "        rec['arg_type'] = ''\n",
    "        rec['unrelated_prob'] = 0\n",
    "        df_rec.append(rec)\n",
    "df = pd.DataFrame(df_rec)"
   ]
  },
  {
   "cell_type": "code",
   "execution_count": 74,
   "metadata": {},
   "outputs": [],
   "source": [
    "for i, (tweet, d, num_answers) in enumerate(claims):        \n",
    "    nc = 0\n",
    "\n",
    "    if 'no claim' in d:\n",
    "        nc = d['no claim']/num_answers\n",
    "    df.loc[df.tweet == tweet, 'arg_type'] = 'unrelated'\n",
    "    df.loc[df.tweet == tweet, 'unrelated_prob'] = 1\n",
    "    \n",
    "    for topic in d:\n",
    "        if topic != 'no claim':\n",
    "            select = (df.tweet == tweet) & (df.topic == topic)\n",
    "            df.loc[select,'claim'] = d[topic]/num_answers\n",
    "            df.loc[select, 'arg_type'] = ''\n",
    "            df.loc[select, 'unrelated_prob'] = nc\n",
    "      "
   ]
  },
  {
   "cell_type": "code",
   "execution_count": null,
   "metadata": {},
   "outputs": [],
   "source": []
  },
  {
   "cell_type": "code",
   "execution_count": 333,
   "metadata": {},
   "outputs": [],
   "source": [
    "df_rec = []\n",
    "for r in df.to_dict('records'):\n",
    "    topics = r['topic'].copy()\n",
    "    if len(topics) > 0:\n",
    "        for topic in topics:\n",
    "            rec = r.copy()\n",
    "            nc = 0\n",
    "            \n",
    "            if 'no claim' in topics:\n",
    "                nc = topics['no claim']\n",
    "            \n",
    "            if topic != 'no claim':\n",
    "                rec['claim'] = topics[topic]\n",
    "                rec['topic'] = topic\n",
    "                rec['unrelated_prob'] = nc\n",
    "                df_rec.append(rec)\n",
    "            \n",
    "        left_over_topics = np.intersect1d(list(r['topic'].keys()), topics_en_v2)    \n",
    "        if len(left_over_topics) > 0:\n",
    "            r['topic'] = random.choice(left_over_topics)\n",
    "            r['arg_type'] = 'unrelated'\n",
    "            df_rec.append(r)\n",
    "    else: \n",
    "        r['topic'] = random.choice(topics_en_v2)\n",
    "        df_rec.append(r)\n",
    "        "
   ]
  },
  {
   "cell_type": "code",
   "execution_count": 334,
   "metadata": {},
   "outputs": [],
   "source": [
    "df = pd.DataFrame(df_rec)"
   ]
  },
  {
   "cell_type": "code",
   "execution_count": 78,
   "metadata": {},
   "outputs": [],
   "source": [
    "df.to_csv('claims-large.csv', index = False)"
   ]
  },
  {
   "cell_type": "code",
   "execution_count": 341,
   "metadata": {},
   "outputs": [
    {
     "data": {
      "text/plain": [
       "289"
      ]
     },
     "execution_count": 341,
     "metadata": {},
     "output_type": "execute_result"
    }
   ],
   "source": [
    "sum(df.claim >= 0.5)"
   ]
  },
  {
   "cell_type": "code",
   "execution_count": null,
   "metadata": {},
   "outputs": [],
   "source": []
  }
 ],
 "metadata": {
  "kernelspec": {
   "display_name": "Python 3 (ipykernel)",
   "language": "python",
   "name": "python3"
  },
  "language_info": {
   "codemirror_mode": {
    "name": "ipython",
    "version": 3
   },
   "file_extension": ".py",
   "mimetype": "text/x-python",
   "name": "python",
   "nbconvert_exporter": "python",
   "pygments_lexer": "ipython3",
   "version": "3.8.5"
  }
 },
 "nbformat": 4,
 "nbformat_minor": 4
}
