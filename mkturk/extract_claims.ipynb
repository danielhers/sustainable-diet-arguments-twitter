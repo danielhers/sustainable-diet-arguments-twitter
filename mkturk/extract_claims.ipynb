{
 "cells": [
  {
   "cell_type": "code",
   "execution_count": 198,
   "metadata": {},
   "outputs": [],
   "source": [
    "import json\n",
    "import pandas as pd\n",
    "import numpy as np\n",
    "import random\n",
    "def dump_json(data, file_name):\n",
    "    with open(f'./{file_name}.json', 'w') as fout:\n",
    "        json.dump(data, fout, cls=DateTimeEncoder)\n",
    "        \n",
    "def read_json(file_name):\n",
    "    with open(f'./{file_name}.json', 'r') as fout:\n",
    "        return json.load(fout)"
   ]
  },
  {
   "cell_type": "code",
   "execution_count": 2,
   "metadata": {},
   "outputs": [],
   "source": [
    "round_one = read_json('claims_first_round.csv')\n",
    "round_two = read_json('claims_second_round')\n",
    "round_three = read_json('claims_third_round')"
   ]
  },
  {
   "cell_type": "code",
   "execution_count": 292,
   "metadata": {},
   "outputs": [
    {
     "name": "stdout",
     "output_type": "stream",
     "text": [
      "387 3 3\n",
      "0 390 7\n",
      "0 304 7\n"
     ]
    }
   ],
   "source": [
    "tweet_dict = {}\n",
    "\n",
    "def fill_dict(round_):\n",
    "    misses = 0\n",
    "    hits = 0\n",
    "    max_answer_length_found = 0\n",
    "    for i, hit in enumerate(round_):\n",
    "        key = hit['tweet']\n",
    "        \n",
    "        max_answer_length_found = max(len(hit['answers']), max_answer_length_found)\n",
    "        if key in tweet_dict:\n",
    "            hits = hits + 1\n",
    "            workers = {}\n",
    "            for answ in [*tweet_dict[key]['answers'], *hit['answers']]:\n",
    "                worker = answ['worker']\n",
    "                if worker not in workers:\n",
    "                    workers[worker] = answ\n",
    "            max_answer_length_found = max(len(workers.values()), max_answer_length_found)\n",
    "            tweet_dict[key]['answers'] = list(workers.values())\n",
    "            \n",
    "        else:\n",
    "            tweet_dict[key] = hit.copy()\n",
    "            misses = misses + 1\n",
    "            \n",
    "    print(misses, hits, max_answer_length_found)\n",
    "            \n",
    "fill_dict(round_one)\n",
    "fill_dict(round_two)\n",
    "fill_dict(round_three)\n",
    "results = list(tweet_dict.values())"
   ]
  },
  {
   "cell_type": "code",
   "execution_count": 293,
   "metadata": {},
   "outputs": [
    {
     "data": {
      "text/plain": [
       "387"
      ]
     },
     "execution_count": 293,
     "metadata": {},
     "output_type": "execute_result"
    }
   ],
   "source": [
    "len(results)"
   ]
  },
  {
   "cell_type": "code",
   "execution_count": 294,
   "metadata": {},
   "outputs": [
    {
     "data": {
      "text/plain": [
       "{5: 186, 6: 38, 4: 99, 3: 60, 7: 4}"
      ]
     },
     "execution_count": 294,
     "metadata": {},
     "output_type": "execute_result"
    }
   ],
   "source": [
    "dist = {}\n",
    "for item in results:\n",
    "    key = len(item['answers'])\n",
    "    if key in dist:\n",
    "        dist[key] = dist[key] + 1\n",
    "    else:\n",
    "        dist[key] = 1\n",
    "        \n",
    "dist"
   ]
  },
  {
   "cell_type": "code",
   "execution_count": 295,
   "metadata": {},
   "outputs": [
    {
     "data": {
      "text/plain": [
       "[{'QuestionFormAnswers': {'@xmlns': 'http://mechanicalturk.amazonaws.com/AWSMechanicalTurkDataSchemas/2005-10-01/QuestionFormAnswers.xsd',\n",
       "   'Answer': {'QuestionIdentifier': 'claim',\n",
       "    'FreeText': 'Plant based food should be encouraged|Vegan and vegetarian diets should be encouraged'}},\n",
       "  'worker': 'A3CFNUD7VR2E1E',\n",
       "  'answer': 'Plant based food should be encouraged|Vegan and vegetarian diets should be encouraged'},\n",
       " {'QuestionFormAnswers': {'@xmlns': 'http://mechanicalturk.amazonaws.com/AWSMechanicalTurkDataSchemas/2005-10-01/QuestionFormAnswers.xsd',\n",
       "   'Answer': {'QuestionIdentifier': 'claim',\n",
       "    'FreeText': 'Plant based food should be encouraged'}},\n",
       "  'worker': 'ABY1RK8H6HC8C',\n",
       "  'answer': 'Plant based food should be encouraged'},\n",
       " {'QuestionFormAnswers': {'@xmlns': 'http://mechanicalturk.amazonaws.com/AWSMechanicalTurkDataSchemas/2005-10-01/QuestionFormAnswers.xsd',\n",
       "   'Answer': {'QuestionIdentifier': 'claim',\n",
       "    'FreeText': 'Plant based food should be encouraged'}},\n",
       "  'worker': 'A33TFZWRGY3ASF',\n",
       "  'answer': 'Plant based food should be encouraged'},\n",
       " {'QuestionFormAnswers': {'@xmlns': 'http://mechanicalturk.amazonaws.com/AWSMechanicalTurkDataSchemas/2005-10-01/QuestionFormAnswers.xsd',\n",
       "   'Answer': {'QuestionIdentifier': 'claim', 'FreeText': 'no claim'}},\n",
       "  'worker': 'A12PR5DPEZ5I3U',\n",
       "  'answer': 'no claim'},\n",
       " {'QuestionFormAnswers': {'@xmlns': 'http://mechanicalturk.amazonaws.com/AWSMechanicalTurkDataSchemas/2005-10-01/QuestionFormAnswers.xsd',\n",
       "   'Answer': {'QuestionIdentifier': 'claim',\n",
       "    'FreeText': 'Plant based food should be encouraged'}},\n",
       "  'worker': 'A1CF6U3GF7DZEJ',\n",
       "  'answer': 'Plant based food should be encouraged'}]"
      ]
     },
     "execution_count": 295,
     "metadata": {},
     "output_type": "execute_result"
    }
   ],
   "source": [
    "results[0]['answers']"
   ]
  },
  {
   "cell_type": "code",
   "execution_count": 296,
   "metadata": {},
   "outputs": [],
   "source": [
    "claims = []\n",
    "for item in results:\n",
    "    answers = item['answers']\n",
    "    tweet = item['tweet']\n",
    "    topic_dist = {}\n",
    "    for answer in answers:\n",
    "        keys = answer['answer'].split('|')\n",
    "        for key in keys:\n",
    "            if key in topic_dist:\n",
    "                topic_dist[key] = topic_dist[key] + 1\n",
    "            else:\n",
    "                topic_dist[key] = 1\n",
    "\n",
    "    claims.append((tweet, topic_dist, len(answers)))\n",
    "        "
   ]
  },
  {
   "cell_type": "code",
   "execution_count": 297,
   "metadata": {},
   "outputs": [
    {
     "data": {
      "text/plain": [
       "('Vegetarian maybe but not vegan',\n",
       " {'Vegan and vegetarian diets should be encouraged': 4,\n",
       "  'Plant based food should be encouraged': 2,\n",
       "  'no claim': 1},\n",
       " 7)"
      ]
     },
     "execution_count": 297,
     "metadata": {},
     "output_type": "execute_result"
    }
   ],
   "source": [
    "claims[155]"
   ]
  },
  {
   "cell_type": "code",
   "execution_count": 331,
   "metadata": {},
   "outputs": [],
   "source": [
    "#for (tweet, topic_dist, sup) in arguments:\n",
    "#    row = df[df.tweet == tweet]\n",
    "#    df.loc[df.tweet == tweet, 'topic'] = (arg_dist['argumentative'] if 'argumentative' in arg_dist else 0)/sum(arg_dist.values())\n",
    "df = pd.read_csv('argumentative.csv').drop(columns=['Unnamed: 0', 'index'])\n",
    "topics_en_v2 = [\n",
    "    \"We should reduce the consumption of meat\",\n",
    "    \"Plant based food should be encouraged\",\n",
    "    \"Meat alternatives should be encouraged\",\n",
    "    \"Vegan and vegetarian diets should be encouraged\",\n",
    "    \"We should pursue policies that promote sustainable foods\"\n",
    "]\n",
    "\n",
    "df_rec = []\n",
    "for r in df.to_dict('records'):\n",
    "    #for topic in topics_en_v2:\n",
    "    rec = r.copy()\n",
    "    rec['topic'] = {}\n",
    "#        rec['topic'] = topic\n",
    "    rec['unrelated_prob'] = None\n",
    "    df_rec.append(rec)\n",
    "df = pd.DataFrame(df_rec).sample(frac=1).drop_duplicates(subset=['id'])"
   ]
  },
  {
   "cell_type": "code",
   "execution_count": 332,
   "metadata": {},
   "outputs": [
    {
     "data": {
      "text/html": [
       "<div>\n",
       "<style scoped>\n",
       "    .dataframe tbody tr th:only-of-type {\n",
       "        vertical-align: middle;\n",
       "    }\n",
       "\n",
       "    .dataframe tbody tr th {\n",
       "        vertical-align: top;\n",
       "    }\n",
       "\n",
       "    .dataframe thead th {\n",
       "        text-align: right;\n",
       "    }\n",
       "</style>\n",
       "<table border=\"1\" class=\"dataframe\">\n",
       "  <thead>\n",
       "    <tr style=\"text-align: right;\">\n",
       "      <th></th>\n",
       "      <th>tweet</th>\n",
       "      <th>id</th>\n",
       "      <th>lang</th>\n",
       "      <th>score</th>\n",
       "      <th>evidence</th>\n",
       "      <th>claim</th>\n",
       "      <th>procon</th>\n",
       "      <th>arg_type</th>\n",
       "      <th>evidence_type</th>\n",
       "      <th>topic</th>\n",
       "      <th>argumentative</th>\n",
       "      <th>unrelated_prob</th>\n",
       "    </tr>\n",
       "  </thead>\n",
       "  <tbody>\n",
       "    <tr>\n",
       "      <th>272</th>\n",
       "      <td>&lt;MENTION&gt; Do you have meat alternatives there ...</td>\n",
       "      <td>1.511730e+18</td>\n",
       "      <td>en</td>\n",
       "      <td>0.731721</td>\n",
       "      <td>0.0</td>\n",
       "      <td>0.0</td>\n",
       "      <td>0.0</td>\n",
       "      <td>NaN</td>\n",
       "      <td>NaN</td>\n",
       "      <td>{}</td>\n",
       "      <td>0.20</td>\n",
       "      <td>None</td>\n",
       "    </tr>\n",
       "    <tr>\n",
       "      <th>573</th>\n",
       "      <td>Fruit trees and vegetable plants everywhere</td>\n",
       "      <td>1.509586e+18</td>\n",
       "      <td>en</td>\n",
       "      <td>0.541383</td>\n",
       "      <td>0.0</td>\n",
       "      <td>0.0</td>\n",
       "      <td>0.0</td>\n",
       "      <td>NaN</td>\n",
       "      <td>NaN</td>\n",
       "      <td>{}</td>\n",
       "      <td>0.40</td>\n",
       "      <td>None</td>\n",
       "    </tr>\n",
       "    <tr>\n",
       "      <th>11</th>\n",
       "      <td>&lt;MENTION&gt; &lt;MENTION&gt; &lt;MENTION&gt; My ancestors hav...</td>\n",
       "      <td>1.511504e+18</td>\n",
       "      <td>en</td>\n",
       "      <td>0.000000</td>\n",
       "      <td>0.0</td>\n",
       "      <td>0.0</td>\n",
       "      <td>0.0</td>\n",
       "      <td>NaN</td>\n",
       "      <td>NaN</td>\n",
       "      <td>{}</td>\n",
       "      <td>0.25</td>\n",
       "      <td>None</td>\n",
       "    </tr>\n",
       "    <tr>\n",
       "      <th>548</th>\n",
       "      <td>An onion can make people cry, but there has ne...</td>\n",
       "      <td>1.511779e+18</td>\n",
       "      <td>en</td>\n",
       "      <td>0.000000</td>\n",
       "      <td>0.0</td>\n",
       "      <td>0.0</td>\n",
       "      <td>0.0</td>\n",
       "      <td>NaN</td>\n",
       "      <td>NaN</td>\n",
       "      <td>{}</td>\n",
       "      <td>0.40</td>\n",
       "      <td>None</td>\n",
       "    </tr>\n",
       "    <tr>\n",
       "      <th>103</th>\n",
       "      <td>&lt;MENTION&gt; Most are. The oil tycoons don't want...</td>\n",
       "      <td>1.511060e+18</td>\n",
       "      <td>en</td>\n",
       "      <td>0.000000</td>\n",
       "      <td>0.0</td>\n",
       "      <td>0.0</td>\n",
       "      <td>0.0</td>\n",
       "      <td>NaN</td>\n",
       "      <td>NaN</td>\n",
       "      <td>{'no claim': 0.8, 'We should pursue policies t...</td>\n",
       "      <td>0.80</td>\n",
       "      <td>None</td>\n",
       "    </tr>\n",
       "    <tr>\n",
       "      <th>...</th>\n",
       "      <td>...</td>\n",
       "      <td>...</td>\n",
       "      <td>...</td>\n",
       "      <td>...</td>\n",
       "      <td>...</td>\n",
       "      <td>...</td>\n",
       "      <td>...</td>\n",
       "      <td>...</td>\n",
       "      <td>...</td>\n",
       "      <td>...</td>\n",
       "      <td>...</td>\n",
       "      <td>...</td>\n",
       "    </tr>\n",
       "    <tr>\n",
       "      <th>126</th>\n",
       "      <td>&lt;MENTION&gt; Not a good recipe to make the tourna...</td>\n",
       "      <td>1.511907e+18</td>\n",
       "      <td>en</td>\n",
       "      <td>0.000000</td>\n",
       "      <td>0.0</td>\n",
       "      <td>0.0</td>\n",
       "      <td>0.0</td>\n",
       "      <td>unrelated</td>\n",
       "      <td>NaN</td>\n",
       "      <td>{}</td>\n",
       "      <td>0.40</td>\n",
       "      <td>None</td>\n",
       "    </tr>\n",
       "    <tr>\n",
       "      <th>291</th>\n",
       "      <td>i will never stop eating meat. y’all be crazy ...</td>\n",
       "      <td>1.511836e+18</td>\n",
       "      <td>en</td>\n",
       "      <td>0.586075</td>\n",
       "      <td>0.0</td>\n",
       "      <td>0.0</td>\n",
       "      <td>0.0</td>\n",
       "      <td>NaN</td>\n",
       "      <td>NaN</td>\n",
       "      <td>{}</td>\n",
       "      <td>0.40</td>\n",
       "      <td>None</td>\n",
       "    </tr>\n",
       "    <tr>\n",
       "      <th>145</th>\n",
       "      <td>&lt;MENTION&gt; &lt;MENTION&gt; I wonder why we aren't bei...</td>\n",
       "      <td>1.510323e+18</td>\n",
       "      <td>en</td>\n",
       "      <td>0.646425</td>\n",
       "      <td>0.0</td>\n",
       "      <td>0.0</td>\n",
       "      <td>0.0</td>\n",
       "      <td>NaN</td>\n",
       "      <td>NaN</td>\n",
       "      <td>{'Vegan and vegetarian diets should be encoura...</td>\n",
       "      <td>0.80</td>\n",
       "      <td>None</td>\n",
       "    </tr>\n",
       "    <tr>\n",
       "      <th>522</th>\n",
       "      <td>&lt;MENTION&gt; Ferries! Ferries!Ferries!. Yes it’s ...</td>\n",
       "      <td>1.511770e+18</td>\n",
       "      <td>en</td>\n",
       "      <td>0.000000</td>\n",
       "      <td>0.0</td>\n",
       "      <td>0.0</td>\n",
       "      <td>0.0</td>\n",
       "      <td>NaN</td>\n",
       "      <td>NaN</td>\n",
       "      <td>{'no claim': 0.8, 'We should pursue policies t...</td>\n",
       "      <td>0.60</td>\n",
       "      <td>None</td>\n",
       "    </tr>\n",
       "    <tr>\n",
       "      <th>20</th>\n",
       "      <td>&lt;MENTION&gt; This sucks. I can't imagine anyone v...</td>\n",
       "      <td>1.511983e+18</td>\n",
       "      <td>en</td>\n",
       "      <td>0.659456</td>\n",
       "      <td>0.0</td>\n",
       "      <td>0.0</td>\n",
       "      <td>0.0</td>\n",
       "      <td>NaN</td>\n",
       "      <td>NaN</td>\n",
       "      <td>{'no claim': 0.5, 'Vegan and vegetarian diets ...</td>\n",
       "      <td>0.60</td>\n",
       "      <td>None</td>\n",
       "    </tr>\n",
       "  </tbody>\n",
       "</table>\n",
       "<p>597 rows × 12 columns</p>\n",
       "</div>"
      ],
      "text/plain": [
       "                                                 tweet            id lang  \\\n",
       "272  <MENTION> Do you have meat alternatives there ...  1.511730e+18   en   \n",
       "573        Fruit trees and vegetable plants everywhere  1.509586e+18   en   \n",
       "11   <MENTION> <MENTION> <MENTION> My ancestors hav...  1.511504e+18   en   \n",
       "548  An onion can make people cry, but there has ne...  1.511779e+18   en   \n",
       "103  <MENTION> Most are. The oil tycoons don't want...  1.511060e+18   en   \n",
       "..                                                 ...           ...  ...   \n",
       "126  <MENTION> Not a good recipe to make the tourna...  1.511907e+18   en   \n",
       "291  i will never stop eating meat. y’all be crazy ...  1.511836e+18   en   \n",
       "145  <MENTION> <MENTION> I wonder why we aren't bei...  1.510323e+18   en   \n",
       "522  <MENTION> Ferries! Ferries!Ferries!. Yes it’s ...  1.511770e+18   en   \n",
       "20   <MENTION> This sucks. I can't imagine anyone v...  1.511983e+18   en   \n",
       "\n",
       "        score  evidence  claim  procon   arg_type evidence_type  \\\n",
       "272  0.731721       0.0    0.0     0.0        NaN           NaN   \n",
       "573  0.541383       0.0    0.0     0.0        NaN           NaN   \n",
       "11   0.000000       0.0    0.0     0.0        NaN           NaN   \n",
       "548  0.000000       0.0    0.0     0.0        NaN           NaN   \n",
       "103  0.000000       0.0    0.0     0.0        NaN           NaN   \n",
       "..        ...       ...    ...     ...        ...           ...   \n",
       "126  0.000000       0.0    0.0     0.0  unrelated           NaN   \n",
       "291  0.586075       0.0    0.0     0.0        NaN           NaN   \n",
       "145  0.646425       0.0    0.0     0.0        NaN           NaN   \n",
       "522  0.000000       0.0    0.0     0.0        NaN           NaN   \n",
       "20   0.659456       0.0    0.0     0.0        NaN           NaN   \n",
       "\n",
       "                                                 topic  argumentative  \\\n",
       "272                                                 {}           0.20   \n",
       "573                                                 {}           0.40   \n",
       "11                                                  {}           0.25   \n",
       "548                                                 {}           0.40   \n",
       "103  {'no claim': 0.8, 'We should pursue policies t...           0.80   \n",
       "..                                                 ...            ...   \n",
       "126                                                 {}           0.40   \n",
       "291                                                 {}           0.40   \n",
       "145  {'Vegan and vegetarian diets should be encoura...           0.80   \n",
       "522  {'no claim': 0.8, 'We should pursue policies t...           0.60   \n",
       "20   {'no claim': 0.5, 'Vegan and vegetarian diets ...           0.60   \n",
       "\n",
       "    unrelated_prob  \n",
       "272           None  \n",
       "573           None  \n",
       "11            None  \n",
       "548           None  \n",
       "103           None  \n",
       "..             ...  \n",
       "126           None  \n",
       "291           None  \n",
       "145           None  \n",
       "522           None  \n",
       "20            None  \n",
       "\n",
       "[597 rows x 12 columns]"
      ]
     },
     "execution_count": 332,
     "metadata": {},
     "output_type": "execute_result"
    }
   ],
   "source": [
    "for i, (tweet, d, num_answers) in enumerate(claims):\n",
    "    dist = d.copy()\n",
    "    for topic in dist:\n",
    "        dist[topic] = dist[topic]/num_answers\n",
    "    df.loc[(df.tweet == tweet), 'topic'] = [dist]\n",
    "df    "
   ]
  },
  {
   "cell_type": "code",
   "execution_count": 333,
   "metadata": {},
   "outputs": [],
   "source": [
    "df_rec = []\n",
    "for r in df.to_dict('records'):\n",
    "    topics = r['topic'].copy()\n",
    "    if len(topics) > 0:\n",
    "        for topic in topics:\n",
    "            rec = r.copy()\n",
    "            nc = 0\n",
    "            \n",
    "            if 'no claim' in topics:\n",
    "                nc = topics['no claim']\n",
    "            \n",
    "            if topic != 'no claim':\n",
    "                rec['claim'] = topics[topic]\n",
    "                rec['topic'] = topic\n",
    "                rec['unrelated_prob'] = nc\n",
    "                df_rec.append(rec)\n",
    "            \n",
    "        left_over_topics = np.intersect1d(list(r['topic'].keys()), topics_en_v2)    \n",
    "        if len(left_over_topics) > 0:\n",
    "            r['topic'] = random.choice(left_over_topics)\n",
    "            r['arg_type'] = 'unrelated'\n",
    "            df_rec.append(r)\n",
    "    else: \n",
    "        r['topic'] = random.choice(topics_en_v2)\n",
    "        df_rec.append(r)\n",
    "        "
   ]
  },
  {
   "cell_type": "code",
   "execution_count": 334,
   "metadata": {},
   "outputs": [],
   "source": [
    "df = pd.DataFrame(df_rec)"
   ]
  },
  {
   "cell_type": "code",
   "execution_count": 342,
   "metadata": {},
   "outputs": [],
   "source": [
    "df.to_csv('claims.csv', index = False)"
   ]
  },
  {
   "cell_type": "code",
   "execution_count": 341,
   "metadata": {},
   "outputs": [
    {
     "data": {
      "text/plain": [
       "289"
      ]
     },
     "execution_count": 341,
     "metadata": {},
     "output_type": "execute_result"
    }
   ],
   "source": [
    "sum(df.claim >= 0.5)"
   ]
  },
  {
   "cell_type": "code",
   "execution_count": null,
   "metadata": {},
   "outputs": [],
   "source": []
  }
 ],
 "metadata": {
  "kernelspec": {
   "display_name": "Python 3 (ipykernel)",
   "language": "python",
   "name": "python3"
  },
  "language_info": {
   "codemirror_mode": {
    "name": "ipython",
    "version": 3
   },
   "file_extension": ".py",
   "mimetype": "text/x-python",
   "name": "python",
   "nbconvert_exporter": "python",
   "pygments_lexer": "ipython3",
   "version": "3.8.5"
  }
 },
 "nbformat": 4,
 "nbformat_minor": 4
}
