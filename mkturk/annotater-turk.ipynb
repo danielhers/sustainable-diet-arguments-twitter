{
 "cells": [
  {
   "cell_type": "code",
   "execution_count": 1,
   "metadata": {},
   "outputs": [],
   "source": [
    "import boto3\n",
    "import xmltodict\n",
    "import json\n",
    "import pandas as pd\n",
    "import pyemoji\n",
    "import html"
   ]
  },
  {
   "cell_type": "code",
   "execution_count": 2,
   "metadata": {},
   "outputs": [],
   "source": [
    "create_hits_in_production = True\n",
    "environments = {\n",
    "        \"production\": {\n",
    "            \"endpoint\": \"https://mturk-requester.us-east-1.amazonaws.com\",\n",
    "            \"preview\": \"https://www.mturk.com/mturk/preview\"\n",
    "        },\n",
    "        \"sandbox\": {\n",
    "            \"endpoint\": \"https://mturk-requester-sandbox.us-east-1.amazonaws.com\",\n",
    "            \"preview\": \"https://workersandbox.mturk.com/mturk/preview\"\n",
    "        },\n",
    "}\n",
    "mturk_environment = environments[\"production\"] if create_hits_in_production else environments[\"sandbox\"]\n",
    "\n",
    "client = boto3.client(\n",
    "    service_name='mturk',\n",
    "    region_name='us-east-1',\n",
    "    endpoint_url=mturk_environment['endpoint'],\n",
    ")"
   ]
  },
  {
   "cell_type": "code",
   "execution_count": 3,
   "metadata": {},
   "outputs": [
    {
     "name": "stdout",
     "output_type": "stream",
     "text": [
      "1500.00\n"
     ]
    }
   ],
   "source": [
    "# This will return your current MTurk balance if you are connected to Production.\n",
    "# If you are connected to the Sandbox it will return $10,000.\n",
    "print(client.get_account_balance()['AvailableBalance'])"
   ]
  },
  {
   "cell_type": "code",
   "execution_count": 4,
   "metadata": {},
   "outputs": [],
   "source": [
    "df = pd.read_csv('sample_mturk.csv')\n",
    "df_known = pd.read_csv('../full-sample-v4.csv')"
   ]
  },
  {
   "cell_type": "code",
   "execution_count": 5,
   "metadata": {},
   "outputs": [],
   "source": [
    "html_layout = open('./argumentative.html', 'r').read()\n",
    "QUESTION_XML = \"\"\"<HTMLQuestion xmlns=\"http://mechanicalturk.amazonaws.com/AWSMechanicalTurkDataSchemas/2011-11-11/HTMLQuestion.xsd\">\n",
    "        <HTMLContent><![CDATA[{}]]></HTMLContent>\n",
    "        <FrameHeight>650</FrameHeight>\n",
    "        </HTMLQuestion>\"\"\"\n",
    "question_xml = QUESTION_XML.format(html_layout)"
   ]
  },
  {
   "cell_type": "code",
   "execution_count": 6,
   "metadata": {},
   "outputs": [],
   "source": [
    "Items_to_annotate = 600\n",
    "\n",
    "TaskAttributes = {\n",
    "    'MaxAssignments': 5,                 \n",
    "    'LifetimeInSeconds': 60*60*24,         # How long the task will be available on the MTurk website (24 hours)\n",
    "    'AssignmentDurationInSeconds': 60*5,   # How long Workers have to complete each item (5 minutes)\n",
    "    'Reward': '0.02',                      # The reward you will offer Workers for each response\n",
    "    'Title': 'Classify tweets',\n",
    "    'Keywords': 'classify, tweet',\n",
    "    'Description': 'Classify if tweets are argumentative',\n",
    "    'QualificationRequirements': [\n",
    "        {\n",
    "            #'QualificationTypeId': '2ARFPLSP75KLA8M8DH1HTEQVJT3SY6', # Masters qualification sandbox\n",
    "            'QualificationTypeId': '2F1QJWKUDD8XADTFD2Q0G6UTO95ALH', # Masters qualification production\n",
    "            'Comparator': 'Exists'\n",
    "        }\n",
    "    ]\n",
    "}\n"
   ]
  },
  {
   "cell_type": "code",
   "execution_count": 7,
   "metadata": {},
   "outputs": [],
   "source": [
    "results = []\n",
    "hit_type_id = ''\n",
    "\n",
    "\n",
    "def encode_tweet(tweet):\n",
    "    return str(html.escape(tweet).replace('\\n', '<br/>').encode('ascii', 'xmlcharrefreplace')).replace(\"b'\", '')[:-1]\n",
    "\n",
    "df_set = pd.concat([df.drop(columns=['argumentative']), df_known]).sample(frac=1)\n",
    "df_set_sample = df_set.head(Items_to_annotate)\n",
    "#df_set_sample.to_csv('active_hits_tweets.csv')\n"
   ]
  },
  {
   "cell_type": "code",
   "execution_count": 10,
   "metadata": {},
   "outputs": [
    {
     "name": "stdout",
     "output_type": "stream",
     "text": [
      " Creating hit for tweet number 600You can view the HITs here:\n",
      "https://www.mturk.com/mturk/preview?groupId=373MH2DFE9O6ZKSH2BNBN263I9LHB0\n"
     ]
    }
   ],
   "source": [
    "offset = 69\n",
    "for i, row in enumerate(df_set_sample.to_dict('records')[offset:]):\n",
    "    print('\\r', 'Creating hit for tweet number', offset + i + 1, end='')\n",
    "    response = client.create_hit(\n",
    "        **TaskAttributes,\n",
    "        Question=question_xml.replace('${tweet}',encode_tweet(row['tweet'])),#.replace('${topic}', encode_tweet(row['topic']))\n",
    "    )\n",
    "    hit_type_id = response['HIT']['HITTypeId']\n",
    "    results.append({\n",
    "        'tweet': row['tweet'],\n",
    "        'hit_id': response['HIT']['HITId'],\n",
    "        'known_answer': row['argumentative']\n",
    "    })\n",
    "    \n",
    "print(\"You can view the HITs here:\")\n",
    "print(mturk_environment['preview'] + \"?groupId={}\".format(hit_type_id))"
   ]
  },
  {
   "cell_type": "code",
   "execution_count": 11,
   "metadata": {},
   "outputs": [],
   "source": [
    "with open('./active_hits-v1-argumentative.json', 'w') as fout:\n",
    "    json.dump(results, fout)"
   ]
  },
  {
   "cell_type": "code",
   "execution_count": null,
   "metadata": {},
   "outputs": [],
   "source": [
    "with open('./active_hits-v1-argumentative.json', 'r') as fout:\n",
    "    results = json.load(fout)"
   ]
  },
  {
   "cell_type": "code",
   "execution_count": 306,
   "metadata": {},
   "outputs": [
    {
     "name": "stdout",
     "output_type": "stream",
     "text": [
      " Gathering results for hit num 600\n",
      "Done\n"
     ]
    }
   ],
   "source": [
    "workers = {\n",
    "    \n",
    "}\n",
    "\n",
    "for i, item in enumerate(results):\n",
    "    print('\\r', 'Gathering results for hit num', i + 1, end='')\n",
    "    # Get the status of the HIT\n",
    "    hit = client.get_hit(HITId=item['hit_id'])\n",
    "    item['status'] = hit['HIT']['HITStatus']\n",
    "\n",
    "    # Get a list of the Assignments that have been submitted by Workers\n",
    "    assignmentsList = client.list_assignments_for_hit(\n",
    "        HITId=item['hit_id'],\n",
    "        AssignmentStatuses=['Submitted', 'Approved'],#, 'Rejected'],\n",
    "        MaxResults=10\n",
    "    )\n",
    "\n",
    "    assignments = assignmentsList['Assignments']\n",
    "    item['assignments_submitted_count'] = len(assignments)\n",
    "\n",
    "    answers = []\n",
    "    for assignment in assignments:\n",
    "        \n",
    "        \n",
    "        \n",
    "        # Retreive the attributes for each Assignment\n",
    "        worker_id = assignment['WorkerId']\n",
    "        assignment_id = assignment['AssignmentId']\n",
    "        \n",
    "        # Retrieve the value submitted by the Worker from the XML\n",
    "        answer_dict = xmltodict.parse(assignment['Answer'])\n",
    "        answer = answer_dict['QuestionFormAnswers']['Answer']['FreeText']\n",
    "        answer_dict['worker'] = worker_id\n",
    "        answer_dict['answer'] = answer\n",
    "        answers.append(answer_dict)\n",
    "        \n",
    "        \n",
    "        workser_work = {\n",
    "            \"answer\": answer,\n",
    "            \"known_answer\": item['known_answer'],\n",
    "            \"assignment_id\": assignment['AssignmentId'],\n",
    "            \"status\": assignment['AssignmentStatus'],\n",
    "            \"tweet\": item['tweet'],\n",
    "        }\n",
    "        if worker_id in workers:\n",
    "            workers[worker_id].append(workser_work)\n",
    "        else:\n",
    "            workers[worker_id] = [workser_work]\n",
    "        \n",
    "        # Approve the Assignment (if it hasn't already been approved)\n",
    "        #if assignment['AssignmentStatus'] == 'Submitted':\n",
    "        #    client.approve_assignment(\n",
    "        #        AssignmentId=assignment_id,\n",
    "        #        OverrideRejection=False\n",
    "        #    )\n",
    "    \n",
    "    # Add the answers that have been retrieved for this item\n",
    "    item['answers'] = answers\n",
    "\n",
    "\n",
    "print('\\nDone')"
   ]
  },
  {
   "cell_type": "code",
   "execution_count": 307,
   "metadata": {},
   "outputs": [
    {
     "name": "stdout",
     "output_type": "stream",
     "text": [
      "./active_hits-v1-argumentative-res-2379498895443566127.json\n"
     ]
    }
   ],
   "source": [
    "def freeze(o):\n",
    "    if isinstance(o,dict):\n",
    "        return frozenset({ k:freeze(v) for k,v in o.items()}.items())\n",
    "\n",
    "    if isinstance(o,list):\n",
    "        return tuple([freeze(v) for v in o])\n",
    "\n",
    "    return o\n",
    "file_name = f'./active_hits-v1-argumentative-res-{hash(freeze(results))}.json'\n",
    "with open(file_name, 'w') as fout:\n",
    "    json.dump(results, fout)\n",
    "print(file_name)"
   ]
  },
  {
   "cell_type": "code",
   "execution_count": 260,
   "metadata": {},
   "outputs": [
    {
     "name": "stdout",
     "output_type": "stream",
     "text": [
      "./workers-3003139998663480200.json\n"
     ]
    }
   ],
   "source": [
    "\n",
    "\n",
    "file_name = f'./workers-{hash(freeze(workers))}.json'\n",
    "\n",
    "with open(file_name, 'w') as fout:\n",
    "    json.dump(workers, fout)\n",
    "\n",
    "print(file_name)"
   ]
  },
  {
   "cell_type": "code",
   "execution_count": 268,
   "metadata": {},
   "outputs": [],
   "source": [
    "with open('./workers-3003139998663480200.json', 'r') as fout:\n",
    "    workers = json.load(fout)\n",
    "\n"
   ]
  },
  {
   "cell_type": "code",
   "execution_count": 269,
   "metadata": {},
   "outputs": [
    {
     "name": "stdout",
     "output_type": "stream",
     "text": [
      "A1FPCIKO68OQ63 597 0\n",
      "A1FPCIKO68OQ63 91 58 13 0.6373626373626373 0.7802197802197802\n",
      "A16DOX0X2E9XBI 578 0\n",
      "A16DOX0X2E9XBI 89 34 13 0.38202247191011235 0.5280898876404494\n",
      "A3GUJ6JD25FX7O 366 0\n",
      "A3GUJ6JD25FX7O 58 42 8 0.7241379310344828 0.8620689655172413\n",
      "AMWIBULQ4S8K3 502 0\n",
      "AMWIBULQ4S8K3 71 27 13 0.38028169014084506 0.5633802816901409\n",
      "A3QZMGTVA4VO44 61 0\n",
      "A3QZMGTVA4VO44 8 5 2 0.625 0.875\n",
      "A1IU5OP7BBZHZ7 201 0\n",
      "A1IU5OP7BBZHZ7 30 16 5 0.5333333333333333 0.7\n",
      "A3760PCQD2MPIO 46 0\n",
      "A3760PCQD2MPIO 8 1 1 0.125 0.25\n",
      "A37WXDYYT7RCZ0 168 0\n",
      "A37WXDYYT7RCZ0 22 20 1 0.9090909090909091 0.9545454545454546\n",
      "A2LN42YO5UY41W 52 0\n",
      "A2LN42YO5UY41W 9 8 1 0.8888888888888888 1.0\n",
      "AUGRDUEDEUXUS 68 0\n",
      "AUGRDUEDEUXUS 13 4 3 0.3076923076923077 0.5384615384615384\n",
      "ABY1RK8H6HC8C 14 0\n",
      "ABY1RK8H6HC8C 3 1 1 0.3333333333333333 0.6666666666666666\n",
      "A1NF6PELRKACS9 85 0\n",
      "A1NF6PELRKACS9 15 10 1 0.6666666666666666 0.7333333333333333\n",
      "A3B9OZQTE4US3T 2 0\n",
      "A31Z5TPD8QKE26 77 0\n",
      "A31Z5TPD8QKE26 7 4 1 0.5714285714285714 0.7142857142857143\n",
      "A25UMSG5I4A82E 55 0\n",
      "A25UMSG5I4A82E 7 6 0 0.8571428571428571 0.8571428571428571\n",
      "A1GKEEI844CEKI 33 0\n",
      "A1GKEEI844CEKI 5 4 1 0.8 1.0\n",
      "A264NN7JBX4UDQ 44 0\n",
      "A264NN7JBX4UDQ 7 2 1 0.2857142857142857 0.42857142857142855\n",
      "A376F1W1MTY3J 11 0\n",
      "A376F1W1MTY3J 4 3 0 0.75 0.75\n",
      "A17D6BK59S31BM 1 0\n",
      "A33TFZWRGY3ASF 7 0\n",
      "A33TFZWRGY3ASF 1 1 0 1.0 1.0\n",
      "A34HSCZ1PZCDY0 1 0\n",
      "A34HSCZ1PZCDY0 1 1 0 1.0 1.0\n",
      "A3P7M9666KJCP 7 0\n",
      "A2MPA5OAT635HG 5 0\n",
      "A1G96GPSRSLPC0 2 0\n",
      "A36QYJDZBOQ5PQ 10 0\n",
      "A36QYJDZBOQ5PQ 3 3 0 1.0 1.0\n",
      "A2Z7EG2D3CPBGW 1 0\n",
      "A3SLY0SJLJZ0J1 2 0\n",
      "A3SLY0SJLJZ0J1 2 1 0 0.5 0.5\n",
      "A3JN18TC8GL3IH 1 0\n",
      "A3KU8DC7HJOGCM 1 0\n",
      "A1Y3PSVSU557SW 2 0\n",
      "A1Y3PSVSU557SW 1 1 0 1.0 1.0\n",
      "Total number annotated 3000 out of 3000 number approved 2839\n"
     ]
    }
   ],
   "source": [
    "total_anno = 0\n",
    "total_approved = 0\n",
    "for worker in workers:\n",
    "    work = workers[worker]\n",
    "    num_known = 0\n",
    "    num_correct = 0\n",
    "    num_lacks_ctx = 0\n",
    "    num_unapproved = 0\n",
    "    \n",
    "    for assign in work:\n",
    "        if assign['status'] == 'Submitted':\n",
    "            num_unapproved = num_unapproved + 1\n",
    "        if assign['status'] == 'Approved':\n",
    "            total_approved = total_approved + 1\n",
    "            \n",
    "        if not pd.isnull(assign['known_answer']):\n",
    "            num_known = num_known + 1\n",
    "            if assign['known_answer'] == '0' and assign['answer'] == 'not argumentative':\n",
    "                num_correct = num_correct + 1\n",
    "            if assign['known_answer'] == '1' and assign['answer'] == 'argumentative':\n",
    "                num_correct = num_correct + 1\n",
    "            if assign['known_answer'] == 'lacks context':\n",
    "                num_lacks_ctx = num_lacks_ctx + 1\n",
    "    total_anno = total_anno +len(work) \n",
    "    if num_unapproved > 0 or True:\n",
    "        print(worker, len(work), num_unapproved)\n",
    "        if num_known > 0:\n",
    "            print(worker, num_known, num_correct, num_lacks_ctx, num_correct/num_known, (num_correct+num_lacks_ctx)/num_known)\n",
    "print('Total number annotated', total_anno, 'out of', len(results)*5, 'number approved', total_approved)"
   ]
  },
  {
   "cell_type": "code",
   "execution_count": 262,
   "metadata": {},
   "outputs": [],
   "source": [
    "#results[0]"
   ]
  },
  {
   "cell_type": "code",
   "execution_count": 305,
   "metadata": {},
   "outputs": [
    {
     "name": "stdout",
     "output_type": "stream",
     "text": [
      "<MENTION> <MENTION> She seem to be working 16hrs a day, 7days a week. What food does she eat? | not argumentative | 33UKMF931L7FX734Y1U65JIA75TTTX\n",
      "------------------------------\n",
      "<MENTION> <MENTION> <MENTION> My ancestors have been making vegan meat alternatives for thousands of years. Miss me with that “standard” bullshit when you really mean “white” | not argumentative | 3BF51CHDT7XOCPFI05P77PDHZ02H00\n",
      "------------------------------\n",
      "Vegetarian maybe but not vegan | not argumentative | 3U8YCDAGX131PIELJVC1G35IQNU0QB\n",
      "------------------------------\n",
      "<MENTION> I gen need a good coffee recipe for my fucking sweet tooth 😭 I absolutely CANNOT have black coffee | not argumentative | 3C44YUNSIDCAOQE0VUL7V5ZRFGGPD1\n",
      "------------------------------\n",
      "<MENTION> I thought you were going to say in light of food shortage Biden says we would all be getting a ration of Soylent Green.. | not argumentative | 3EQHHY4HQ4F97068D5D13KX71805GA\n",
      "------------------------------\n",
      "<MENTION> <MENTION> <MENTION> <MENTION> <MENTION> <MENTION> <MENTION> <MENTION> <MENTION> <MENTION> <MENTION> <MENTION> <MENTION> <MENTION> <MENTION> <MENTION> <MENTION> <MENTION> <MENTION> <MENTION> I watch it every year at least once! Ah thank you, I live in hope of a vegan warrior... | not argumentative | 3LRKMWOKBH4HZKIQLEZSQKA1SO3Z2S\n",
      "------------------------------\n",
      "<MENTION> <MENTION> <MENTION> Go plant based | not argumentative | 3OUYGIZWRJLGP6D6JIXCGYF8LRCP0D\n",
      "------------------------------\n",
      "best comfort food award goes to cookies n cream and green piattos! | not argumentative | 3QUO65DNQ6BEKSDL2PYHG5YPRBEUOY\n",
      "------------------------------\n",
      "<MENTION> It’s pretty good, although the recipe called for fire roasting a poblano on a gas stove, but the closest I could get was my broiler. Next time I’d use more poblano, and maybe also throw some other peppers in there for some more spice. | not argumentative | 3TK8OJTYMD8WI7EMMFL11R5YFNKVP6\n",
      "------------------------------\n",
      "<MENTION> Thank you, I do eat vegetables, fruits as well. And drink a lot of water. Getting there. Loosing a bit of weight, as was before starting | not argumentative | 3DYGAII7PXV4DZI50GRRV46QYV6PQ7\n",
      "------------------------------\n",
      "<MENTION> <MENTION> <MENTION> *(hint: this is why Saudi Arabia won't give a shit to increase production to help sanction Russia) | not argumentative | 3YOH7BII0LUV7GH69NGT5AJZLDJKVZ\n",
      "------------------------------\n",
      "<MENTION> <MENTION> <MENTION> <MENTION> <MENTION> I’ll add the Blind Donkey to this as well as Gladstone’s (note: within the circuit and make reservations) is a solid dinner spot. Ballast Point nearby is a solid brewery/food option with a gorgeous sunset view on the water. | not argumentative | 33NF62TLXVPMGLHCSY2A2M85QQAKJC\n",
      "------------------------------\n",
      "Imagine being a horse girl. Like there are so many non-horse meat alternatives | not argumentative | 3TY7ZAOG5R7FEFGQ6QS4KHT9RH70KO\n",
      "------------------------------\n",
      "do anybody else be cooking n think ew I should stop eating meat or is it just me | not argumentative | 3907X2AHFCSNLGGKY51QZM8NIPWP2X\n",
      "------------------------------\n",
      "<MENTION> <MENTION> <MENTION> Plant based steaks.. mind you.. | not argumentative | 3I2PTA7R35H328LPNOMJZNKR4L3QKA\n",
      "------------------------------\n",
      "<MENTION> <MENTION> <MENTION> <MENTION> Because they have adopted American eating patterns you mean? Highly processed junk.. mainly plant based. | not argumentative | 3KAKFY4PG6PKPCPZPAPB9ZC32P03I9\n",
      "------------------------------\n",
      "<MENTION> Shut dfp girl\n",
      "Ao can u say beans is ur worst food nd full a bucket lik dat still add energy drink join\n",
      "Be careful I dey quick vex ooo | not argumentative | 3A7Y0R2P20BS0LGJRHHZSGG7MZPJX0\n",
      "------------------------------\n",
      "<MENTION> <MENTION> Shail saab indian cars riders are not bothered about Rs 120 petrol rate. Those people who go by public transport ther are facing real problems with fuel price hike normal citizen paying more vegetables fruits cargo transports. RS 140 tak jayega is saal may. Abhi election nahi hai | not argumentative | 31N2WW6R93D0FLN9O2JQ62ZBMX9F3V\n",
      "------------------------------\n",
      "<MENTION> <MENTION> Doesn't matter, you can combine them with other different plant based food items in a balanced PB diet. \n",
      "Lentils also provide all ESSENTIAL amino acids.\n",
      "\n",
      "Protein quality is a non issue on PB diets if a range of foods are combined, just like they should be. | not argumentative | 34YB12FSQAB7F7RE54UNKM8TN3MMGD\n",
      "------------------------------\n",
      "<MENTION> <MENTION> <MENTION> Many fruit &amp; veg (which contain natural acid) don’t trigger flare ups- The list is long and varied (obs this may not apply to you) but after a little digging I found some doctors do reccomend a plant based diet to ease the inflammation. Going meatless is even recommended by ICA | not argumentative | 3MAOD8E572XOJB746F9RLNXOVJUXNI\n",
      "------------------------------\n",
      "gonna buy some meat alternatives at the vegan shop ! | not argumentative | 3SB5N7Y3OFRACTK7GZ7PMP1GK0Q0GL\n",
      "------------------------------\n",
      "<MENTION> <MENTION> <MENTION> If meat alternatives become viable, it may be that meat farming is no longer even profitable, and the govt won't have to regulate anything. | not argumentative | 3XC1O3LBO49REUVZPSSFJS8TDS5LTK\n",
      "------------------------------\n",
      "<MENTION> Vegetarian for over 30 years; vegan for 6 yrs. 3 of my 6 kiddos vegan for the same time. | not argumentative | 3GFK2QRXXL454MW8SAHJPNJVVWOW5Y\n",
      "------------------------------\n",
      "<MENTION> Best and most inexpensive is a plant-based diet. Eliminate meat, dairy and eggs and your grocery bill will be reduced significantly. | not argumentative | 3H7Z272LXJUTM22S8BJVEI7WOPNPLM\n",
      "------------------------------\n",
      "<MENTION> I know. Some Thai restaurants think fish is vegetarian, others think goat cheese is vegan! | not argumentative | 3D4CH1LGEMGS8N8KGVQIF029N4H9G3\n",
      "------------------------------\n",
      "<MENTION> <MENTION> Haha they taste too good to leave, I promise! 😂 I’ve been perfecting the sugar cookie recipe so they’re soft and not too crunchy! | not argumentative | 3HFNH7HEMT1Y0MP6XX141VSYX4JQG4\n",
      "------------------------------\n",
      "<MENTION> I don't have a problem with vegans or veganism. What I do have a problem with are the judgemental and way too often racist vegans that use it to act superior to others. | not argumentative | 3X66WABAJ856TLJ4ZMP8ONZNNC63GF\n",
      "------------------------------\n",
      "<MENTION> <MENTION> Vegan diets are not per se better for the planet vs good quality locally sourced food. (This is coming from a vegetarian working in ecological sustainability) | not argumentative | 31Q0U3WYD12RQPUOJF7VUH7XQP817H\n",
      "------------------------------\n",
      "<MENTION> I’d live on only fruits &amp; vegetables before I subsisted on any plant based meat product. TF is wrong with people. The rube goldberg of human diets.\n",
      "\n",
      "Moobs are not a good look there Bill. | not argumentative | 3TYCR1GOTO6N064YVKHX5G9AYOPLZY\n",
      "------------------------------\n",
      "<MENTION> It's really that simple, some people actually say men don't want to be vegan because they think it makes them less of a man\n",
      "\n",
      "No I'm plenty fine with eating vegetables I just like meat too and would go crazy without it | not argumentative | 3N2BF7Y2V2HLF3MPPAC55MKU23ZHM7\n",
      "------------------------------\n",
      "<MENTION> <MENTION> the FLAVOR IS WHAT MATTERS. green is so much flavorful and brings out the best in food. | not argumentative | 3CTOC39K3JDYL6AS94D1YH3JK677JQ\n",
      "------------------------------\n",
      "The snowflakes have cancelled April Fools Day, instead carbon taxes and electric vehicles charged with electricity generated by burning coal makes fools of us everyday… | not argumentative | 3B2X28YI3829ZNYB22VSUFKAHQJ6BA\n",
      "------------------------------\n",
      "<MENTION> <MENTION> <MENTION> <MENTION> <MENTION> <MENTION> Yeah because American producers won't increase production, instead they are rewarding their investors. | not argumentative | 3Y9N9SS8LAY3H19DXWO0I2WQAKR3D6\n",
      "------------------------------\n",
      "<MENTION> Mal:*sigh*\n",
      "\n",
      "Mal: *rub his stomach* you hungry baby? What do you want mama to eat?\n",
      "\n",
      "Indo: A mother should eat healthy food you know. *Pat Mal* I will go grab some vegetables and fruits.\n",
      "\n",
      "Pili: they seem pretty close these days. I wonder why?? I should check ! | not argumentative | 3TAYZSBPLXVKY8WCQM5KURDY592S2F\n",
      "------------------------------\n",
      "<MENTION> <MENTION> <MENTION> My whole point was that she equated veganism to a cesspool blah blah blah.  Just a terrible random description to make her point.  Who really cares?  \n",
      "\n",
      "People just try so hard they sound silly is all I’m saying. | not argumentative | 3OVR4I9US16IO6WM2WZ3S6VV7ZE4QZ\n",
      "------------------------------\n",
      "<MENTION> investment into global food production millions of square miles are available for farming but nobody wants to use it because of drought for 1.2 bn a decelanation plant with solar power plant to run it to re energize the ground water will enable food production | not argumentative | 3ZDAD0O1TD0MEOCO3BV3UM3GK1GTXF\n",
      "------------------------------\n"
     ]
    }
   ],
   "source": [
    "# A3QZMGTVA4VO44 rejection, way too many obious misses\n",
    "# A34HSCZ1PZCDY0 rejection, not wrong answer on single tweet check\n",
    "# A1G96GPSRSLPC0 rejection, Wrong answers\n",
    "\n",
    "check_workers_work('A3760PCQD2MPIO', True)\n",
    "# Example The UK meat industry is sustainable, however, the problem lies with other countries, clearing vast areas of forest and other vegitation, which naturally help the environment, to make way for unsustainable farming methods and ending up unable to raise livestock or grow crops.\n",
    "#approve_work('A3760PCQD2MPIO', True)\n",
    "#reject_work('A1G96GPSRSLPC0', 'Wrong annotations for too few hits, after manual look over')"
   ]
  },
  {
   "cell_type": "code",
   "execution_count": 304,
   "metadata": {},
   "outputs": [],
   "source": [
    "def approve_work(worker, forced = False):\n",
    "    work = workers[worker]\n",
    "    num_approved = 0\n",
    "    for assign in work:\n",
    "        if assign['status'] == 'Submitted' or forced:\n",
    "            print('\\r', 'Approving', num_approved + 1, end='')\n",
    "            num_approved = num_approved + 1\n",
    "            client.approve_assignment(\n",
    "                AssignmentId=assign['assignment_id'],\n",
    "                OverrideRejection=True\n",
    "            )\n",
    "            assign['status'] = 'Approved'\n",
    "            \n",
    "def reject_work(worker, reason):\n",
    "    work = workers[worker]\n",
    "    num_rejected = 0\n",
    "    for assign in work:\n",
    "        if assign['status'] == 'Submitted':\n",
    "            print('\\r', 'Rejecting', num_rejected + 1, end='')\n",
    "            num_rejected = num_rejected + 1\n",
    "            client.reject_assignment(\n",
    "                AssignmentId=assign['assignment_id'],\n",
    "                RequesterFeedback=reason\n",
    "            )\n",
    "            assign['status'] = 'Rejected'\n",
    "            \n",
    "def check_workers_work(worker, check_all = False):\n",
    "    work = workers[worker]\n",
    "    num_approved = 0\n",
    "    for assign in work:\n",
    "        if (assign['status'] == 'Submitted' or check_all) and assign['answer'] == 'not argumentative':\n",
    "            print(assign['tweet'], '|', assign['answer'], '|', assign['assignment_id'])\n",
    "            print('-'*30)"
   ]
  },
  {
   "cell_type": "code",
   "execution_count": 275,
   "metadata": {},
   "outputs": [],
   "source": [
    "#reject_work('AUGRDUEDEUXUS', 'You failed to achive at least 40% agreement with known annotations. Thank you for participation')\n",
    "#approve_work('A3GUJ6JD25FX7O')"
   ]
  },
  {
   "cell_type": "code",
   "execution_count": null,
   "metadata": {},
   "outputs": [],
   "source": [
    "if num_known > 4 and False:\n",
    "        for assign in work:\n",
    "            if num_correct/num_known > 0.65:\n",
    "                client.approve_assignment(\n",
    "                    AssignmentId=assign['assignment_id'],\n",
    "                    OverrideRejection=False\n",
    "                )\n",
    "            else:\n",
    "                client.reject_assignment(\n",
    "                    AssignmentId=assign['assignment_id'],\n",
    "                    RequesterFeedback=\"You failed to achive at least 70% agreement with known annotations\"\n",
    "                )"
   ]
  }
 ],
 "metadata": {
  "kernelspec": {
   "display_name": "Python 3 (ipykernel)",
   "language": "python",
   "name": "python3"
  },
  "language_info": {
   "codemirror_mode": {
    "name": "ipython",
    "version": 3
   },
   "file_extension": ".py",
   "mimetype": "text/x-python",
   "name": "python",
   "nbconvert_exporter": "python",
   "pygments_lexer": "ipython3",
   "version": "3.8.5"
  }
 },
 "nbformat": 4,
 "nbformat_minor": 4
}
