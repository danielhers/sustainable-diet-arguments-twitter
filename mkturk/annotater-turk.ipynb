{
 "cells": [
  {
   "cell_type": "code",
   "execution_count": 1,
   "metadata": {},
   "outputs": [],
   "source": [
    "import boto3\n",
    "import xmltodict\n",
    "from datetime import datetime\n",
    "import json\n",
    "import pandas as pd\n",
    "import numpy as np\n",
    "import pyemoji\n",
    "import html\n",
    "\n",
    "class DateTimeEncoder(json.JSONEncoder):\n",
    "    def default(self, o):\n",
    "        if isinstance(o, datetime):\n",
    "            return o.isoformat()\n",
    "\n",
    "        return json.JSONEncoder.default(self, o)"
   ]
  },
  {
   "cell_type": "code",
   "execution_count": 2,
   "metadata": {},
   "outputs": [],
   "source": [
    "def approve_work(worker, forced = False):\n",
    "    work = workers[worker]\n",
    "    num_approved = 0\n",
    "    for assign in work:\n",
    "        if assign['status'] == 'Submitted' or forced:\n",
    "            print('\\r', 'Approving', num_approved + 1, end='')\n",
    "            num_approved = num_approved + 1\n",
    "            client.approve_assignment(\n",
    "                AssignmentId=assign['assignment_id'],\n",
    "                OverrideRejection=True\n",
    "            )\n",
    "            assign['status'] = 'Approved'\n",
    "            \n",
    "        \n",
    "def approve_worker(worker, QualificationTypeId):\n",
    "    client.associate_qualification_with_worker(WorkerId=worker, QualificationTypeId = QualificationTypeId, IntegerValue = 1)\n",
    "\n",
    "def block_worker(worker, reason):\n",
    "    client.create_worker_block(WorkerId=worker, Reason = reason)\n",
    "    \n",
    "def reject_work(worker, reason):\n",
    "    work = workers[worker]\n",
    "    num_rejected = 0\n",
    "    for assign in work:\n",
    "        if assign['status'] == 'Submitted':\n",
    "            print('\\r', 'Rejecting', num_rejected + 1, end='')\n",
    "            num_rejected = num_rejected + 1\n",
    "            client.reject_assignment(\n",
    "                AssignmentId=assign['assignment_id'],\n",
    "                RequesterFeedback=reason\n",
    "            )\n",
    "            assign['status'] = 'Rejected'\n",
    "            \n",
    "def check_workers_work(worker, check_all = False):\n",
    "    work = workers[worker]\n",
    "    num_approved = 0\n",
    "    for assign in work:\n",
    "        if (assign['status'] == 'Submitted' or check_all):\n",
    "            print(assign['topic'], '|', assign['tweet'], '|', assign['answer'].split('|'), '|', assign['assignment_id'])\n",
    "            print('-'*30)\n",
    "            \n",
    "def dump_json(data, file_name):\n",
    "    with open(f'./{file_name}.json', 'w') as fout:\n",
    "        json.dump(data, fout, cls=DateTimeEncoder)\n",
    "        \n",
    "def read_json(file_name):\n",
    "    with open(f'./{file_name}.json', 'r') as fout:\n",
    "        return json.load(fout)"
   ]
  },
  {
   "cell_type": "code",
   "execution_count": 3,
   "metadata": {},
   "outputs": [],
   "source": [
    "create_hits_in_production = True\n",
    "environments = {\n",
    "        \"production\": {\n",
    "            \"endpoint\": \"https://mturk-requester.us-east-1.amazonaws.com\",\n",
    "            \"preview\": \"https://www.mturk.com/mturk/preview\"\n",
    "        },\n",
    "        \"sandbox\": {\n",
    "            \"endpoint\": \"https://mturk-requester-sandbox.us-east-1.amazonaws.com\",\n",
    "            \"preview\": \"https://workersandbox.mturk.com/mturk/preview\"\n",
    "        },\n",
    "}\n",
    "mturk_environment = environments[\"production\"] if create_hits_in_production else environments[\"sandbox\"]\n",
    "\n",
    "client = boto3.client(\n",
    "    service_name='mturk',\n",
    "    region_name='us-east-1',\n",
    "    endpoint_url=mturk_environment['endpoint'],\n",
    ")"
   ]
  },
  {
   "cell_type": "code",
   "execution_count": 4,
   "metadata": {},
   "outputs": [
    {
     "name": "stdout",
     "output_type": "stream",
     "text": [
      "1180.20\n"
     ]
    }
   ],
   "source": [
    "# This will return your current MTurk balance if you are connected to Production.\n",
    "# If you are connected to the Sandbox it will return $10,000.\n",
    "print(client.get_account_balance()['AvailableBalance'])"
   ]
  },
  {
   "cell_type": "code",
   "execution_count": 5,
   "metadata": {},
   "outputs": [],
   "source": [
    "df = pd.read_csv('claims-large.csv')\n",
    "#df_ignore = pd.read_csv('./argumentative.csv')"
   ]
  },
  {
   "cell_type": "code",
   "execution_count": 6,
   "metadata": {},
   "outputs": [],
   "source": [
    "html_layout = open('./evidence.html', 'r').read()\n",
    "QUESTION_XML = \"\"\"<HTMLQuestion xmlns=\"http://mechanicalturk.amazonaws.com/AWSMechanicalTurkDataSchemas/2011-11-11/HTMLQuestion.xsd\">\n",
    "        <HTMLContent><![CDATA[{}]]></HTMLContent>\n",
    "        <FrameHeight>1000</FrameHeight>\n",
    "        </HTMLQuestion>\"\"\"\n",
    "question_xml = QUESTION_XML.format(html_layout)"
   ]
  },
  {
   "cell_type": "code",
   "execution_count": 7,
   "metadata": {},
   "outputs": [],
   "source": [
    "Items_to_annotate = 5#len(df)\n",
    "\n",
    "#qualification = read_json('qualification_claim_main')\n",
    "\n",
    "Qualifications = [\n",
    "    #{\n",
    "    #    'QualificationTypeId': qualification['QualificationType']['QualificationTypeId'],\n",
    "    #    'Comparator': 'Exists',\n",
    "    #    'ActionsGuarded': 'DiscoverPreviewAndAccept'\n",
    "    #},\n",
    "    \n",
    "    { # Masters qualification\n",
    "        #'QualificationTypeId': '2ARFPLSP75KLA8M8DH1HTEQVJT3SY6', # Masters qualification sandbox\n",
    "        'QualificationTypeId': '2F1QJWKUDD8XADTFD2Q0G6UTO95ALH', # Masters qualification production\n",
    "        'Comparator': 'Exists'\n",
    "    }\n",
    "]\n",
    "\n",
    "\n",
    "MaxAssignments = 5\n",
    "\n",
    "TaskAttributes = {\n",
    "    #'MaxAssignments': 5,                 \n",
    "    'LifetimeInSeconds': 60*60*24,         # How long the task will be available on the MTurk website (24 hours)\n",
    "    'AssignmentDurationInSeconds': 60*10,   # How long Workers have to complete each item (5 minutes)\n",
    "    'Reward': '0.03',                      # The reward you will offer Workers for each response\n",
    "    'Title': 'Classify tweets',\n",
    "    'Keywords': 'classification, tweet',\n",
    "    'Description': 'Classify tweets for the type of evidence they contain in relation to topics for debates and arguments',\n",
    "    'QualificationRequirements': Qualifications,\n",
    "}\n"
   ]
  },
  {
   "cell_type": "code",
   "execution_count": 8,
   "metadata": {},
   "outputs": [],
   "source": [
    "known_tweets = read_json('known_evidence')\n",
    "first_round_annotatinos = read_json('evidence_first_round')\n",
    "second_round_annotations = read_json('evidence_second_round')\n",
    "\n",
    "tweet_num_done = {\n",
    "    \n",
    "}\n",
    "\n",
    "known_tweets_dict = {}\n",
    "\n",
    "for tweet in known_tweets:\n",
    "    if tweet != None:\n",
    "        key = tweet['tweet'] + tweet['topic']\n",
    "        known_tweets_dict[key] = tweet['evidence']\n",
    "        \n",
    "for tweet in [*first_round_annotatinos, *second_round_annotations]:\n",
    "    key = tweet['tweet'] + tweet['topic']\n",
    "    if len(tweet['answers']) > 0:\n",
    "        if key not in tweet_num_done:\n",
    "            tweet_num_done[key] = len(tweet['answers'])\n",
    "        else:\n",
    "            tweet_num_done[key] = tweet_num_done[key] + len(tweet['answers'])"
   ]
  },
  {
   "cell_type": "code",
   "execution_count": 9,
   "metadata": {},
   "outputs": [
    {
     "data": {
      "text/plain": [
       "3392"
      ]
     },
     "execution_count": 9,
     "metadata": {},
     "output_type": "execute_result"
    }
   ],
   "source": [
    "sum(list(tweet_num_done.values()))"
   ]
  },
  {
   "cell_type": "code",
   "execution_count": 10,
   "metadata": {},
   "outputs": [
    {
     "name": "stdout",
     "output_type": "stream",
     "text": [
      "819\n"
     ]
    }
   ],
   "source": [
    "results = []\n",
    "\n",
    "\n",
    "def encode_tweet(tweet):\n",
    "    return str(html.escape(tweet).replace('\\n', '<br/>').encode('ascii', 'xmlcharrefreplace')).replace(\"b'\", '')[:-1]\n",
    "\n",
    "def expand_set(df):\n",
    "    df = df.drop_duplicates(subset=['id'])\n",
    "    topics_en_v2 = [\n",
    "        \"We should reduce the consumption of meat\",\n",
    "        \"Plant based food should be encouraged\",\n",
    "        \"Meat alternatives should be encouraged\",\n",
    "        \"Vegan and vegetarian diets should be encouraged\",\n",
    "        \"We should pursue policies that promote sustainable foods\"\n",
    "    ]\n",
    "\n",
    "    df_rec = []\n",
    "    for r in df.to_dict('records'):\n",
    "        for topic in topics_en_v2:\n",
    "            rec = r.copy()\n",
    "            rec['topic'] = topic\n",
    "            df_rec.append(rec)\n",
    "            \n",
    "    return pd.DataFrame(df_rec).sample(frac=1)\n",
    "\n",
    "df_set = df[df.claim > 0]#[~df.id.isin(df_ignore.id)]#pd.concat([df.drop(columns=['claim']), df_known]).sample(frac=1)\n",
    "# known_answers = read_json('known_claims')\n",
    "df_set_sample = df_set.sample(frac=1)#.sample(len(df_set)))\n",
    "#df_set_sample.to_csv('active_hits_tweets.csv')\n",
    "print(len(df_set_sample))"
   ]
  },
  {
   "cell_type": "code",
   "execution_count": 11,
   "metadata": {},
   "outputs": [
    {
     "name": "stdout",
     "output_type": "stream",
     "text": [
      "Estimated cost: 26.5734 $\n"
     ]
    }
   ],
   "source": [
    "reward = float(TaskAttributes['Reward'])\n",
    "amazon_tax = 1.2 # 20 % fee for amazon https://www.mturk.com/pricing\n",
    "masters_fee = 1.05 # 5 % fee for amazon masters\n",
    "\n",
    "print('Estimated cost:', (len(df_set_sample)*MaxAssignments-sum(list(tweet_num_done.values()))) * (reward*amazon_tax*masters_fee), '$')"
   ]
  },
  {
   "cell_type": "code",
   "execution_count": 12,
   "metadata": {},
   "outputs": [
    {
     "data": {
      "text/plain": [
       "703"
      ]
     },
     "execution_count": 12,
     "metadata": {},
     "output_type": "execute_result"
    }
   ],
   "source": [
    "(len(df_set_sample)*MaxAssignments-sum(list(tweet_num_done.values())))"
   ]
  },
  {
   "cell_type": "code",
   "execution_count": 13,
   "metadata": {},
   "outputs": [],
   "source": [
    "def try_answers(tweet, topic):\n",
    "    key = tweet+topic\n",
    "    if key in tweet_num_done:\n",
    "        return tweet_num_done[key]\n",
    "    return 0\n",
    "\n",
    "def known_answer(tweet, topic):\n",
    "    key = tweet+topic\n",
    "    if key in known_tweets_dict:\n",
    "        return known_tweets_dict[key]\n",
    "    return None\n",
    "\n",
    "\n",
    "\n",
    "\n",
    "def create_hits(data, offset = 0):\n",
    "    results = []\n",
    "    total_assignments = 0\n",
    "    for i, row in enumerate(data[offset:]):\n",
    "        print('\\rCreating hit for tweet number', offset + i + 1, end='')\n",
    "        num_assig = MaxAssignments-try_answers(row['tweet'], row['topic'])\n",
    "        if num_assig > 0:\n",
    "            total_assignments = total_assignments + num_assig\n",
    "\n",
    "            response = client.create_hit(\n",
    "                **TaskAttributes,\n",
    "                MaxAssignments=num_assig,\n",
    "                Question=question_xml.replace('${tweet}',encode_tweet(row['tweet'])).replace('${topic}', encode_tweet(row['topic']))\n",
    "            )\n",
    "            hit_type_id = response['HIT']['HITTypeId']\n",
    "            results.append({\n",
    "                'tweet': row['tweet'],\n",
    "                'topic': row['topic'],\n",
    "                'hit_id': response['HIT']['HITId'],\n",
    "                'known_answer': known_answer(row['tweet'], row['topic'])\n",
    "            })\n",
    "\n",
    "    print(\"\\nYou can view the HITs here:\")\n",
    "    link = mturk_environment['preview'] + \"?groupId={}\".format(hit_type_id)\n",
    "    print(link)\n",
    "    return results, link, total_assignments"
   ]
  },
  {
   "cell_type": "code",
   "execution_count": 331,
   "metadata": {},
   "outputs": [],
   "source": [
    "#for i, hit in enumerate(results):\n",
    "#    print('\\rDeleting hit for tweet number',i + 1, end='')\n",
    "#    client.update_expiration_for_hit(\n",
    "#        HITId=hit['hit_id'],\n",
    "#        ExpireAt=datetime(2015, 1, 1)\n",
    "#    )"
   ]
  },
  {
   "cell_type": "code",
   "execution_count": 332,
   "metadata": {},
   "outputs": [
    {
     "name": "stdout",
     "output_type": "stream",
     "text": [
      "Creating hit for tweet number 819\n",
      "You can view the HITs here:\n",
      "https://www.mturk.com/mturk/preview?groupId=3RY3YOAA7ZQFIIM9698OVWE5A0F27K\n"
     ]
    }
   ],
   "source": [
    "results, link, total_assignments = create_hits(df_set_sample.to_dict('records'))\n",
    "#results, link, total_assignments = create_hits(list(filter(lambda x: x != None, known_tweets)))"
   ]
  },
  {
   "cell_type": "code",
   "execution_count": 21,
   "metadata": {},
   "outputs": [],
   "source": [
    "#client.update_qualification_type(\n",
    "#    QualificationTypeId=qualification['QualificationType']['QualificationTypeId'],\n",
    "#    Description=f'{qualification[\"QualificationType\"][\"Description\"]} | When you get this qualification you can find a bigger annotation job here {link}',\n",
    "#)\n",
    "total_assignments"
   ]
  },
  {
   "cell_type": "code",
   "execution_count": 333,
   "metadata": {},
   "outputs": [],
   "source": [
    "with open('./active_hits-v3-evidence.json', 'w') as fout:\n",
    "    json.dump(results, fout)"
   ]
  },
  {
   "cell_type": "code",
   "execution_count": 14,
   "metadata": {},
   "outputs": [],
   "source": [
    "with open('./active_hits-v3-evidence.json', 'r') as fout:\n",
    "    results = json.load(fout)"
   ]
  },
  {
   "cell_type": "code",
   "execution_count": 26,
   "metadata": {},
   "outputs": [
    {
     "name": "stdout",
     "output_type": "stream",
     "text": [
      " Gathering results for hit num 354\n",
      "Done\n"
     ]
    }
   ],
   "source": [
    "workers = {\n",
    "    \n",
    "}\n",
    "\n",
    "offset_for_gather = 0\n",
    "\n",
    "for i, item in enumerate(results[offset_for_gather:]):\n",
    "    print('\\r', 'Gathering results for hit num', offset_for_gather + i + 1, end='')\n",
    "    # Get the status of the HIT\n",
    "    hit = client.get_hit(HITId=item['hit_id'])\n",
    "    item['status'] = hit['HIT']['HITStatus']\n",
    "\n",
    "    # Get a list of the Assignments that have been submitted by Workers\n",
    "    assignmentsList = client.list_assignments_for_hit(\n",
    "        HITId=item['hit_id'],\n",
    "        AssignmentStatuses=['Submitted', 'Approved'],#, 'Rejected'],\n",
    "        MaxResults=10\n",
    "    )\n",
    "\n",
    "    assignments = assignmentsList['Assignments']\n",
    "    item['assignments_submitted_count'] = len(assignments)\n",
    "\n",
    "    answers = []\n",
    "    for assignment in assignments:\n",
    "        \n",
    "        \n",
    "        \n",
    "        # Retreive the attributes for each Assignment\n",
    "        worker_id = assignment['WorkerId']\n",
    "        assignment_id = assignment['AssignmentId']\n",
    "        \n",
    "        # Retrieve the value submitted by the Worker from the XML\n",
    "        answer_dict = xmltodict.parse(assignment['Answer'])\n",
    "        answer = answer_dict['QuestionFormAnswers']['Answer']['FreeText']\n",
    "        answer_dict['worker'] = worker_id\n",
    "        answer_dict['answer'] = answer\n",
    "        answers.append(answer_dict)\n",
    "        \n",
    "        \n",
    "        workser_work = {\n",
    "            \"answer\": answer,\n",
    "            \"known_answer\": item['known_answer'],\n",
    "            \"assignment_id\": assignment['AssignmentId'],\n",
    "            \"status\": assignment['AssignmentStatus'],\n",
    "            \"tweet\": item['tweet'],\n",
    "            \"topic\": item['topic'],\n",
    "        }\n",
    "        if worker_id in workers:\n",
    "            workers[worker_id].append(workser_work)\n",
    "        else:\n",
    "            workers[worker_id] = [workser_work]\n",
    "        \n",
    "        # Approve the Assignment (if it hasn't already been approved)\n",
    "        #if assignment['AssignmentStatus'] == 'Submitted':\n",
    "        #    client.approve_assignment(\n",
    "        #        AssignmentId=assignment_id,\n",
    "        #        OverrideRejection=False\n",
    "        #    )\n",
    "    \n",
    "    # Add the answers that have been retrieved for this item\n",
    "    item['answers'] = answers\n",
    "\n",
    "\n",
    "print('\\nDone')"
   ]
  },
  {
   "cell_type": "code",
   "execution_count": 27,
   "metadata": {},
   "outputs": [],
   "source": [
    "def mapper(tweet_dict):\n",
    "    topic = df_set_sample[df_set_sample.tweet == tweet_dict['tweet']].head(1).topic.values[0]\n",
    "    if len(tweet_dict['answers']) > 0:\n",
    "        return {\n",
    "            'tweet': tweet_dict['tweet'],\n",
    "            'topic': topic,\n",
    "            'evidence': tweet_dict['answers'][0]['QuestionFormAnswers']['Answer']['FreeText']\n",
    "        }\n",
    "\n",
    "#dump_json(list(map(mapper, results)), 'known_evidence')"
   ]
  },
  {
   "cell_type": "code",
   "execution_count": 28,
   "metadata": {},
   "outputs": [
    {
     "name": "stdout",
     "output_type": "stream",
     "text": [
      "./active_production_hits-v1-claim-res--4760697775114063540.json\n"
     ]
    }
   ],
   "source": [
    "def freeze(o):\n",
    "    if isinstance(o,dict):\n",
    "        return frozenset({ k:freeze(v) for k,v in o.items()}.items())\n",
    "\n",
    "    if isinstance(o,list):\n",
    "        return tuple([freeze(v) for v in o])\n",
    "\n",
    "    return o\n",
    "file_name = f'./active_{\"production\" if create_hits_in_production else \"sandbox\"}_hits-v1-claim-res-{hash(freeze(results))}.json'\n",
    "with open(file_name, 'w') as fout:\n",
    "    json.dump(results, fout)\n",
    "print(file_name)"
   ]
  },
  {
   "cell_type": "code",
   "execution_count": 29,
   "metadata": {},
   "outputs": [
    {
     "name": "stdout",
     "output_type": "stream",
     "text": [
      "./workers-7331574588752615339.json\n"
     ]
    }
   ],
   "source": [
    "\n",
    "\n",
    "file_name = f'./workers-{hash(freeze(workers))}.json'\n",
    "\n",
    "with open(file_name, 'w') as fout:\n",
    "    json.dump(workers, fout)\n",
    "\n",
    "print(file_name)"
   ]
  },
  {
   "cell_type": "code",
   "execution_count": 19,
   "metadata": {},
   "outputs": [],
   "source": [
    "#with open('./workers-3003139998663480200.json', 'r') as fout:\n",
    "#    workers = json.load(fout)\n"
   ]
  },
  {
   "cell_type": "code",
   "execution_count": 25,
   "metadata": {},
   "outputs": [
    {
     "name": "stdout",
     "output_type": "stream",
     "text": [
      "Topics \n",
      "Total number annotated 701 out of 703 number approved 701\n"
     ]
    }
   ],
   "source": [
    "total_anno = 0\n",
    "total_approved = 0\n",
    "\n",
    "\n",
    "print('Topics ')\n",
    "for worker in workers:\n",
    "    work = workers[worker]\n",
    "    num_unapproved = 0\n",
    "    answer_dist = {'no evidence': 0, 'normative': 0, 'expert': 0, 'anecdotal': 0, 'study': 0, 'fact': 0}\n",
    "    num_answer_made = 0\n",
    "    num_hits_made = 0\n",
    "    num_known = 0\n",
    "    num_correct = 0\n",
    "    num_partial_correct = 0\n",
    "    num_wrong_answer = 0\n",
    "    \n",
    "    for assign in work:\n",
    "        num_hits_made = num_hits_made + 1\n",
    "        ans  = assign['answer']\n",
    "        num_answer_made = num_answer_made + 1 \n",
    "        if assign['status'] == 'Submitted':\n",
    "            num_unapproved = num_unapproved + 1\n",
    "        if assign['status'] == 'Approved':\n",
    "            total_approved = total_approved + 1\n",
    "        \n",
    "        answer_dist[ans] = answer_dist[ans] + 1\n",
    "        \n",
    "        if not assign['known_answer'] == None:\n",
    "            known = assign['known_answer']#.split('|')\n",
    "            num_known = num_known + 1\n",
    "            \n",
    "            \n",
    "            num_correct = num_correct + (ans == known)\n",
    "            if ans != 'no evidence' and known != 'no evidence' and known != ans:\n",
    "                num_partial_correct = num_partial_correct + 1\n",
    "            else:\n",
    "                num_wrong_answer = num_wrong_answer + (ans != known)\n",
    "        \n",
    "            \n",
    "    total_anno = total_anno + len(work) \n",
    "    if num_unapproved > 0:\n",
    "        \n",
    "        print(worker, f\"Hits made {num_hits_made}, number unapproved: {num_unapproved}, distribution:\")\n",
    "        print(worker, f\"no evidence: {np.around(answer_dist['no evidence']/num_answer_made, 2)} normative: {np.around(answer_dist['normative']/num_answer_made, 2)} expert: {np.around(answer_dist['expert']/num_answer_made,2)} study: {np.around(answer_dist['study']/num_answer_made,2)} anecdotal: {np.around(answer_dist['anecdotal']/num_answer_made,2)} fact: {np.around(answer_dist['fact']/num_answer_made,2)}\")\n",
    "        if num_known > 0:\n",
    "            print(worker, num_known, num_answer_made, 'num_correct', num_correct, 'num_partial_correct',num_partial_correct, 'num_wrong_answer',num_wrong_answer, num_correct/num_known, (num_correct + num_partial_correct)/num_known, num_wrong_answer/num_known)\n",
    "        else: \n",
    "            print(worker, num_known, num_answer_made, num_correct, num_wrong_answer)\n",
    "        print('')\n",
    "print('Total number annotated', total_anno, 'out of', total_assignments, 'number approved', total_approved)\n"
   ]
  },
  {
   "cell_type": "code",
   "execution_count": 355,
   "metadata": {
    "scrolled": true
   },
   "outputs": [
    {
     "name": "stdout",
     "output_type": "stream",
     "text": [
      "Plant based food should be encouraged | years ago, id be glad to see so many alternative meat options. now, i’m HIGHLY skeptical of plant-based meat. have y’all even read the ingredients on em???? | ['anecdotal'] | 3DYGAII7PXV4DZI50GRRV46Q1YJQPU\n",
      "------------------------------\n",
      "Meat alternatives should be encouraged | <MENTION> <MENTION> <MENTION> Cease meat production.. | ['no evidence'] | 3AMYWKA6YN9TIHNK670E0ZK9RSD6OY\n",
      "------------------------------\n",
      "Meat alternatives should be encouraged | <MENTION> <MENTION> <MENTION> <MENTION> Then again all the other issues we have brought up with veganism that we have already explained many people would get sick or at least suffer of malnutrition if they tried veganism on their own as such it is morally acceptable for then ask people to buy and eat meat | ['normative'] | 3KMS4QQVKED6BJVG98BPNOGD0M5KFU\n",
      "------------------------------\n",
      "We should pursue policies that promote sustainable foods | <MENTION> I think eating a plant based diet is fantastic, I also see merits to consuming bugs from a sustainability standpoint. I'm also all for banning eating mammals. But personally, I'm not a fan of tribalism - us vs them mentality. It's what lead to the greatest tragedies in history. | ['anecdotal'] | 3AAPLD8UCO4PSYC9Y7DHR0FMZE8TH6\n",
      "------------------------------\n",
      "Plant based food should be encouraged | <MENTION> Stop packed food.\n",
      "Check liver problems.\n",
      "Eat salad and fruits, less of grains.\n",
      "Stop meat, milk and egg.\n",
      "Patanjali Lipidom.\n",
      "Always have disprin tab with you in case of any pain.\n",
      "In case of pain 1 disprin 325 mg+ 40 mg rovustatin+ 150 mg clopidrogel as emergency  treatment. | ['anecdotal'] | 386CSBG1OB9W3T00LKSIP4F96TU6Q5\n",
      "------------------------------\n",
      "Vegan and vegetarian diets should be encouraged | <MENTION> My reason for becomming a vegan. | ['anecdotal'] | 358010RM5QG1RGGD86VIV4R1KP8VXI\n",
      "------------------------------\n",
      "We should pursue policies that promote sustainable foods | <MENTION> <MENTION> I agree that we should eliminate as many processed foods from our diet and increase our consumption of vegetables, fruits, nuts, seeds, and lean proteins.  But what many are missing is the value of exercise.  If you eat healthier and exercise regularly the weight will come off. | ['anecdotal'] | 33M4IA01QSO9Y9ZWZMQ8U72YZJVXRR\n",
      "------------------------------\n",
      "Vegan and vegetarian diets should be encouraged | <MENTION> <MENTION> <MENTION> When top athletes become vegan they tend to have good nutritional advice - so they eat the basic unprocessed stuff like whole grains, fibrous veg, pea proteins, lentils, beans etc. This stuff also tends to be a lot cheaper than processed replacement meats. | ['fact'] | 3QEMNNSB29MLIKA0Z8RQVJ86IPP7D0\n",
      "------------------------------\n",
      "Vegan and vegetarian diets should be encouraged | <MENTION> <MENTION> Healthy skepticism v open mind .\n",
      "I have a healthy skepticism of vegamism.\n",
      "Crystals I’ve seen have good effects and help people. Veganism mostly makes people zealous, proselytizing, self-righteous, and ill | ['anecdotal'] | 3M81GAB8AC6295HVHB9Q0K11KU4QB9\n",
      "------------------------------\n",
      "Meat alternatives should be encouraged | <MENTION> <MENTION> I can agree with everything you just except said the meat thing...we should be doubling the pasture raised beef production. | ['anecdotal'] | 3RUIQRXJBNB3VHNUGJQOX1YCMIVLL2\n",
      "------------------------------\n",
      "Vegan and vegetarian diets should be encouraged | <MENTION> Carbon Taxes “work” because you have less money to buy stuff resulting in less stuff being consumed thus generating less CO2 | ['fact'] | 3EA3QWIZ4UIPOTNT4PV2RCG1ZRNITO\n",
      "------------------------------\n",
      "We should pursue policies that promote sustainable foods | <MENTION> <MENTION> Well, I agree, thank you for sharing. Now, Let us talk about diversity of food, which kind of policies ensures sustainable production and consumption? How can we influence formulation and implementation of such policies?  <MENTION> <MENTION> <MENTION> #FoodPolicy. | ['anecdotal'] | 3WJEQKOXAKP99RSMQIJF489NU0T1AW\n",
      "------------------------------\n",
      "Plant based food should be encouraged | <MENTION> <MENTION> Doesn't matter, you can combine them with other different plant based food items in a balanced PB diet. \n",
      "Lentils also provide all ESSENTIAL amino acids.\n",
      "\n",
      "Protein quality is a non issue on PB diets if a range of foods are combined, just like they should be. | ['fact'] | 38BQUHLA98NV7K8CTN7VPVHVHSRMON\n",
      "------------------------------\n",
      "Vegan and vegetarian diets should be encouraged | At some point it’s just healthier to have the actual non vegan foods than that lab made “plant based” bullshit that my stomach can’t digest lmao | ['anecdotal'] | 3II4UPYCOVUVO2FFV70WVAP1NFHQDH\n",
      "------------------------------\n",
      "Vegan and vegetarian diets should be encouraged | <MENTION> <MENTION> The very reason why meat is cheap is coz everyone is exploited in its production.\n",
      "Its also heavily subsidized by govt coz it indirectly also supports the big pharma..\n",
      "\n",
      "Its a hell hole.. | ['no evidence'] | 31Q0U3WYD12RQPUOJF7VUH7XTSM174\n",
      "------------------------------\n",
      "We should reduce the consumption of meat | The more of you that become vegans, the less I need to worry about steak &amp; egg shortages. I won't convince you anyway. Thanks for your sacrifice. #vegan #vegetarian #carnivore | ['anecdotal'] | 31QNSG6A53G91PE9I0GA9RU57YS78U\n",
      "------------------------------\n",
      "We should pursue policies that promote sustainable foods | <MENTION> <MENTION> Shit is crazy to me lol I get the ethical ideas behind veganism but no one could ever convince me its an optimal way of eating for human health lol | ['anecdotal'] | 3QAVNHZ3EYRMZYWQJS1YONI1S6WLAK\n",
      "------------------------------\n",
      "Vegan and vegetarian diets should be encouraged | Number 1 reason why I'm not vegan:\n",
      "\n",
      "Nutrients, baby. | ['normative'] | 3OS46CRSLRMO81WH7JMSVREHNL9V6O\n",
      "------------------------------\n",
      "We should reduce the consumption of meat | <MENTION> Low quality meat products is the reason. Thanks to all Arab dishes and hormone injected and formalin treated meat.\n",
      "Stop eating non-veg..no other option. | ['normative'] | 3WRFBPLXRMBC3D0QMQ23E78KRR63NA\n",
      "------------------------------\n",
      "Vegan and vegetarian diets should be encouraged | <MENTION> So it works with every fruits and vegetables or some of them | ['normative'] | 3PJUZCGDJI3DF822XXEUNNLB2OG988\n",
      "------------------------------\n",
      "Vegan and vegetarian diets should be encouraged | <MENTION> Great reason to switch to vegetarian. | ['normative'] | 3U4J9857OQYS3NCGLC0K0TK6F4DB7X\n",
      "------------------------------\n",
      "Meat alternatives should be encouraged | <MENTION> Idk how people here are not even taking into the account that some of us cannot eat red meat/meat in general due to the harmful effects it has on our bodies. Yes sir I’m TOTALLY eating alternatives because I wanna look cool and eating beyond/veggie stuff tells you I miss meat 🙄 | ['anecdotal'] | 3483FV8BEQ6FBAYFJ92HTMH6QNG26N\n",
      "------------------------------\n",
      "Plant based food should be encouraged | If you can’t afford the high price of ethically raised/farmed free range or grass fed cheese/eggs/fish or meat then go vegetarian. The vegan obsession with making animal’s lives so much better than your own or other humans is misplaced, inhumane and ridiculous! | ['anecdotal'] | 3RU7GD8VP0GGQFXISKGWQ4LRJM5PSJ\n",
      "------------------------------\n",
      "Meat alternatives should be encouraged | <MENTION> <MENTION> Doesn't matter, you can combine them with other different plant based food items in a balanced PB diet. \n",
      "Lentils also provide all ESSENTIAL amino acids.\n",
      "\n",
      "Protein quality is a non issue on PB diets if a range of foods are combined, just like they should be. | ['fact'] | 3BDCF01OG9HNVGUTZYFER908VX0YL8\n",
      "------------------------------\n",
      "Meat alternatives should be encouraged | <MENTION> <MENTION> The very reason why meat is cheap is coz everyone is exploited in its production.\n",
      "Its also heavily subsidized by govt coz it indirectly also supports the big pharma..\n",
      "\n",
      "Its a hell hole.. | ['normative'] | 32RIADZIS4RU1MBZU0O8N6AWSQ9S4V\n",
      "------------------------------\n",
      "We should reduce the consumption of meat | Leave people and their food choices alone. Just because you don’t eat pork or red meat doesn’t mean the world has to stop eating it too. Love that for you but I will continue to enjoy my pork chops and ribeyes. | ['normative'] | 39GXDJN2O51BCFF50YJQF5A8TGY8VM\n",
      "------------------------------\n",
      "We should reduce the consumption of meat | <MENTION> No like ur 100% spot on. Meat also does not have a good texture. And I’m not even vegetarian (would gladly give up non-fish meats but the body goes on the fritz without meat) | ['anecdotal'] | 3EG49X3516ZGCQ1C7YNAJCB23WGX6S\n",
      "------------------------------\n",
      "Vegan and vegetarian diets should be encouraged | <MENTION> Why are their fruits on a vegetable list | ['normative'] | 3OXV7EAXLQD4WSUYN9GMCWMYW1I634\n",
      "------------------------------\n",
      "Plant based food should be encouraged | <MENTION> Straight talk-\n",
      "This should open the eyes of the people and government of India.\n",
      "Russia-US do not need the support of any country.\n",
      "India is not a vegetable market.\n",
      "All we need is an increase in domestic production and research and development. | ['fact'] | 3F6KKYWMNNOAL52NFF8FRGUWI4TNDQ\n",
      "------------------------------\n",
      "Vegan and vegetarian diets should be encouraged | <MENTION> <MENTION> Wht If all veg peoples just stop breathing the air all animals breathing out too.\n",
      "\n",
      "Well... all meat shops should b inside, I agree! Not in open.\n",
      "For this u can raise! Nt for shift all shop or temp. Ban etc.\n",
      "I need meat on daily basis, same way u need veg, wht to do? | ['anecdotal'] | 3F6HPJW4JPND5PDLARFLRGGJEPAW2J\n",
      "------------------------------\n",
      "We should pursue policies that promote sustainable foods | <MENTION> <MENTION> The fastest solution is to change how we eat. The agricultural systems has to change to a more horticultural system, where we focus on building systems that function with nature. Forests are the greatest carbon sink, and they promote biodiversity and sustainable food systems. | ['normative'] | 30LSNF2396IV4UTGLAB6QP7BZEB2IH\n",
      "------------------------------\n",
      "We should reduce the consumption of meat | <MENTION> <MENTION> I can agree with everything you just except said the meat thing...we should be doubling the pasture raised beef production. | ['anecdotal'] | 3MMN5BL1WBR6LVFQAPN31SJKM1VM3S\n",
      "------------------------------\n",
      "We should reduce the consumption of meat | <MENTION> <MENTION> This sounds like wishful thinking. It would be so convenient if everyone's favourite food was the healthiest. Life is not so nice and brutal reality sets in. \n",
      "\n",
      "No, you can't eat only meat and veggies and be healthy. And no, eating too much meat is not ethical. Sorry guys | ['normative'] | 31Z0PCVWUW2SZ96XLYR50NQSLBCT74\n",
      "------------------------------\n",
      "We should pursue policies that promote sustainable foods | <MENTION> <MENTION> <MENTION> And many more dedicated meat options too. Looking quickly I'd suggest you're likely to see vegetarian options more often because the (UK) population is 11% vegetarian and only 1.2% vegan, nearly 10 times less and it's not that profitable catering to such a small minority. | ['fact'] | 33NF62TLXVPMGLHCSY2A2M85TTMJKW\n",
      "------------------------------\n",
      "We should pursue policies that promote sustainable foods | <MENTION> Good point about the poor chickens 😭  that's why I support plant based diet 🌿 | ['anecdotal'] | 30IQTZXKAWTLYFFX597TAB1BQTW0XW\n",
      "------------------------------\n",
      "We should reduce the consumption of meat | <MENTION> <MENTION> <MENTION> <MENTION> That is nothing that the carbon tax was introduced for. \n",
      "\n",
      "So cancel it and change to something else to actually help the environment. | ['normative'] | 3HMIGG0U4XTSG9AA596AM4E2BX38YY\n",
      "------------------------------\n",
      "We should pursue policies that promote sustainable foods | <MENTION> Im going to increase my intake of red meat cause climate change is the biggest hoax going | ['anecdotal'] | 32VNZTT0AJRI07BMFBO3XW506ORR47\n",
      "------------------------------\n",
      "Vegan and vegetarian diets should be encouraged | <MENTION> <MENTION> I agree that we should eliminate as many processed foods from our diet and increase our consumption of vegetables, fruits, nuts, seeds, and lean proteins.  But what many are missing is the value of exercise.  If you eat healthier and exercise regularly the weight will come off. | ['fact'] | 3VJ40NV2QUAZKFYW2K87B9CNB0MTOU\n",
      "------------------------------\n",
      "Vegan and vegetarian diets should be encouraged | <MENTION> No like ur 100% spot on. Meat also does not have a good texture. And I’m not even vegetarian (would gladly give up non-fish meats but the body goes on the fritz without meat) | ['anecdotal'] | 38F71OA9G5J117VJUKO5218HPR0MF1\n",
      "------------------------------\n",
      "Vegan and vegetarian diets should be encouraged | <MENTION> This generation you speak of will never exist. Meat alternatives are not sustainable. We’d also have to euthanize animals to get them back in a controlled population effectively killing more than the meat industry will. So 🤷‍♂️ | ['fact'] | 3IJXV6UZ196C8EA100Q7RXFJB6QRIK\n",
      "------------------------------\n",
      "Meat alternatives should be encouraged | Imagine being a horse girl. Like there are so many non-horse meat alternatives | ['normative'] | 388U7OUMFJO11JTLWA11LTFNPCC0R1\n",
      "------------------------------\n",
      "Vegan and vegetarian diets should be encouraged | <MENTION> V*gans are valid, but absolutely need to stop trying to make fake meat. I get the idea of \"but some kid or other would feel left out at a cookout\", but the thing is, it's nearly always awful, and that taste and texture causes people to shy away from the idea of being v*gan. 1/ | ['anecdotal'] | 33FOTY3KEY8X26PKAWF6A3ZBU3F1CZ\n",
      "------------------------------\n",
      "Vegan and vegetarian diets should be encouraged | <MENTION> <MENTION> <MENTION> <MENTION> Loudspeakers must be banned, open selling of meat, display of meat food bad,govts must prevent, stop pushcart vendors encroaching roads streets selling of poor quality vegitables fruits bad | ['normative'] | 3M68NM076TUWFUF0YZHIUUPE2FVR6Q\n",
      "------------------------------\n",
      "Plant based food should be encouraged | <MENTION> I thought you were going to say in light of food shortage Biden says we would all be getting a ration of Soylent Green.. | ['anecdotal'] | 3AQF3RZ55K5ZC4AR74HOD5BVZRM6FC\n",
      "------------------------------\n",
      "Vegan and vegetarian diets should be encouraged | <MENTION> \"Anti-vegan\"?\n",
      "You are against compassion for animals and caring for our shared environment? Remember, veganism isn't about healthy eating. It's about causing the least harm. | ['normative'] | 3NXNZ5RS1MK9FUXJNSMO9NPGR4C97N\n",
      "------------------------------\n",
      "We should pursue policies that promote sustainable foods | <MENTION> It's finding alternatives to dairy products, sometimes flour/wheat products, which are also more expensive. \"Meat is more expensive than produce\" is just another blanket statement that simply doesn't stand up to the vast range of dietary practices, per unit grocery prices, etc. | ['normative'] | 3XLBSAQ9ZGZOLLFWRQGNMBR967ZZ7R\n",
      "------------------------------\n",
      "Plant based food should be encouraged | <MENTION> I think there are 2 main reasons: \n",
      "\n",
      "1. Production is small scale for plant-based meats (comparatively)\n",
      "\n",
      "2. animal agriculture subsidies = low consumer cost for animal products\n",
      "\n",
      "I’ve read in a few places that they expect to lower prices by next yr by expanding manufacturing | ['fact'] | 3R5F3LQFVE7V6R7V8CXPXXD4WW9OZ6\n",
      "------------------------------\n",
      "We should pursue policies that promote sustainable foods | <MENTION> <MENTION> Wht If all veg peoples just stop breathing the air all animals breathing out too.\n",
      "\n",
      "Well... all meat shops should b inside, I agree! Not in open.\n",
      "For this u can raise! Nt for shift all shop or temp. Ban etc.\n",
      "I need meat on daily basis, same way u need veg, wht to do? | ['anecdotal'] | 30H4UDGLTE5DSKKD8NKAEVMLRXNPM7\n",
      "------------------------------\n",
      "Meat alternatives should be encouraged | Debate about choice of food, meat, no meat, meat butchered in a particular way, can’t eat this at ur home because it is an auspicious day for me ..should stop\n",
      "What tripe! \n",
      "If anything, outrage against unhealthy packaged stuff that’s fattening next gen &amp; clogging their coronaries | ['normative'] | 3E13VNJ1NZIOF9BK26BSL6X678XI1G\n",
      "------------------------------\n",
      "Plant based food should be encouraged | <MENTION> I am with you on this. Must be insanity to go to a plant based diet and then crave meat so much you fake it. | ['anecdotal'] | 3CFVK00FWX8LCWKNTFKM8IGFWN7L6V\n",
      "------------------------------\n",
      "Plant based food should be encouraged | Irrespective of the platform, consistency is the key to organic marketing. | ['normative'] | 3JMSRU9HQUHSLGPWD15Q7F6U4JWVE8\n",
      "------------------------------\n",
      "We should pursue policies that promote sustainable foods | <MENTION> <MENTION> Yep. I like meat but want to give it up so I can stop contributing negatively to the planet. I also want a farm someday. Solid meat alternatives make that more possible. Yall will be okay lol | ['anecdotal'] | 3U84XHCDIO0R2YXDPSIGJZ7ZF59Z47\n",
      "------------------------------\n",
      "We should pursue policies that promote sustainable foods | <MENTION> <MENTION> Healthy skepticism v open mind .\n",
      "I have a healthy skepticism of vegamism.\n",
      "Crystals I’ve seen have good effects and help people. Veganism mostly makes people zealous, proselytizing, self-righteous, and ill | ['anecdotal'] | 3TMSXRD2XIN6G4VPRNF7MX6EMJVW11\n",
      "------------------------------\n",
      "Plant based food should be encouraged | <MENTION> <MENTION> <MENTION> <MENTION> There's not a single nutrient you cannot get on an entirely plant-based diet. | ['normative'] | 39RP059METGBOQJ3PI29JBHWATABMA\n",
      "------------------------------\n",
      "Meat alternatives should be encouraged | <MENTION> <MENTION> The answer is yes, obesity by itself is unhealthy. It's biochemical. Fat cell signal and fail to signal inappropriately. So the lifestyle choices aren't necessarily the disease process. However the scenario you created, the first thing to do is to analyze that \"plant-based\" diet | ['fact'] | 3MMN5BL1WBR6LVFQAPN31SJKM1V3M9\n",
      "------------------------------\n",
      "We should pursue policies that promote sustainable foods | I fundamentally believe we have done this not as an alternative to food production but as an outcome in a symbiotic relationship with food production. Here are some examples | ['anecdotal'] | 3Z3ZLGNNSUHX6ADI2IUKI13PW2T3QX\n",
      "------------------------------\n",
      "Vegan and vegetarian diets should be encouraged | <MENTION> <MENTION> Thank you! I wish I could eat more veggies, grains, and legumes without being in pain afterward. Meat doesn't cause these issues for me. | ['anecdotal'] | 3TU5ZICBRPOJ77JOEZPG9IB0COKQ8B\n",
      "------------------------------\n",
      "Plant based food should be encouraged | dude there are so many good and legitimate reasons for not eating real meat. if someone finds it easier to wean off meat by having similar tasting alternatives then let! it! happen! | ['normative'] | 3MD9PLUKKU1DO67J7XXCI8DZ6M3NZP\n",
      "------------------------------\n",
      "Plant based food should be encouraged | <MENTION> I’d live on only fruits &amp; vegetables before I subsisted on any plant based meat product. TF is wrong with people. The rube goldberg of human diets.\n",
      "\n",
      "Moobs are not a good look there Bill. | ['anecdotal'] | 3U84XHCDIO0R2YXDPSIGJZ7ZF584ZB\n",
      "------------------------------\n",
      "We should pursue policies that promote sustainable foods | <MENTION> <MENTION> <MENTION> Cease meat production.. | ['no evidence'] | 34FNN24DCYW9TRR87BZ7AK4B97ZY5J\n",
      "------------------------------\n",
      "We should reduce the consumption of meat | <MENTION> Actually we don't care if it's halal or something. Why does that even matter if we eat meat? People need to stop involving politics in everything. | ['anecdotal'] | 3LKC68YZ3MQRCW2QXPDIYTJMFU5WOO\n",
      "------------------------------\n",
      "Meat alternatives should be encouraged | <MENTION> The U.S. could start with no longer subsidizing meat and dairy. That would be a move in the right direction. And also start subsidizing mobile farmers markets with organic produce in food deserts! 🥕 🥬 🍅 | ['normative'] | 3GLB5JMZF9I4BDL1SBVK1WLZHS7DG8\n",
      "------------------------------\n",
      "We should reduce the consumption of meat | <MENTION> Resemblance of vegetarian alternatives to actual meat products is a turnoff | ['anecdotal'] | 3WJ1OXY92M3RKRC7P3SUJIWV86Y8AM\n",
      "------------------------------\n",
      "Plant based food should be encouraged | like im sick so i have to eat a specific diet, i went with 90% whole food plant based but like sometimes i just be eating bunny food | ['anecdotal'] | 3KRVW3HTZZ8A5C0504O490RWEHUSMQ\n",
      "------------------------------\n"
     ]
    }
   ],
   "source": [
    "c_worker = 'A1GKEEI844CEKI'\n",
    "check_workers_work(c_worker)"
   ]
  },
  {
   "cell_type": "code",
   "execution_count": 356,
   "metadata": {},
   "outputs": [
    {
     "name": "stdout",
     "output_type": "stream",
     "text": [
      " Approving 64"
     ]
    }
   ],
   "source": [
    "approve_work(c_worker)"
   ]
  },
  {
   "cell_type": "code",
   "execution_count": 272,
   "metadata": {},
   "outputs": [],
   "source": [
    "block_worker(c_worker, 'Low quality work, and lots of misses it seems')"
   ]
  },
  {
   "cell_type": "code",
   "execution_count": null,
   "metadata": {},
   "outputs": [],
   "source": [
    "#reject_work(c_worker, 'Marking every tweet as unrelated or no claim is not quality work when there are misses such as  Thank you for participation')\n",
    "#approve_work('A3GUJ6JD25FX7O')"
   ]
  },
  {
   "cell_type": "code",
   "execution_count": 30,
   "metadata": {},
   "outputs": [],
   "source": [
    "dump_json(results, 'evidence_third_round')"
   ]
  },
  {
   "cell_type": "code",
   "execution_count": null,
   "metadata": {},
   "outputs": [],
   "source": []
  }
 ],
 "metadata": {
  "kernelspec": {
   "display_name": "Python 3 (ipykernel)",
   "language": "python",
   "name": "python3"
  },
  "language_info": {
   "codemirror_mode": {
    "name": "ipython",
    "version": 3
   },
   "file_extension": ".py",
   "mimetype": "text/x-python",
   "name": "python",
   "nbconvert_exporter": "python",
   "pygments_lexer": "ipython3",
   "version": "3.8.5"
  }
 },
 "nbformat": 4,
 "nbformat_minor": 4
}
