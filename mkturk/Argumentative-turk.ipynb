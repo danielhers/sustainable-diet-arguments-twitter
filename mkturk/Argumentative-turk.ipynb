{
 "cells": [
  {
   "cell_type": "code",
   "execution_count": 71,
   "metadata": {},
   "outputs": [],
   "source": [
    "import boto3\n",
    "import xmltodict\n",
    "import json\n",
    "import pandas as pd\n",
    "import pyemoji\n",
    "import html"
   ]
  },
  {
   "cell_type": "code",
   "execution_count": 72,
   "metadata": {},
   "outputs": [],
   "source": [
    "create_hits_in_production = False\n",
    "environments = {\n",
    "        \"production\": {\n",
    "            \"endpoint\": \"\",#\"https://mturk-requester.us-east-1.amazonaws.com\",\n",
    "            \"preview\": \"\",#\"https://www.mturk.com/mturk/preview\"\n",
    "        },\n",
    "        \"sandbox\": {\n",
    "            \"endpoint\": \"https://mturk-requester-sandbox.us-east-1.amazonaws.com\",\n",
    "            \"preview\": \"https://workersandbox.mturk.com/mturk/preview\"\n",
    "        },\n",
    "}\n",
    "mturk_environment = environments[\"production\"] if create_hits_in_production else environments[\"sandbox\"]\n",
    "\n",
    "client = boto3.client(\n",
    "    service_name='mturk',\n",
    "    region_name='us-east-1',\n",
    "    endpoint_url=mturk_environment['endpoint'],\n",
    ")"
   ]
  },
  {
   "cell_type": "code",
   "execution_count": 73,
   "metadata": {},
   "outputs": [
    {
     "name": "stdout",
     "output_type": "stream",
     "text": [
      "10000.00\n"
     ]
    }
   ],
   "source": [
    "# This will return your current MTurk balance if you are connected to Production.\n",
    "# If you are connected to the Sandbox it will return $10,000.\n",
    "print(client.get_account_balance()['AvailableBalance'])"
   ]
  },
  {
   "cell_type": "code",
   "execution_count": 74,
   "metadata": {},
   "outputs": [],
   "source": [
    "df = pd.read_csv('sample.csv')"
   ]
  },
  {
   "cell_type": "code",
   "execution_count": 78,
   "metadata": {},
   "outputs": [],
   "source": [
    "html_layout = open('./claim.html', 'r').read()\n",
    "QUESTION_XML = \"\"\"<HTMLQuestion xmlns=\"http://mechanicalturk.amazonaws.com/AWSMechanicalTurkDataSchemas/2011-11-11/HTMLQuestion.xsd\">\n",
    "        <HTMLContent><![CDATA[{}]]></HTMLContent>\n",
    "        <FrameHeight>650</FrameHeight>\n",
    "        </HTMLQuestion>\"\"\"\n",
    "question_xml = QUESTION_XML.format(html_layout)"
   ]
  },
  {
   "cell_type": "code",
   "execution_count": 79,
   "metadata": {},
   "outputs": [],
   "source": [
    "TaskAttributes = {\n",
    "    'MaxAssignments': 5,                 \n",
    "    'LifetimeInSeconds': 60*3,            # How long the task will be available on the MTurk website (1 hour)\n",
    "    'AssignmentDurationInSeconds': 60*10, # How long Workers have to complete each item (10 minutes)\n",
    "    'Reward': '0.05',                     # The reward you will offer Workers for each response\n",
    "    'Title': 'Classify tweets',\n",
    "    'Keywords': 'classify, tweet',\n",
    "    'Description': 'Classify tweets claims'\n",
    "}\n"
   ]
  },
  {
   "cell_type": "code",
   "execution_count": 80,
   "metadata": {},
   "outputs": [
    {
     "name": "stdout",
     "output_type": "stream",
     "text": [
      "You can view the HITs here:\n",
      "https://workersandbox.mturk.com/mturk/preview?groupId=34LHDG0NE61Q6J157QTWQ94XOW4SAS\n"
     ]
    }
   ],
   "source": [
    "results = []\n",
    "hit_type_id = ''\n",
    "\n",
    "\n",
    "def encode_tweet(tweet):\n",
    "    return str(html.escape(tweet).replace('\\n', '<br/>').encode('ascii', 'xmlcharrefreplace')).replace(\"b'\", '')[:-1]\n",
    "\n",
    "\n",
    "for row in df.head(5).to_dict('records'):\n",
    "    response = client.create_hit(\n",
    "        **TaskAttributes,\n",
    "        Question=question_xml.replace('${tweet}',encode_tweet(row['tweet'])).replace('${topic}', encode_tweet(row['topic']))\n",
    "    )\n",
    "    hit_type_id = response['HIT']['HITTypeId']\n",
    "    results.append({\n",
    "        'tweet': row['tweet'],\n",
    "        'hit_id': response['HIT']['HITId']\n",
    "    })\n",
    "    \n",
    "print(\"You can view the HITs here:\")\n",
    "print(mturk_environment['preview'] + \"?groupId={}\".format(hit_type_id))\n",
    "\n",
    "\n"
   ]
  },
  {
   "cell_type": "code",
   "execution_count": 70,
   "metadata": {},
   "outputs": [
    {
     "name": "stdout",
     "output_type": "stream",
     "text": [
      "[\n",
      "  {\n",
      "    \"tweet\": \"When u rent shit out, u still need permission on shit u bring. Food. Cakes. Balloons.  Bitch A BODY!! Yall need to get a fuckin clue. Green asses\",\n",
      "    \"hit_id\": \"3087LXLJ7X31C9QIFCRNAPGEGSA0F3\",\n",
      "    \"status\": \"Reviewable\",\n",
      "    \"assignments_submitted_count\": 0,\n",
      "    \"answers\": []\n",
      "  },\n",
      "  {\n",
      "    \"tweet\": \"<MENTION> <MENTION> 2/2 the cattle after all are eating plant material that just pulled a stack of carbon out of the atmosphere in that annual production cycle where emission were created. Very different to car that is generating emissions from fossil fuels . \\ud83e\\udd37\\ud83c\\udffc\\u200d\\u2642\\ufe0f\",\n",
      "    \"hit_id\": \"33EEIIWHLIUEWZH7WPQ67HAIHQVQVE\",\n",
      "    \"status\": \"Reviewable\",\n",
      "    \"assignments_submitted_count\": 1,\n",
      "    \"answers\": [\n",
      "      {\n",
      "        \"QuestionFormAnswers\": {\n",
      "          \"@xmlns\": \"http://mechanicalturk.amazonaws.com/AWSMechanicalTurkDataSchemas/2005-10-01/QuestionFormAnswers.xsd\",\n",
      "          \"Answer\": {\n",
      "            \"QuestionIdentifier\": \"argumentative\",\n",
      "            \"FreeText\": \"argumentative\"\n",
      "          }\n",
      "        }\n",
      "      }\n",
      "    ]\n",
      "  },\n",
      "  {\n",
      "    \"tweet\": \"<MENTION> Could you share the literature which supports that Irish beef and lamb production is low GHG compared with meat from non-ruminant animals? \\n\\nAnd will DAFM start recommending Irish people move towards a more plant-based diet on the basis of this report?\",\n",
      "    \"hit_id\": \"3H781YYV745AM4NDI3VRCIXJ12RTEP\",\n",
      "    \"status\": \"Reviewable\",\n",
      "    \"assignments_submitted_count\": 1,\n",
      "    \"answers\": [\n",
      "      {\n",
      "        \"QuestionFormAnswers\": {\n",
      "          \"@xmlns\": \"http://mechanicalturk.amazonaws.com/AWSMechanicalTurkDataSchemas/2005-10-01/QuestionFormAnswers.xsd\",\n",
      "          \"Answer\": {\n",
      "            \"QuestionIdentifier\": \"argumentative\",\n",
      "            \"FreeText\": \"not argumentative\"\n",
      "          }\n",
      "        }\n",
      "      }\n",
      "    ]\n",
      "  },\n",
      "  {\n",
      "    \"tweet\": \"<MENTION> <MENTION> <MENTION> <MENTION> Lol - and the wash post is the PR firm and Whole Foods is the official food supplier\",\n",
      "    \"hit_id\": \"3WRBLBQ2H2V7Q9MDQWX5SAGQH7A0G2\",\n",
      "    \"status\": \"Reviewable\",\n",
      "    \"assignments_submitted_count\": 0,\n",
      "    \"answers\": []\n",
      "  },\n",
      "  {\n",
      "    \"tweet\": \"Finished 3 hours of condensing Mediterranean Diet stuff!\\n\\nKey takeaways\\nAll fruits\\nAll vegetables\\nAll nuts and seeds\\nAll legumes\\nWhole grain\\nLean meat\\nEat with extra virgin olive oil\\nCook with light olive oil\\n\\nAvoid or limit\\nSat fat\\nTrans fat\\nAdded sugars of all types\",\n",
      "    \"hit_id\": \"3NOEP8XAVFPL0CLNWRCZVXHTS5HXPX\",\n",
      "    \"status\": \"Reviewable\",\n",
      "    \"assignments_submitted_count\": 0,\n",
      "    \"answers\": []\n",
      "  }\n",
      "]\n"
     ]
    }
   ],
   "source": [
    "for item in results:\n",
    "    \n",
    "    # Get the status of the HIT\n",
    "    hit = client.get_hit(HITId=item['hit_id'])\n",
    "    item['status'] = hit['HIT']['HITStatus']\n",
    "\n",
    "    # Get a list of the Assignments that have been submitted by Workers\n",
    "    assignmentsList = client.list_assignments_for_hit(\n",
    "        HITId=item['hit_id'],\n",
    "        AssignmentStatuses=['Submitted', 'Approved'],\n",
    "        MaxResults=10\n",
    "    )\n",
    "\n",
    "    assignments = assignmentsList['Assignments']\n",
    "    item['assignments_submitted_count'] = len(assignments)\n",
    "\n",
    "    answers = []\n",
    "    for assignment in assignments:\n",
    "    \n",
    "        # Retreive the attributes for each Assignment\n",
    "        worker_id = assignment['WorkerId']\n",
    "        assignment_id = assignment['AssignmentId']\n",
    "        \n",
    "        # Retrieve the value submitted by the Worker from the XML\n",
    "        answer_dict = xmltodict.parse(assignment['Answer'])\n",
    "        answer = answer_dict['QuestionFormAnswers']['Answer']['FreeText']\n",
    "        answers.append(answer_dict)\n",
    "        \n",
    "        # Approve the Assignment (if it hasn't already been approved)\n",
    "        if assignment['AssignmentStatus'] == 'Submitted':\n",
    "            client.approve_assignment(\n",
    "                AssignmentId=assignment_id,\n",
    "                OverrideRejection=False\n",
    "            )\n",
    "    \n",
    "    # Add the answers that have been retrieved for this item\n",
    "    item['answers'] = answers\n",
    "\n",
    "print(json.dumps(results,indent=2))"
   ]
  },
  {
   "cell_type": "code",
   "execution_count": null,
   "metadata": {},
   "outputs": [],
   "source": []
  }
 ],
 "metadata": {
  "kernelspec": {
   "display_name": "Python 3 (ipykernel)",
   "language": "python",
   "name": "python3"
  },
  "language_info": {
   "codemirror_mode": {
    "name": "ipython",
    "version": 3
   },
   "file_extension": ".py",
   "mimetype": "text/x-python",
   "name": "python",
   "nbconvert_exporter": "python",
   "pygments_lexer": "ipython3",
   "version": "3.8.5"
  }
 },
 "nbformat": 4,
 "nbformat_minor": 4
}
