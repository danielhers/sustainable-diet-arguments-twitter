{
 "cells": [
  {
   "cell_type": "code",
   "execution_count": 1,
   "metadata": {},
   "outputs": [],
   "source": [
    "import boto3\n",
    "import xmltodict\n",
    "from datetime import datetime\n",
    "import json\n",
    "import pandas as pd\n",
    "import numpy as np\n",
    "import pyemoji\n",
    "import html\n",
    "\n",
    "class DateTimeEncoder(json.JSONEncoder):\n",
    "    def default(self, o):\n",
    "        if isinstance(o, datetime):\n",
    "            return o.isoformat()\n",
    "\n",
    "        return json.JSONEncoder.default(self, o)"
   ]
  },
  {
   "cell_type": "code",
   "execution_count": 2,
   "metadata": {},
   "outputs": [],
   "source": [
    "def approve_work(worker, forced = False):\n",
    "    work = workers[worker]\n",
    "    num_approved = 0\n",
    "    for assign in work:\n",
    "        if assign['status'] == 'Submitted' or forced:\n",
    "            print('\\r', 'Approving', num_approved + 1, end='')\n",
    "            num_approved = num_approved + 1\n",
    "            client.approve_assignment(\n",
    "                AssignmentId=assign['assignment_id'],\n",
    "                OverrideRejection=True\n",
    "            )\n",
    "            assign['status'] = 'Approved'\n",
    "            \n",
    "        \n",
    "def approve_worker(worker, qualification):\n",
    "    client.associate_qualification_with_worker(WorkerId=worker, QualificationTypeId = qualification['QualificationType']['QualificationTypeId'], IntegerValue = 1)\n",
    "    \n",
    "def reject_worker(worker, qualification):\n",
    "    client.disassociate_qualification_from_worker(\n",
    "        WorkerId=worker,\n",
    "        QualificationTypeId = qualification['QualificationType']['QualificationTypeId'], \n",
    "        reason = 'Test disqualification'\n",
    "    )\n",
    "  \n",
    "def reject_work(worker, reason):\n",
    "    work = workers[worker]\n",
    "    num_rejected = 0\n",
    "    for assign in work:\n",
    "        if assign['status'] == 'Submitted':\n",
    "            print('\\r', 'Rejecting', num_rejected + 1, end='')\n",
    "            num_rejected = num_rejected + 1\n",
    "            client.reject_assignment(\n",
    "                AssignmentId=assign['assignment_id'],\n",
    "                RequesterFeedback=reason\n",
    "            )\n",
    "            assign['status'] = 'Rejected'\n",
    "            \n",
    "def check_workers_work(worker, check_all = False):\n",
    "    work = workers[worker]\n",
    "    num_approved = 0\n",
    "    for assign in work:\n",
    "        if (assign['status'] == 'Submitted' or check_all):\n",
    "            print(assign['tweet'], '|', assign['answer'], '|', assign['assignment_id'])\n",
    "            print('-'*30)\n",
    "            \n",
    "def dump_json(data, file_name):\n",
    "    with open(f'./{file_name}.json', 'w') as fout:\n",
    "        json.dump(data, fout, cls=DateTimeEncoder)\n",
    "        \n",
    "def read_json(file_name):\n",
    "    with open(f'./{file_name}.json', 'r') as fout:\n",
    "        return json.load(fout)\n",
    "    \n",
    "def get_requested_qualification(qualification): \n",
    "    return client.list_qualification_requests(\n",
    "        QualificationTypeId=qualification['QualificationType']['QualificationTypeId'],\n",
    "    )"
   ]
  },
  {
   "cell_type": "code",
   "execution_count": 3,
   "metadata": {},
   "outputs": [],
   "source": [
    "create_hits_in_production = True\n",
    "environments = {\n",
    "        \"production\": {\n",
    "            \"endpoint\": \"https://mturk-requester.us-east-1.amazonaws.com\",\n",
    "            \"preview\": \"https://www.mturk.com/mturk/preview\"\n",
    "        },\n",
    "        \"sandbox\": {\n",
    "            \"endpoint\": \"https://mturk-requester-sandbox.us-east-1.amazonaws.com\",\n",
    "            \"preview\": \"https://workersandbox.mturk.com/mturk/preview\"\n",
    "        },\n",
    "}\n",
    "mturk_environment = environments[\"production\"] if create_hits_in_production else environments[\"sandbox\"]\n",
    "\n",
    "client = boto3.client(\n",
    "    service_name='mturk',\n",
    "    region_name='us-east-1',\n",
    "    endpoint_url=mturk_environment['endpoint'],\n",
    ")"
   ]
  },
  {
   "cell_type": "code",
   "execution_count": 4,
   "metadata": {},
   "outputs": [
    {
     "name": "stdout",
     "output_type": "stream",
     "text": [
      "1412.04\n"
     ]
    }
   ],
   "source": [
    "# This will return your current MTurk balance if you are connected to Production.\n",
    "# If you are connected to the Sandbox it will return $10,000.\n",
    "print(client.get_account_balance()['AvailableBalance'])"
   ]
  },
  {
   "cell_type": "code",
   "execution_count": 5,
   "metadata": {},
   "outputs": [],
   "source": [
    "html_layout = open('./claim.html', 'r').read()\n",
    "QUESTION_XML = \"\"\"<HTMLQuestion xmlns=\"http://mechanicalturk.amazonaws.com/AWSMechanicalTurkDataSchemas/2011-11-11/HTMLQuestion.xsd\">\n",
    "        <HTMLContent><![CDATA[{}]]></HTMLContent>\n",
    "        <FrameHeight>650</FrameHeight>\n",
    "        </HTMLQuestion>\"\"\"\n",
    "question_xml = QUESTION_XML.format(html_layout)"
   ]
  },
  {
   "cell_type": "code",
   "execution_count": 6,
   "metadata": {},
   "outputs": [
    {
     "ename": "RequestError",
     "evalue": "An error occurred (RequestError) when calling the CreateQualificationType operation: You have already created a QualificationType with this name. A QualificationType's name must be unique among all of the QualificationTypes created by the same user. (1651833031855)",
     "output_type": "error",
     "traceback": [
      "\u001b[0;31m---------------------------------------------------------------------------\u001b[0m",
      "\u001b[0;31mRequestError\u001b[0m                              Traceback (most recent call last)",
      "\u001b[0;32m<ipython-input-6-e29657f8055e>\u001b[0m in \u001b[0;36m<module>\u001b[0;34m\u001b[0m\n\u001b[0;32m----> 1\u001b[0;31m qualification = client.create_qualification_type(\n\u001b[0m\u001b[1;32m      2\u001b[0m     \u001b[0mName\u001b[0m\u001b[0;34m=\u001b[0m\u001b[0;34m'Good at labeling tweets for claims'\u001b[0m\u001b[0;34m,\u001b[0m\u001b[0;34m\u001b[0m\u001b[0;34m\u001b[0m\u001b[0m\n\u001b[1;32m      3\u001b[0m     \u001b[0mKeywords\u001b[0m\u001b[0;34m=\u001b[0m\u001b[0;34m'tweet, tweets, labeling, classefication, twitter'\u001b[0m\u001b[0;34m,\u001b[0m\u001b[0;34m\u001b[0m\u001b[0;34m\u001b[0m\u001b[0m\n\u001b[1;32m      4\u001b[0m     \u001b[0mDescription\u001b[0m\u001b[0;34m=\u001b[0m\u001b[0;34m'The ability to accurately label tweets to relevant topics, for tweets containing potential claims.'\u001b[0m\u001b[0;34m,\u001b[0m\u001b[0;34m\u001b[0m\u001b[0;34m\u001b[0m\u001b[0m\n\u001b[1;32m      5\u001b[0m     \u001b[0mQualificationTypeStatus\u001b[0m\u001b[0;34m=\u001b[0m\u001b[0;34m'Active'\u001b[0m\u001b[0;34m,\u001b[0m\u001b[0;34m\u001b[0m\u001b[0;34m\u001b[0m\u001b[0m\n",
      "\u001b[0;32m~/anaconda3/lib/python3.8/site-packages/botocore/client.py\u001b[0m in \u001b[0;36m_api_call\u001b[0;34m(self, *args, **kwargs)\u001b[0m\n\u001b[1;32m    413\u001b[0m                     \"%s() only accepts keyword arguments.\" % py_operation_name)\n\u001b[1;32m    414\u001b[0m             \u001b[0;31m# The \"self\" in this scope is referring to the BaseClient.\u001b[0m\u001b[0;34m\u001b[0m\u001b[0;34m\u001b[0m\u001b[0;34m\u001b[0m\u001b[0m\n\u001b[0;32m--> 415\u001b[0;31m             \u001b[0;32mreturn\u001b[0m \u001b[0mself\u001b[0m\u001b[0;34m.\u001b[0m\u001b[0m_make_api_call\u001b[0m\u001b[0;34m(\u001b[0m\u001b[0moperation_name\u001b[0m\u001b[0;34m,\u001b[0m \u001b[0mkwargs\u001b[0m\u001b[0;34m)\u001b[0m\u001b[0;34m\u001b[0m\u001b[0;34m\u001b[0m\u001b[0m\n\u001b[0m\u001b[1;32m    416\u001b[0m \u001b[0;34m\u001b[0m\u001b[0m\n\u001b[1;32m    417\u001b[0m         \u001b[0m_api_call\u001b[0m\u001b[0;34m.\u001b[0m\u001b[0m__name__\u001b[0m \u001b[0;34m=\u001b[0m \u001b[0mstr\u001b[0m\u001b[0;34m(\u001b[0m\u001b[0mpy_operation_name\u001b[0m\u001b[0;34m)\u001b[0m\u001b[0;34m\u001b[0m\u001b[0;34m\u001b[0m\u001b[0m\n",
      "\u001b[0;32m~/anaconda3/lib/python3.8/site-packages/botocore/client.py\u001b[0m in \u001b[0;36m_make_api_call\u001b[0;34m(self, operation_name, api_params)\u001b[0m\n\u001b[1;32m    743\u001b[0m             \u001b[0merror_code\u001b[0m \u001b[0;34m=\u001b[0m \u001b[0mparsed_response\u001b[0m\u001b[0;34m.\u001b[0m\u001b[0mget\u001b[0m\u001b[0;34m(\u001b[0m\u001b[0;34m\"Error\"\u001b[0m\u001b[0;34m,\u001b[0m \u001b[0;34m{\u001b[0m\u001b[0;34m}\u001b[0m\u001b[0;34m)\u001b[0m\u001b[0;34m.\u001b[0m\u001b[0mget\u001b[0m\u001b[0;34m(\u001b[0m\u001b[0;34m\"Code\"\u001b[0m\u001b[0;34m)\u001b[0m\u001b[0;34m\u001b[0m\u001b[0;34m\u001b[0m\u001b[0m\n\u001b[1;32m    744\u001b[0m             \u001b[0merror_class\u001b[0m \u001b[0;34m=\u001b[0m \u001b[0mself\u001b[0m\u001b[0;34m.\u001b[0m\u001b[0mexceptions\u001b[0m\u001b[0;34m.\u001b[0m\u001b[0mfrom_code\u001b[0m\u001b[0;34m(\u001b[0m\u001b[0merror_code\u001b[0m\u001b[0;34m)\u001b[0m\u001b[0;34m\u001b[0m\u001b[0;34m\u001b[0m\u001b[0m\n\u001b[0;32m--> 745\u001b[0;31m             \u001b[0;32mraise\u001b[0m \u001b[0merror_class\u001b[0m\u001b[0;34m(\u001b[0m\u001b[0mparsed_response\u001b[0m\u001b[0;34m,\u001b[0m \u001b[0moperation_name\u001b[0m\u001b[0;34m)\u001b[0m\u001b[0;34m\u001b[0m\u001b[0;34m\u001b[0m\u001b[0m\n\u001b[0m\u001b[1;32m    746\u001b[0m         \u001b[0;32melse\u001b[0m\u001b[0;34m:\u001b[0m\u001b[0;34m\u001b[0m\u001b[0;34m\u001b[0m\u001b[0m\n\u001b[1;32m    747\u001b[0m             \u001b[0;32mreturn\u001b[0m \u001b[0mparsed_response\u001b[0m\u001b[0;34m\u001b[0m\u001b[0;34m\u001b[0m\u001b[0m\n",
      "\u001b[0;31mRequestError\u001b[0m: An error occurred (RequestError) when calling the CreateQualificationType operation: You have already created a QualificationType with this name. A QualificationType's name must be unique among all of the QualificationTypes created by the same user. (1651833031855)"
     ]
    }
   ],
   "source": [
    "qualification = client.create_qualification_type(\n",
    "    Name='Good at labeling tweets for claims',\n",
    "    Keywords='tweet, tweets, labeling, classefication, twitter',\n",
    "    Description='The ability to accurately label tweets to relevant topics, for tweets containing potential claims.',\n",
    "    QualificationTypeStatus='Active',\n",
    "    AutoGranted=True\n",
    ")\n",
    "\n",
    "dump_json(qualification, 'qualification_claim_main')\n",
    "\n"
   ]
  },
  {
   "cell_type": "code",
   "execution_count": 7,
   "metadata": {},
   "outputs": [],
   "source": [
    "\n",
    "approved_workers = []#['A1B4AS107BV1ML']\n",
    "\n",
    "\n",
    "\n",
    "qualification = read_json('qualification_claim_main')\n",
    "\n",
    "for worker in approved_workers:\n",
    "    approve_worker(worker, qualification['QualificationType']['QualificationTypeId'])"
   ]
  },
  {
   "cell_type": "code",
   "execution_count": 9,
   "metadata": {},
   "outputs": [
    {
     "data": {
      "text/plain": [
       "True"
      ]
     },
     "execution_count": 9,
     "metadata": {},
     "output_type": "execute_result"
    }
   ],
   "source": [
    "qualification[\"QualificationType\"][\"QualificationTypeId\"] == '3KPNUZIAJ8TEJIOEXY6O9LL21XKH19'"
   ]
  },
  {
   "cell_type": "code",
   "execution_count": 10,
   "metadata": {},
   "outputs": [],
   "source": [
    "Items_to_annotate = 20\n",
    "\n",
    "\n",
    "Qualifications = [\n",
    "    {\n",
    "        'QualificationTypeId': qualification['QualificationType']['QualificationTypeId'],\n",
    "        'Comparator': 'DoesNotExist',\n",
    "        'ActionsGuarded': 'DiscoverPreviewAndAccept'\n",
    "    },\n",
    "    { # Masters qualification\n",
    "      # 'QualificationTypeId': '2ARFPLSP75KLA8M8DH1HTEQVJT3SY6', # Masters qualification sandbox\n",
    "        'QualificationTypeId': '2F1QJWKUDD8XADTFD2Q0G6UTO95ALH', # Masters qualification production\n",
    "        'Comparator': 'Exists'\n",
    "    }\n",
    "]\n",
    "\n",
    "\n",
    "\n",
    "\n",
    "TaskAttributes = {\n",
    "    'MaxAssignments': 20,                 \n",
    "    'LifetimeInSeconds': 60*60*24,         # How long the task will be available on the MTurk website (24 hours)\n",
    "    'AssignmentDurationInSeconds': 60*10,   # How long Workers have to complete each item (5 minutes)\n",
    "    'Reward': '0.02',                      # The reward you will offer Workers for each response\n",
    "    'Title': 'Label tweets',\n",
    "    'Keywords': 'label, tweet',\n",
    "    'Description': 'Label tweets for related topics in this small set and if done well gain qualification for a bigger set',\n",
    "    'QualificationRequirements': Qualifications,\n",
    "}\n"
   ]
  },
  {
   "cell_type": "code",
   "execution_count": 11,
   "metadata": {},
   "outputs": [],
   "source": [
    "def encode_tweet(tweet):\n",
    "    return str(html.escape(tweet).replace('\\n', '<br/>').encode('ascii', 'xmlcharrefreplace')).replace(\"b'\", '')[:-1]\n",
    "\n",
    "known_answers = read_json('known_claims')\n"
   ]
  },
  {
   "cell_type": "code",
   "execution_count": 12,
   "metadata": {},
   "outputs": [],
   "source": [
    "def create_hits(data, offset = 0):\n",
    "    results = []\n",
    "    for i, row in enumerate(data[offset:]):\n",
    "        print('\\rCreating hit for tweet number', offset + i + 1, end='')\n",
    "        response = client.create_hit(\n",
    "            **TaskAttributes,\n",
    "            Question=question_xml.replace('${tweet}',encode_tweet(row['tweet'])),#.replace('${topic}', encode_tweet(row['topic']))\n",
    "        )\n",
    "        hit_type_id = response['HIT']['HITTypeId']\n",
    "        results.append({\n",
    "            'tweet': row['tweet'],\n",
    "            'hit_id': response['HIT']['HITId'],\n",
    "            'known_answer': row['claim']\n",
    "        })\n",
    "\n",
    "    print(\"\\nYou can view the HITs here:\")\n",
    "    link = mturk_environment['preview'] + \"?groupId={}\".format(hit_type_id)\n",
    "    print(link)\n",
    "    return results, link"
   ]
  },
  {
   "cell_type": "code",
   "execution_count": 13,
   "metadata": {},
   "outputs": [
    {
     "name": "stdout",
     "output_type": "stream",
     "text": [
      "Creating hit for tweet number 20\n",
      "You can view the HITs here:\n",
      "https://www.mturk.com/mturk/preview?groupId=3OSXIFYM5H4NGESECR5X7RAWLROGA6\n"
     ]
    }
   ],
   "source": [
    "results, _ = create_hits(known_answers)"
   ]
  },
  {
   "cell_type": "code",
   "execution_count": 14,
   "metadata": {},
   "outputs": [],
   "source": [
    "with open('./active_hits-v1-qualification-claim.json', 'w') as fout:\n",
    "    json.dump(results, fout)"
   ]
  },
  {
   "cell_type": "code",
   "execution_count": null,
   "metadata": {},
   "outputs": [],
   "source": [
    "with open('./active_hits-v1-qualification-claim.json', 'r') as fout:\n",
    "    results = json.load(fout)"
   ]
  },
  {
   "cell_type": "code",
   "execution_count": 181,
   "metadata": {},
   "outputs": [
    {
     "name": "stdout",
     "output_type": "stream",
     "text": [
      " Gathering results for hit num 20\n",
      "Done\n"
     ]
    }
   ],
   "source": [
    "workers = {\n",
    "    \n",
    "}\n",
    "\n",
    "for i, item in enumerate(results):\n",
    "    print('\\r', 'Gathering results for hit num', i + 1, end='')\n",
    "    # Get the status of the HIT\n",
    "    hit = client.get_hit(HITId=item['hit_id'])\n",
    "    item['status'] = hit['HIT']['HITStatus']\n",
    "\n",
    "    # Get a list of the Assignments that have been submitted by Workers\n",
    "    assignmentsList = client.list_assignments_for_hit(\n",
    "        HITId=item['hit_id'],\n",
    "        AssignmentStatuses=['Submitted', 'Approved'],#, 'Rejected'],\n",
    "        MaxResults=10\n",
    "    )\n",
    "\n",
    "    assignments = assignmentsList['Assignments']\n",
    "    item['assignments_submitted_count'] = len(assignments)\n",
    "\n",
    "    answers = []\n",
    "    for assignment in assignments:\n",
    "        \n",
    "        \n",
    "        \n",
    "        # Retreive the attributes for each Assignment\n",
    "        worker_id = assignment['WorkerId']\n",
    "        assignment_id = assignment['AssignmentId']\n",
    "        \n",
    "        # Retrieve the value submitted by the Worker from the XML\n",
    "        answer_dict = xmltodict.parse(assignment['Answer'])\n",
    "        answer = answer_dict['QuestionFormAnswers']['Answer']['FreeText']\n",
    "        answer_dict['worker'] = worker_id\n",
    "        answer_dict['answer'] = answer\n",
    "        answers.append(answer_dict)\n",
    "        \n",
    "        \n",
    "        workser_work = {\n",
    "            \"answer\": answer,\n",
    "            \"known_answer\": item['known_answer'],\n",
    "            \"assignment_id\": assignment['AssignmentId'],\n",
    "            \"status\": assignment['AssignmentStatus'],\n",
    "            \"tweet\": item['tweet'],\n",
    "        }\n",
    "        if worker_id in workers:\n",
    "            workers[worker_id].append(workser_work)\n",
    "        else:\n",
    "            workers[worker_id] = [workser_work]\n",
    "        \n",
    "        # Approve the Assignment (if it hasn't already been approved)\n",
    "        #if assignment['AssignmentStatus'] == 'Submitted':\n",
    "        #    client.approve_assignment(\n",
    "        #        AssignmentId=assignment_id,\n",
    "        #        OverrideRejection=False\n",
    "        #    )\n",
    "    \n",
    "    # Add the answers that have been retrieved for this item\n",
    "    item['answers'] = answers\n",
    "\n",
    "\n",
    "print('\\nDone')"
   ]
  },
  {
   "cell_type": "code",
   "execution_count": 182,
   "metadata": {},
   "outputs": [
    {
     "name": "stdout",
     "output_type": "stream",
     "text": [
      "./active_hits-v1-claim-qualification-res-2529877282265771281.json\n"
     ]
    }
   ],
   "source": [
    "def freeze(o):\n",
    "    if isinstance(o,dict):\n",
    "        return frozenset({ k:freeze(v) for k,v in o.items()}.items())\n",
    "\n",
    "    if isinstance(o,list):\n",
    "        return tuple([freeze(v) for v in o])\n",
    "\n",
    "    return o\n",
    "file_name = f'./active_hits-v1-claim-qualification-res-{hash(freeze(results))}.json'\n",
    "with open(file_name, 'w') as fout:\n",
    "    json.dump(results, fout)\n",
    "print(file_name)"
   ]
  },
  {
   "cell_type": "code",
   "execution_count": 183,
   "metadata": {},
   "outputs": [
    {
     "name": "stdout",
     "output_type": "stream",
     "text": [
      "./workers-qualification--5553671175255113413.json\n"
     ]
    }
   ],
   "source": [
    "file_name = f'./workers-qualification-{hash(freeze(workers))}.json'\n",
    "\n",
    "with open(file_name, 'w') as fout:\n",
    "    json.dump(workers, fout)\n",
    "\n",
    "print(file_name)"
   ]
  },
  {
   "cell_type": "code",
   "execution_count": 184,
   "metadata": {},
   "outputs": [],
   "source": [
    "#with open('./workers-3003139998663480200.json', 'r') as fout:\n",
    "#    workers = json.load(fout)\n",
    "\n"
   ]
  },
  {
   "cell_type": "code",
   "execution_count": 190,
   "metadata": {},
   "outputs": [
    {
     "name": "stdout",
     "output_type": "stream",
     "text": [
      "APJJ1HHD2GGFS 3 3\n",
      "APJJ1HHD2GGFS answers {'We should reduce the consumption of meat': 1, 'no claim': 2}\n",
      "APJJ1HHD2GGFS 5 3 1 2 0.2 0.2 0.4\n",
      "\n",
      "A1PAR1TMKFPKQE 4 4\n",
      "A1PAR1TMKFPKQE answers {'no claim': 2, 'Vegan and vegetarian diets should be encouraged': 1, 'We should pursue policies that promote sustainable foods': 1}\n",
      "A1PAR1TMKFPKQE 6 4 4 0 0.6666666666666666 1.0 0.0\n",
      "\n",
      "Total number annotated 130 out of 400 number approved 118\n"
     ]
    }
   ],
   "source": [
    "total_anno = 0\n",
    "total_approved = 0\n",
    "for worker in workers:\n",
    "    work = workers[worker]\n",
    "    num_known = 0\n",
    "    num_correct = 0\n",
    "    num_unapproved = 0\n",
    "    num_partial_correct = 0\n",
    "    num_wrong_answer = 0\n",
    "    answer_dist = {}\n",
    "    num_answer_made = 0\n",
    "    \n",
    "    for assign in work:\n",
    "        \n",
    "        answ  = assign['answer'].split('|')\n",
    "        num_answer_made = num_answer_made + len(answ)\n",
    "        if assign['status'] == 'Submitted':\n",
    "            num_unapproved = num_unapproved + 1\n",
    "        if assign['status'] == 'Approved':\n",
    "            total_approved = total_approved + 1\n",
    "        \n",
    "        for ans in answ:\n",
    "            if ans in answer_dist:\n",
    "                answer_dist[ans] = answer_dist[ans] + 1\n",
    "            else:\n",
    "                answer_dist[ans] = 1\n",
    "        \n",
    "        if not pd.isnull(assign['known_answer']):\n",
    "            known = assign['known_answer'].split('|')\n",
    "            num_known = num_known + len(known)\n",
    "            inter = len(np.intersect1d(known, answ))\n",
    "            num_correct = num_correct + inter\n",
    "            num_partial_correct = num_partial_correct + ((len(known) - inter) if (inter < len(known) or inter < len(answ)) and inter > 0 else 0)\n",
    "            num_wrong_answer = num_wrong_answer + (len(answ) - inter)\n",
    "        \n",
    "            \n",
    "            \n",
    "    total_anno = total_anno + len(work) \n",
    "    if num_unapproved > 0:\n",
    "        print(worker, len(work), num_unapproved)\n",
    "        print(worker, 'answers', answer_dist)\n",
    "        if num_known > 0:\n",
    "            print(worker, num_known, num_answer_made, num_correct, num_wrong_answer, num_correct/num_known, (num_correct + num_partial_correct)/num_known, num_wrong_answer/num_known)\n",
    "        print('')\n",
    "print('Total number annotated', total_anno, 'out of', len(results)*20, 'number approved', total_approved)\n"
   ]
  },
  {
   "cell_type": "code",
   "execution_count": 192,
   "metadata": {},
   "outputs": [
    {
     "name": "stdout",
     "output_type": "stream",
     "text": [
      " Rejecting 3"
     ]
    }
   ],
   "source": [
    "#check_workers_work('A2F0X4LN9N4O4C')\n",
    "#approve_work('A1PAR1TMKFPKQE')\n",
    "#approve_worker('A2F0X4LN9N4O4C', qualification)\n",
    "reject_work('APJJ1HHD2GGFS', 'Wrong annotations for too few hits')"
   ]
  },
  {
   "cell_type": "code",
   "execution_count": null,
   "metadata": {},
   "outputs": [],
   "source": []
  },
  {
   "cell_type": "code",
   "execution_count": null,
   "metadata": {},
   "outputs": [],
   "source": [
    "#reject_work('AUGRDUEDEUXUS', 'You failed to achive at least 40% agreement with known annotations. Thank you for participation')\n",
    "#approve_work('A3GUJ6JD25FX7O')"
   ]
  },
  {
   "cell_type": "code",
   "execution_count": null,
   "metadata": {},
   "outputs": [],
   "source": [
    "if num_known > 4 and False:\n",
    "        for assign in work:\n",
    "            if num_correct/num_known > 0.65:\n",
    "                client.approve_assignment(\n",
    "                    AssignmentId=assign['assignment_id'],\n",
    "                    OverrideRejection=False\n",
    "                )\n",
    "            else:\n",
    "                client.reject_assignment(\n",
    "                    AssignmentId=assign['assignment_id'],\n",
    "                    RequesterFeedback=\"You failed to achive at least 70% agreement with known annotations\"\n",
    "                )"
   ]
  }
 ],
 "metadata": {
  "kernelspec": {
   "display_name": "Python 3 (ipykernel)",
   "language": "python",
   "name": "python3"
  },
  "language_info": {
   "codemirror_mode": {
    "name": "ipython",
    "version": 3
   },
   "file_extension": ".py",
   "mimetype": "text/x-python",
   "name": "python",
   "nbconvert_exporter": "python",
   "pygments_lexer": "ipython3",
   "version": "3.8.5"
  }
 },
 "nbformat": 4,
 "nbformat_minor": 4
}
