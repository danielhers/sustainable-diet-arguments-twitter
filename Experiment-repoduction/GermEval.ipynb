{
 "cells": [
  {
   "cell_type": "code",
   "execution_count": null,
   "metadata": {},
   "outputs": [],
   "source": [
    "from transformers import AutoTokenizer, AutoModelForSequenceClassification\n",
    "from transformers import TrainingArguments, Trainer\n",
    "import pandas as pd\n",
    "import numpy as np\n",
    "import torch\n",
    "from datasets import load_dataset, Dataset, load_metric\n",
    "from sklearn.model_selection import train_test_split\n",
    "from transformers import pipeline"
   ]
  },
  {
   "cell_type": "markdown",
   "metadata": {},
   "source": [
    "### Hyperparameters"
   ]
  },
  {
   "cell_type": "code",
   "execution_count": null,
   "metadata": {},
   "outputs": [],
   "source": [
    "batch_size = 5\n",
    "seed       = 42\n",
    "model_name = \"bert-base-german-cased\"\n",
    "task = 'Sub3_FactClaiming'#'Sub3_FactClaiming' # Sub2_Engaging, Sub1_Toxic\n",
    "metric     = load_metric('accuracy')\n",
    "epochs     = 1"
   ]
  },
  {
   "cell_type": "code",
   "execution_count": null,
   "metadata": {},
   "outputs": [],
   "source": [
    "tokenizer = AutoTokenizer.from_pretrained(model_name)\n",
    "model = AutoModelForSequenceClassification.from_pretrained(model_name, num_labels=2)"
   ]
  },
  {
   "cell_type": "code",
   "execution_count": null,
   "metadata": {},
   "outputs": [],
   "source": [
    "\n",
    "df = pd.read_csv('./SharedTask-main/Data Sets/GermEval21_TrainData.csv').rename(columns={task: \"labels\"})\n",
    "\n",
    "train_set, dev_test = train_test_split(df, test_size=0.001) # Set to 0.25 for correct distribution\n",
    "dev_set, test_set = train_test_split(dev_test, test_size=0.5)"
   ]
  },
  {
   "cell_type": "code",
   "execution_count": null,
   "metadata": {},
   "outputs": [],
   "source": [
    "train_data = Dataset.from_pandas(train_set)\n",
    "dev_data   = Dataset.from_pandas(dev_set)\n",
    "test_data  = Dataset.from_pandas(test_set)"
   ]
  },
  {
   "cell_type": "code",
   "execution_count": null,
   "metadata": {},
   "outputs": [],
   "source": [
    "def tokenize_function(examples):\n",
    "    return tokenizer(examples[\"comment_text\"], padding=\"max_length\", truncation=True)\n",
    "\n",
    "def compute_metrics(eval_pred):\n",
    "    logits, labels = eval_pred\n",
    "    predictions = np.argmax(logits, axis=-1)\n",
    "    return metric.compute(predictions=predictions, references=labels)\n",
    "\n",
    "\n",
    "train_processed = train_data.map(tokenize_function, batched=True, batch_size = batch_size)\n",
    "dev_processed = dev_data.map(tokenize_function, batched=True, batch_size = batch_size)\n",
    "test_processed = test_data.map(tokenize_function, batched=True, batch_size = batch_size)"
   ]
  },
  {
   "cell_type": "code",
   "execution_count": null,
   "metadata": {},
   "outputs": [],
   "source": [
    "unused_columns = df.loc[:, df.columns != 'labels'].columns\n",
    "train_full = train_processed.shuffle(seed=seed).remove_columns(unused_columns)\n",
    "dev_full   = dev_processed.shuffle(seed=seed).remove_columns(unused_columns)\n",
    "test_full  = test_processed.shuffle(seed=seed).remove_columns(unused_columns)"
   ]
  },
  {
   "cell_type": "code",
   "execution_count": null,
   "metadata": {},
   "outputs": [],
   "source": [
    "train_args = TrainingArguments(\n",
    "    output_dir = 'base_testing_germ_eval_' + task,\n",
    "    per_device_train_batch_size = batch_size,\n",
    "    num_train_epochs = epochs,\n",
    "    evaluation_strategy='epoch'\n",
    ")"
   ]
  },
  {
   "cell_type": "code",
   "execution_count": null,
   "metadata": {},
   "outputs": [],
   "source": [
    "trainer = Trainer(\n",
    "    model = model,\n",
    "    args = train_args,\n",
    "    train_dataset = train_full,\n",
    "    eval_dataset = dev_full,\n",
    "    compute_metrics = compute_metrics,\n",
    ")"
   ]
  },
  {
   "cell_type": "code",
   "execution_count": null,
   "metadata": {},
   "outputs": [],
   "source": [
    "trainer.train()"
   ]
  },
  {
   "cell_type": "code",
   "execution_count": null,
   "metadata": {},
   "outputs": [],
   "source": [
    "trainer.evaluate()"
   ]
  },
  {
   "cell_type": "code",
   "execution_count": null,
   "metadata": {},
   "outputs": [],
   "source": [
    "eval_csv = pd.read_csv('predictions.csv')\n",
    "eval_set = Dataset.from_pandas(eval_csv)"
   ]
  },
  {
   "cell_type": "code",
   "execution_count": null,
   "metadata": {},
   "outputs": [],
   "source": [
    "eval_processed = eval_set.map(tokenize_function, batched=True, batch_size = batch_size)"
   ]
  },
  {
   "cell_type": "code",
   "execution_count": null,
   "metadata": {},
   "outputs": [],
   "source": [
    "res = trainer.predict(eval_processed)\n",
    "predictions = res.predictions.argmax(-1)"
   ]
  },
  {
   "cell_type": "code",
   "execution_count": null,
   "metadata": {},
   "outputs": [],
   "source": [
    "eval_csv[task] = predictions\n",
    "eval_csv.to_csv('predictions.csv') # Save the results"
   ]
  },
  {
   "cell_type": "markdown",
   "metadata": {},
   "source": [
    "# Evaluation code\n",
    "\n",
    "This is just a slight adaptation of SharedTask-main/evaluate.py"
   ]
  },
  {
   "cell_type": "code",
   "execution_count": null,
   "metadata": {},
   "outputs": [],
   "source": [
    "#!/usr/bin/env python\n",
    "\n",
    "# for each zip file in the current directory:\n",
    "#     extract zip file\n",
    "#     load answer.csv into dataframe\n",
    "#     calculate score\n",
    "#     save score\n",
    "# save all scores to csv file\n",
    "\n",
    "import zipfile\n",
    "import os\n",
    "import pandas as pd\n",
    "\n",
    "import sys\n",
    "import os.path\n",
    "from sklearn.metrics import f1_score, recall_score, precision_score, classification_report\n",
    "import numpy as np\n",
    "\n",
    "df_truth = pd.read_csv(\"./SharedTask-main/Data Sets/GermEval21_TestData.csv\")\n",
    "\n",
    "scores = []\n",
    "\n",
    "\n",
    "df_answer = pd.read_csv('predictions.csv')\n",
    "\n",
    "y_true_1 = np.array(df_truth[\"Sub1_Toxic\"])\n",
    "y_true_2 = np.array(df_truth[\"Sub2_Engaging\"])\n",
    "y_true_3 = np.array(df_truth[\"Sub3_FactClaiming\"])\n",
    "y_pred_1 = np.array(df_answer[\"Sub1_Toxic\"])\n",
    "y_pred_2 = np.array(df_answer[\"Sub2_Engaging\"])\n",
    "y_pred_3 = np.array(df_answer[\"Sub3_FactClaiming\"])\n",
    "\n",
    "report = classification_report(y_true_1, y_pred_1, output_dict=True)\n",
    "precision_score_1 = report[\"macro avg\"][\"precision\"]\n",
    "recall_score_1 = report[\"macro avg\"][\"recall\"]\n",
    "f1_score_1 = 0\n",
    "if precision_score_1+recall_score_1 > 0:\n",
    "    f1_score_1 = 2*precision_score_1*recall_score_1/(precision_score_1+recall_score_1)\n",
    "\n",
    "report = classification_report(y_true_2, y_pred_2, output_dict=True)\n",
    "precision_score_2 = report[\"macro avg\"][\"precision\"]\n",
    "recall_score_2 = report[\"macro avg\"][\"recall\"]\n",
    "f1_score_2 = 0\n",
    "if precision_score_2+recall_score_2 > 0:\n",
    "    f1_score_2 = 2*precision_score_2*recall_score_2/(precision_score_2+recall_score_2)\n",
    "\n",
    "report = classification_report(y_true_3, y_pred_3, output_dict=True)\n",
    "precision_score_3 = report[\"macro avg\"][\"precision\"]\n",
    "recall_score_3 = report[\"macro avg\"][\"recall\"]\n",
    "f1_score_3 = 0\n",
    "if precision_score_3+recall_score_3 > 0:\n",
    "    f1_score_3 = 2*precision_score_3*recall_score_3/(precision_score_3+recall_score_3)\n",
    "\n",
    "scores.append({\n",
    "\"ID\": 'predictions.csv',\n",
    "\"Sub1_F1\": f1_score_1,\n",
    "\"Sub1_P\":precision_score_1,\n",
    "\"Sub1_R\":recall_score_1,\n",
    "\n",
    "\"Sub2_F1\":f1_score_2,\n",
    "\"Sub2_P\":precision_score_2,\n",
    "\"Sub2_R\":recall_score_2,\n",
    "\n",
    "\"Sub3_F1\":f1_score_3,\n",
    "\"Sub3_P\":precision_score_3,\n",
    "\"Sub3_R\":recall_score_3\n",
    "})\n",
    "print(scores)\n",
    "df = pd.DataFrame(scores)\n",
    "df.to_csv(\"all_scores.csv\", index=False)\n"
   ]
  },
  {
   "cell_type": "code",
   "execution_count": null,
   "metadata": {},
   "outputs": [],
   "source": []
  },
  {
   "cell_type": "code",
   "execution_count": null,
   "metadata": {},
   "outputs": [],
   "source": []
  }
 ],
 "metadata": {
  "kernelspec": {
   "display_name": "Python 3 (ipykernel)",
   "language": "python",
   "name": "python3"
  },
  "language_info": {
   "codemirror_mode": {
    "name": "ipython",
    "version": 3
   },
   "file_extension": ".py",
   "mimetype": "text/x-python",
   "name": "python",
   "nbconvert_exporter": "python",
   "pygments_lexer": "ipython3",
   "version": "3.8.5"
  }
 },
 "nbformat": 4,
 "nbformat_minor": 5
}
