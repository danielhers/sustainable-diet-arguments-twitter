{
 "cells": [
  {
   "cell_type": "code",
   "execution_count": null,
   "metadata": {},
   "outputs": [],
   "source": [
    "from transformers import AutoTokenizer, AutoModelForSequenceClassification\n",
    "from transformers import TrainingArguments, Trainer\n",
    "import pandas as pd\n",
    "import numpy as np\n",
    "import torch\n",
    "from datasets import load_dataset, Dataset, load_metric\n",
    "from sklearn.model_selection import train_test_split\n",
    "from transformers import pipeline"
   ]
  },
  {
   "cell_type": "code",
   "execution_count": 10,
   "metadata": {},
   "outputs": [
    {
     "data": {
      "text/html": [
       "<style  type=\"text/css\" >\n",
       "</style><table id=\"T_11c5fcc6_ae91_11ec_8932_a3137b561366\" ><caption>Results from fitting XGBoost model on bert-base-cased embeddings</caption><thead>    <tr>        <th class=\"blank level0\" ></th>        <th class=\"col_heading level0 col0\" >Tasks</th>        <th class=\"col_heading level0 col1\" >F1</th>        <th class=\"col_heading level0 col2\" >Precision</th>        <th class=\"col_heading level0 col3\" >Recall</th>    </tr></thead><tbody>\n",
       "                <tr>\n",
       "                        <th id=\"T_11c5fcc6_ae91_11ec_8932_a3137b561366level0_row0\" class=\"row_heading level0 row0\" >0</th>\n",
       "                        <td id=\"T_11c5fcc6_ae91_11ec_8932_a3137b561366row0_col0\" class=\"data row0 col0\" >argumentative</td>\n",
       "                        <td id=\"T_11c5fcc6_ae91_11ec_8932_a3137b561366row0_col1\" class=\"data row0 col1\" >0.767264</td>\n",
       "                        <td id=\"T_11c5fcc6_ae91_11ec_8932_a3137b561366row0_col2\" class=\"data row0 col2\" >0.749150</td>\n",
       "                        <td id=\"T_11c5fcc6_ae91_11ec_8932_a3137b561366row0_col3\" class=\"data row0 col3\" >0.804286</td>\n",
       "            </tr>\n",
       "            <tr>\n",
       "                        <th id=\"T_11c5fcc6_ae91_11ec_8932_a3137b561366level0_row1\" class=\"row_heading level0 row1\" >1</th>\n",
       "                        <td id=\"T_11c5fcc6_ae91_11ec_8932_a3137b561366row1_col0\" class=\"data row1 col0\" >claim</td>\n",
       "                        <td id=\"T_11c5fcc6_ae91_11ec_8932_a3137b561366row1_col1\" class=\"data row1 col1\" >0.323887</td>\n",
       "                        <td id=\"T_11c5fcc6_ae91_11ec_8932_a3137b561366row1_col2\" class=\"data row1 col2\" >0.299174</td>\n",
       "                        <td id=\"T_11c5fcc6_ae91_11ec_8932_a3137b561366row1_col3\" class=\"data row1 col3\" >0.371429</td>\n",
       "            </tr>\n",
       "            <tr>\n",
       "                        <th id=\"T_11c5fcc6_ae91_11ec_8932_a3137b561366level0_row2\" class=\"row_heading level0 row2\" >2</th>\n",
       "                        <td id=\"T_11c5fcc6_ae91_11ec_8932_a3137b561366row2_col0\" class=\"data row2 col0\" >evidence</td>\n",
       "                        <td id=\"T_11c5fcc6_ae91_11ec_8932_a3137b561366row2_col1\" class=\"data row2 col1\" >0.040000</td>\n",
       "                        <td id=\"T_11c5fcc6_ae91_11ec_8932_a3137b561366row2_col2\" class=\"data row2 col2\" >0.050000</td>\n",
       "                        <td id=\"T_11c5fcc6_ae91_11ec_8932_a3137b561366row2_col3\" class=\"data row2 col3\" >0.033333</td>\n",
       "            </tr>\n",
       "            <tr>\n",
       "                        <th id=\"T_11c5fcc6_ae91_11ec_8932_a3137b561366level0_row3\" class=\"row_heading level0 row3\" >3</th>\n",
       "                        <td id=\"T_11c5fcc6_ae91_11ec_8932_a3137b561366row3_col0\" class=\"data row3 col0\" >procon</td>\n",
       "                        <td id=\"T_11c5fcc6_ae91_11ec_8932_a3137b561366row3_col1\" class=\"data row3 col1\" >0.771111</td>\n",
       "                        <td id=\"T_11c5fcc6_ae91_11ec_8932_a3137b561366row3_col2\" class=\"data row3 col2\" >0.728333</td>\n",
       "                        <td id=\"T_11c5fcc6_ae91_11ec_8932_a3137b561366row3_col3\" class=\"data row3 col3\" >0.841667</td>\n",
       "            </tr>\n",
       "    </tbody></table>"
      ],
      "text/plain": [
       "<pandas.io.formats.style.Styler at 0x7fb42e11adf0>"
      ]
     },
     "execution_count": 10,
     "metadata": {},
     "output_type": "execute_result"
    }
   ],
   "source": [
    "res"
   ]
  },
  {
   "cell_type": "markdown",
   "metadata": {},
   "source": [
    "### Hyperparameters"
   ]
  },
  {
   "cell_type": "code",
   "execution_count": null,
   "metadata": {},
   "outputs": [],
   "source": [
    "batch_size = 5\n",
    "seed       = 42\n",
    "model_name = \"bert-base-german-cased\"\n",
    "task = 'Sub3_FactClaiming'#'Sub3_FactClaiming' # Sub2_Engaging, Sub1_Toxic\n",
    "metric     = load_metric('accuracy')\n",
    "epochs     = 1"
   ]
  },
  {
   "cell_type": "code",
   "execution_count": null,
   "metadata": {},
   "outputs": [],
   "source": [
    "tokenizer = AutoTokenizer.from_pretrained(model_name)\n",
    "model = AutoModelForSequenceClassification.from_pretrained(model_name, num_labels=2)"
   ]
  },
  {
   "cell_type": "code",
   "execution_count": null,
   "metadata": {},
   "outputs": [],
   "source": [
    "\n",
    "df = pd.read_csv('./SharedTask-main/Data Sets/GermEval21_TrainData.csv').rename(columns={task: \"labels\"})\n",
    "\n",
    "train_set, dev_test = train_test_split(df, test_size=0.001) # Set to 0.25 for correct distribution\n",
    "dev_set, test_set = train_test_split(dev_test, test_size=0.5)"
   ]
  },
  {
   "cell_type": "code",
   "execution_count": null,
   "metadata": {},
   "outputs": [],
   "source": [
    "train_data = Dataset.from_pandas(train_set)\n",
    "dev_data   = Dataset.from_pandas(dev_set)\n",
    "test_data  = Dataset.from_pandas(test_set)"
   ]
  },
  {
   "cell_type": "code",
   "execution_count": null,
   "metadata": {},
   "outputs": [],
   "source": [
    "def tokenize_function(examples):\n",
    "    return tokenizer(examples[\"comment_text\"], padding=\"max_length\", truncation=True)\n",
    "\n",
    "def compute_metrics(eval_pred):\n",
    "    logits, labels = eval_pred\n",
    "    predictions = np.argmax(logits, axis=-1)\n",
    "    return metric.compute(predictions=predictions, references=labels)\n",
    "\n",
    "\n",
    "train_processed = train_data.map(tokenize_function, batched=True, batch_size = batch_size)\n",
    "dev_processed = dev_data.map(tokenize_function, batched=True, batch_size = batch_size)\n",
    "test_processed = test_data.map(tokenize_function, batched=True, batch_size = batch_size)"
   ]
  },
  {
   "cell_type": "code",
   "execution_count": null,
   "metadata": {},
   "outputs": [],
   "source": [
    "unused_columns = df.loc[:, df.columns != 'labels'].columns\n",
    "train_full = train_processed.shuffle(seed=seed).remove_columns(unused_columns)\n",
    "dev_full   = dev_processed.shuffle(seed=seed).remove_columns(unused_columns)\n",
    "test_full  = test_processed.shuffle(seed=seed).remove_columns(unused_columns)"
   ]
  },
  {
   "cell_type": "code",
   "execution_count": null,
   "metadata": {},
   "outputs": [],
   "source": [
    "train_args = TrainingArguments(\n",
    "    output_dir = 'base_testing_germ_eval_' + task,\n",
    "    per_device_train_batch_size = batch_size,\n",
    "    num_train_epochs = epochs,\n",
    "    evaluation_strategy='epoch'\n",
    ")"
   ]
  },
  {
   "cell_type": "code",
   "execution_count": null,
   "metadata": {},
   "outputs": [],
   "source": [
    "trainer = Trainer(\n",
    "    model = model,\n",
    "    args = train_args,\n",
    "    train_dataset = train_full,\n",
    "    eval_dataset = dev_full,\n",
    "    compute_metrics = compute_metrics,\n",
    ")"
   ]
  },
  {
   "cell_type": "code",
   "execution_count": null,
   "metadata": {},
   "outputs": [],
   "source": [
    "trainer.train()"
   ]
  },
  {
   "cell_type": "code",
   "execution_count": null,
   "metadata": {},
   "outputs": [],
   "source": [
    "trainer.evaluate()"
   ]
  },
  {
   "cell_type": "code",
   "execution_count": null,
   "metadata": {},
   "outputs": [],
   "source": [
    "eval_csv = pd.read_csv('predictions.csv')\n",
    "eval_set = Dataset.from_pandas(eval_csv)"
   ]
  },
  {
   "cell_type": "code",
   "execution_count": null,
   "metadata": {},
   "outputs": [],
   "source": [
    "eval_processed = eval_set.map(tokenize_function, batched=True, batch_size = batch_size)"
   ]
  },
  {
   "cell_type": "code",
   "execution_count": null,
   "metadata": {},
   "outputs": [],
   "source": [
    "res = trainer.predict(eval_processed)\n",
    "predictions = res.predictions.argmax(-1)"
   ]
  },
  {
   "cell_type": "code",
   "execution_count": null,
   "metadata": {},
   "outputs": [],
   "source": [
    "eval_csv[task] = predictions\n",
    "eval_csv.to_csv('predictions.csv') # Save the results"
   ]
  },
  {
   "cell_type": "markdown",
   "metadata": {},
   "source": [
    "# Evaluation code\n",
    "\n",
    "This is just a slight adaptation of SharedTask-main/evaluate.py"
   ]
  },
  {
   "cell_type": "code",
   "execution_count": 1,
   "metadata": {},
   "outputs": [
    {
     "name": "stdout",
     "output_type": "stream",
     "text": [
      "[{'ID': 'predictions.csv', 'Sub1_F1': 1.0, 'Sub1_P': 1.0, 'Sub1_R': 1.0, 'Sub2_F1': 0.6808435606258815, 'Sub2_P': 0.6908603694133411, 'Sub2_R': 0.671113068646574, 'Sub3_F1': 0.7263565423417335, 'Sub3_P': 0.7501984126984127, 'Sub3_R': 0.7039834192700435}]\n"
     ]
    }
   ],
   "source": [
    "#!/usr/bin/env python\n",
    "\n",
    "# for each zip file in the current directory:\n",
    "#     extract zip file\n",
    "#     load answer.csv into dataframe\n",
    "#     calculate score\n",
    "#     save score\n",
    "# save all scores to csv file\n",
    "\n",
    "import zipfile\n",
    "import os\n",
    "import pandas as pd\n",
    "\n",
    "import sys\n",
    "import os.path\n",
    "from sklearn.metrics import f1_score, recall_score, precision_score, classification_report\n",
    "import numpy as np\n",
    "\n",
    "df_truth = pd.read_csv(\"./SharedTask-main/Data Sets/GermEval21_TestData.csv\")\n",
    "\n",
    "scores = []\n",
    "\n",
    "\n",
    "df_answer = pd.read_csv('predictions.csv')\n",
    "\n",
    "y_true_1 = np.array(df_truth[\"Sub1_Toxic\"])\n",
    "y_true_2 = np.array(df_truth[\"Sub2_Engaging\"])\n",
    "y_true_3 = np.array(df_truth[\"Sub3_FactClaiming\"])\n",
    "y_pred_1 = np.array(df_answer[\"Sub1_Toxic\"])\n",
    "y_pred_2 = np.array(df_answer[\"Sub2_Engaging\"])\n",
    "y_pred_3 = np.array(df_answer[\"Sub3_FactClaiming\"])\n",
    "\n",
    "report = classification_report(y_true_1, y_pred_1, output_dict=True)\n",
    "precision_score_1 = report[\"macro avg\"][\"precision\"]\n",
    "recall_score_1 = report[\"macro avg\"][\"recall\"]\n",
    "f1_score_1 = 0\n",
    "if precision_score_1+recall_score_1 > 0:\n",
    "    f1_score_1 = 2*precision_score_1*recall_score_1/(precision_score_1+recall_score_1)\n",
    "\n",
    "report = classification_report(y_true_2, y_pred_2, output_dict=True)\n",
    "precision_score_2 = report[\"macro avg\"][\"precision\"]\n",
    "recall_score_2 = report[\"macro avg\"][\"recall\"]\n",
    "f1_score_2 = 0\n",
    "if precision_score_2+recall_score_2 > 0:\n",
    "    f1_score_2 = 2*precision_score_2*recall_score_2/(precision_score_2+recall_score_2)\n",
    "\n",
    "report = classification_report(y_true_3, y_pred_3, output_dict=True)\n",
    "precision_score_3 = report[\"macro avg\"][\"precision\"]\n",
    "recall_score_3 = report[\"macro avg\"][\"recall\"]\n",
    "f1_score_3 = 0\n",
    "if precision_score_3+recall_score_3 > 0:\n",
    "    f1_score_3 = 2*precision_score_3*recall_score_3/(precision_score_3+recall_score_3)\n",
    "\n",
    "scores.append({\n",
    "\"ID\": 'predictions.csv',\n",
    "\"Sub1_F1\": f1_score_1,\n",
    "\"Sub1_P\":precision_score_1,\n",
    "\"Sub1_R\":recall_score_1,\n",
    "\n",
    "\"Sub2_F1\":f1_score_2,\n",
    "\"Sub2_P\":precision_score_2,\n",
    "\"Sub2_R\":recall_score_2,\n",
    "\n",
    "\"Sub3_F1\":f1_score_3,\n",
    "\"Sub3_P\":precision_score_3,\n",
    "\"Sub3_R\":recall_score_3\n",
    "})\n",
    "print(scores)\n",
    "df = pd.DataFrame(scores)\n",
    "df.to_csv(\"all_scores.csv\", index=False)\n"
   ]
  },
  {
   "cell_type": "code",
   "execution_count": null,
   "metadata": {},
   "outputs": [],
   "source": []
  },
  {
   "cell_type": "code",
   "execution_count": null,
   "metadata": {},
   "outputs": [],
   "source": []
  }
 ],
 "metadata": {
  "kernelspec": {
   "display_name": "Python 3 (ipykernel)",
   "language": "python",
   "name": "python3"
  },
  "language_info": {
   "codemirror_mode": {
    "name": "ipython",
    "version": 3
   },
   "file_extension": ".py",
   "mimetype": "text/x-python",
   "name": "python",
   "nbconvert_exporter": "python",
   "pygments_lexer": "ipython3",
   "version": "3.8.5"
  }
 },
 "nbformat": 4,
 "nbformat_minor": 5
}
