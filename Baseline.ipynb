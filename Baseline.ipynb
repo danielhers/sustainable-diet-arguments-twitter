{
 "cells": [
  {
   "cell_type": "code",
   "execution_count": 1,
   "metadata": {},
   "outputs": [],
   "source": [
    "from transformers import AutoTokenizer, AutoModelForSequenceClassification\n",
    "from transformers import TrainingArguments, Trainer\n",
    "import pandas as pd\n",
    "import numpy as np\n",
    "import torch\n",
    "from sklearn.model_selection import train_test_split\n",
    "from transformers import pipeline\n",
    "import tweepy\n",
    "from flair.embeddings import TransformerDocumentEmbeddings\n",
    "from flair.data import Sentence\n",
    "import xgboost as xgb\n",
    "from sklearn.model_selection import GridSearchCV\n",
    "from sklearn.dummy import DummyClassifier\n",
    "from sklearn.model_selection import cross_validate\n",
    "import nltk\n",
    "from utils import numerical_df\n",
    "from baselines import xgboost_baseline, majority_class_baseline, random_class_baseline, ibm_baseline\n",
    "from sklearn.metrics import f1_score as f1, precision_score as ps, recall_score as rs\n",
    "from sklearn.model_selection import KFold"
   ]
  },
  {
   "cell_type": "markdown",
   "metadata": {},
   "source": [
    "### Hyperparameters"
   ]
  },
  {
   "cell_type": "code",
   "execution_count": 2,
   "metadata": {},
   "outputs": [],
   "source": [
    "\n",
    "df = numerical_df(pd.read_csv('full-sample-v4.csv'))\n",
    "## Remove empty strings\n",
    "df = df[df.tweet != '']\n",
    "df = df[df.tweet.notnull()]"
   ]
  },
  {
   "cell_type": "code",
   "execution_count": 3,
   "metadata": {},
   "outputs": [
    {
     "data": {
      "text/html": [
       "<style  type=\"text/css\" >\n",
       "</style><table id=\"T_7dee902a_c4c1_11ec_b5ee_792570a62863\" ><caption>Majority class results with 10 fold split</caption><thead>    <tr>        <th class=\"blank level0\" ></th>        <th class=\"col_heading level0 col0\" >Task</th>        <th class=\"col_heading level0 col1\" >F1</th>        <th class=\"col_heading level0 col2\" >Precision</th>        <th class=\"col_heading level0 col3\" >Recall</th>    </tr></thead><tbody>\n",
       "                <tr>\n",
       "                        <th id=\"T_7dee902a_c4c1_11ec_b5ee_792570a62863level0_row0\" class=\"row_heading level0 row0\" >0</th>\n",
       "                        <td id=\"T_7dee902a_c4c1_11ec_b5ee_792570a62863row0_col0\" class=\"data row0 col0\" >argumentative</td>\n",
       "                        <td id=\"T_7dee902a_c4c1_11ec_b5ee_792570a62863row0_col1\" class=\"data row0 col1\" >0.8099999999999999</td>\n",
       "                        <td id=\"T_7dee902a_c4c1_11ec_b5ee_792570a62863row0_col2\" class=\"data row0 col2\" >0.8099999999999999</td>\n",
       "                        <td id=\"T_7dee902a_c4c1_11ec_b5ee_792570a62863row0_col3\" class=\"data row0 col3\" >0.8099999999999999</td>\n",
       "            </tr>\n",
       "            <tr>\n",
       "                        <th id=\"T_7dee902a_c4c1_11ec_b5ee_792570a62863level0_row1\" class=\"row_heading level0 row1\" >1</th>\n",
       "                        <td id=\"T_7dee902a_c4c1_11ec_b5ee_792570a62863row1_col0\" class=\"data row1 col0\" >claim</td>\n",
       "                        <td id=\"T_7dee902a_c4c1_11ec_b5ee_792570a62863row1_col1\" class=\"data row1 col1\" >0.64</td>\n",
       "                        <td id=\"T_7dee902a_c4c1_11ec_b5ee_792570a62863row1_col2\" class=\"data row1 col2\" >0.64</td>\n",
       "                        <td id=\"T_7dee902a_c4c1_11ec_b5ee_792570a62863row1_col3\" class=\"data row1 col3\" >0.64</td>\n",
       "            </tr>\n",
       "            <tr>\n",
       "                        <th id=\"T_7dee902a_c4c1_11ec_b5ee_792570a62863level0_row2\" class=\"row_heading level0 row2\" >2</th>\n",
       "                        <td id=\"T_7dee902a_c4c1_11ec_b5ee_792570a62863row2_col0\" class=\"data row2 col0\" >evidence</td>\n",
       "                        <td id=\"T_7dee902a_c4c1_11ec_b5ee_792570a62863row2_col1\" class=\"data row2 col1\" >0.6749999999999999</td>\n",
       "                        <td id=\"T_7dee902a_c4c1_11ec_b5ee_792570a62863row2_col2\" class=\"data row2 col2\" >0.6749999999999999</td>\n",
       "                        <td id=\"T_7dee902a_c4c1_11ec_b5ee_792570a62863row2_col3\" class=\"data row2 col3\" >0.6749999999999999</td>\n",
       "            </tr>\n",
       "            <tr>\n",
       "                        <th id=\"T_7dee902a_c4c1_11ec_b5ee_792570a62863level0_row3\" class=\"row_heading level0 row3\" >3</th>\n",
       "                        <td id=\"T_7dee902a_c4c1_11ec_b5ee_792570a62863row3_col0\" class=\"data row3 col0\" >procon</td>\n",
       "                        <td id=\"T_7dee902a_c4c1_11ec_b5ee_792570a62863row3_col1\" class=\"data row3 col1\" >0.625</td>\n",
       "                        <td id=\"T_7dee902a_c4c1_11ec_b5ee_792570a62863row3_col2\" class=\"data row3 col2\" >0.625</td>\n",
       "                        <td id=\"T_7dee902a_c4c1_11ec_b5ee_792570a62863row3_col3\" class=\"data row3 col3\" >0.625</td>\n",
       "            </tr>\n",
       "    </tbody></table>"
      ],
      "text/plain": [
       "<pandas.io.formats.style.Styler at 0x7f3f583df820>"
      ]
     },
     "execution_count": 3,
     "metadata": {},
     "output_type": "execute_result"
    }
   ],
   "source": [
    "majority_class_baseline(df)"
   ]
  },
  {
   "cell_type": "code",
   "execution_count": 4,
   "metadata": {},
   "outputs": [
    {
     "data": {
      "text/html": [
       "<style  type=\"text/css\" >\n",
       "</style><table id=\"T_7df6a9f4_c4c1_11ec_b5ee_792570a62863\" ><caption>Random class results with 10 fold split using weighted approach</caption><thead>    <tr>        <th class=\"blank level0\" ></th>        <th class=\"col_heading level0 col0\" >Task</th>        <th class=\"col_heading level0 col1\" >F1</th>        <th class=\"col_heading level0 col2\" >Precision</th>        <th class=\"col_heading level0 col3\" >Recall</th>    </tr></thead><tbody>\n",
       "                <tr>\n",
       "                        <th id=\"T_7df6a9f4_c4c1_11ec_b5ee_792570a62863level0_row0\" class=\"row_heading level0 row0\" >0</th>\n",
       "                        <td id=\"T_7df6a9f4_c4c1_11ec_b5ee_792570a62863row0_col0\" class=\"data row0 col0\" >argumentative</td>\n",
       "                        <td id=\"T_7df6a9f4_c4c1_11ec_b5ee_792570a62863row0_col1\" class=\"data row0 col1\" >0.68</td>\n",
       "                        <td id=\"T_7df6a9f4_c4c1_11ec_b5ee_792570a62863row0_col2\" class=\"data row0 col2\" >0.68</td>\n",
       "                        <td id=\"T_7df6a9f4_c4c1_11ec_b5ee_792570a62863row0_col3\" class=\"data row0 col3\" >0.68</td>\n",
       "            </tr>\n",
       "            <tr>\n",
       "                        <th id=\"T_7df6a9f4_c4c1_11ec_b5ee_792570a62863level0_row1\" class=\"row_heading level0 row1\" >1</th>\n",
       "                        <td id=\"T_7df6a9f4_c4c1_11ec_b5ee_792570a62863row1_col0\" class=\"data row1 col0\" >claim</td>\n",
       "                        <td id=\"T_7df6a9f4_c4c1_11ec_b5ee_792570a62863row1_col1\" class=\"data row1 col1\" >0.555</td>\n",
       "                        <td id=\"T_7df6a9f4_c4c1_11ec_b5ee_792570a62863row1_col2\" class=\"data row1 col2\" >0.555</td>\n",
       "                        <td id=\"T_7df6a9f4_c4c1_11ec_b5ee_792570a62863row1_col3\" class=\"data row1 col3\" >0.555</td>\n",
       "            </tr>\n",
       "            <tr>\n",
       "                        <th id=\"T_7df6a9f4_c4c1_11ec_b5ee_792570a62863level0_row2\" class=\"row_heading level0 row2\" >2</th>\n",
       "                        <td id=\"T_7df6a9f4_c4c1_11ec_b5ee_792570a62863row2_col0\" class=\"data row2 col0\" >evidence</td>\n",
       "                        <td id=\"T_7df6a9f4_c4c1_11ec_b5ee_792570a62863row2_col1\" class=\"data row2 col1\" >0.54</td>\n",
       "                        <td id=\"T_7df6a9f4_c4c1_11ec_b5ee_792570a62863row2_col2\" class=\"data row2 col2\" >0.54</td>\n",
       "                        <td id=\"T_7df6a9f4_c4c1_11ec_b5ee_792570a62863row2_col3\" class=\"data row2 col3\" >0.54</td>\n",
       "            </tr>\n",
       "            <tr>\n",
       "                        <th id=\"T_7df6a9f4_c4c1_11ec_b5ee_792570a62863level0_row3\" class=\"row_heading level0 row3\" >3</th>\n",
       "                        <td id=\"T_7df6a9f4_c4c1_11ec_b5ee_792570a62863row3_col0\" class=\"data row3 col0\" >procon</td>\n",
       "                        <td id=\"T_7df6a9f4_c4c1_11ec_b5ee_792570a62863row3_col1\" class=\"data row3 col1\" >0.425</td>\n",
       "                        <td id=\"T_7df6a9f4_c4c1_11ec_b5ee_792570a62863row3_col2\" class=\"data row3 col2\" >0.425</td>\n",
       "                        <td id=\"T_7df6a9f4_c4c1_11ec_b5ee_792570a62863row3_col3\" class=\"data row3 col3\" >0.425</td>\n",
       "            </tr>\n",
       "    </tbody></table>"
      ],
      "text/plain": [
       "<pandas.io.formats.style.Styler at 0x7f405b9029a0>"
      ]
     },
     "execution_count": 4,
     "metadata": {},
     "output_type": "execute_result"
    }
   ],
   "source": [
    "random_class_baseline(df)"
   ]
  },
  {
   "cell_type": "code",
   "execution_count": 5,
   "metadata": {},
   "outputs": [
    {
     "name": "stdout",
     "output_type": "stream",
     "text": [
      "Loading language model\n",
      "Generating the embeddings\n",
      "Generating results for argumentative\n",
      "Fitting 3 folds for each of 104 candidates, totalling 312 fits\n"
     ]
    },
    {
     "name": "stderr",
     "output_type": "stream",
     "text": [
      "[Parallel(n_jobs=10)]: Using backend LokyBackend with 10 concurrent workers.\n",
      "[Parallel(n_jobs=10)]: Done  30 tasks      | elapsed:    2.4s\n",
      "[Parallel(n_jobs=10)]: Done 180 tasks      | elapsed:   19.6s\n",
      "[Parallel(n_jobs=10)]: Done 312 out of 312 | elapsed:   40.6s finished\n",
      "/home/mah/anaconda3/lib/python3.8/site-packages/xgboost/sklearn.py:1224: UserWarning: The use of label encoder in XGBClassifier is deprecated and will be removed in a future release. To remove this warning, do the following: 1) Pass option use_label_encoder=False when constructing XGBClassifier object; and 2) Encode your labels (y) as integers starting with 0, i.e. 0, 1, 2, ..., [num_class - 1].\n",
      "  warnings.warn(label_encoder_deprecation_msg, UserWarning)\n",
      "/home/mah/anaconda3/lib/python3.8/site-packages/xgboost/sklearn.py:1224: UserWarning: The use of label encoder in XGBClassifier is deprecated and will be removed in a future release. To remove this warning, do the following: 1) Pass option use_label_encoder=False when constructing XGBClassifier object; and 2) Encode your labels (y) as integers starting with 0, i.e. 0, 1, 2, ..., [num_class - 1].\n",
      "  warnings.warn(label_encoder_deprecation_msg, UserWarning)\n"
     ]
    },
    {
     "name": "stdout",
     "output_type": "stream",
     "text": [
      "Generating results for claim\n",
      "Fitting 3 folds for each of 104 candidates, totalling 312 fits\n"
     ]
    },
    {
     "name": "stderr",
     "output_type": "stream",
     "text": [
      "[Parallel(n_jobs=10)]: Using backend LokyBackend with 10 concurrent workers.\n",
      "[Parallel(n_jobs=10)]: Done  30 tasks      | elapsed:    1.3s\n",
      "[Parallel(n_jobs=10)]: Done 180 tasks      | elapsed:   23.4s\n",
      "[Parallel(n_jobs=10)]: Done 312 out of 312 | elapsed:   53.2s finished\n",
      "/home/mah/anaconda3/lib/python3.8/site-packages/xgboost/sklearn.py:1224: UserWarning: The use of label encoder in XGBClassifier is deprecated and will be removed in a future release. To remove this warning, do the following: 1) Pass option use_label_encoder=False when constructing XGBClassifier object; and 2) Encode your labels (y) as integers starting with 0, i.e. 0, 1, 2, ..., [num_class - 1].\n",
      "  warnings.warn(label_encoder_deprecation_msg, UserWarning)\n",
      "/home/mah/anaconda3/lib/python3.8/site-packages/xgboost/sklearn.py:1224: UserWarning: The use of label encoder in XGBClassifier is deprecated and will be removed in a future release. To remove this warning, do the following: 1) Pass option use_label_encoder=False when constructing XGBClassifier object; and 2) Encode your labels (y) as integers starting with 0, i.e. 0, 1, 2, ..., [num_class - 1].\n",
      "  warnings.warn(label_encoder_deprecation_msg, UserWarning)\n"
     ]
    },
    {
     "name": "stdout",
     "output_type": "stream",
     "text": [
      "Generating results for evidence\n",
      "Fitting 3 folds for each of 104 candidates, totalling 312 fits\n"
     ]
    },
    {
     "name": "stderr",
     "output_type": "stream",
     "text": [
      "[Parallel(n_jobs=10)]: Using backend LokyBackend with 10 concurrent workers.\n",
      "[Parallel(n_jobs=10)]: Done  30 tasks      | elapsed:    1.3s\n",
      "[Parallel(n_jobs=10)]: Done 180 tasks      | elapsed:   23.2s\n",
      "[Parallel(n_jobs=10)]: Done 312 out of 312 | elapsed:   52.6s finished\n",
      "/home/mah/anaconda3/lib/python3.8/site-packages/xgboost/sklearn.py:1224: UserWarning: The use of label encoder in XGBClassifier is deprecated and will be removed in a future release. To remove this warning, do the following: 1) Pass option use_label_encoder=False when constructing XGBClassifier object; and 2) Encode your labels (y) as integers starting with 0, i.e. 0, 1, 2, ..., [num_class - 1].\n",
      "  warnings.warn(label_encoder_deprecation_msg, UserWarning)\n",
      "/home/mah/anaconda3/lib/python3.8/site-packages/xgboost/sklearn.py:1224: UserWarning: The use of label encoder in XGBClassifier is deprecated and will be removed in a future release. To remove this warning, do the following: 1) Pass option use_label_encoder=False when constructing XGBClassifier object; and 2) Encode your labels (y) as integers starting with 0, i.e. 0, 1, 2, ..., [num_class - 1].\n",
      "  warnings.warn(label_encoder_deprecation_msg, UserWarning)\n"
     ]
    },
    {
     "name": "stdout",
     "output_type": "stream",
     "text": [
      "Generating results for procon\n",
      "Fitting 3 folds for each of 104 candidates, totalling 312 fits\n"
     ]
    },
    {
     "name": "stderr",
     "output_type": "stream",
     "text": [
      "[Parallel(n_jobs=10)]: Using backend LokyBackend with 10 concurrent workers.\n",
      "[Parallel(n_jobs=10)]: Done  30 tasks      | elapsed:    1.3s\n",
      "[Parallel(n_jobs=10)]: Done 180 tasks      | elapsed:   14.6s\n",
      "[Parallel(n_jobs=10)]: Done 312 out of 312 | elapsed:   29.4s finished\n",
      "/home/mah/anaconda3/lib/python3.8/site-packages/xgboost/sklearn.py:1224: UserWarning: The use of label encoder in XGBClassifier is deprecated and will be removed in a future release. To remove this warning, do the following: 1) Pass option use_label_encoder=False when constructing XGBClassifier object; and 2) Encode your labels (y) as integers starting with 0, i.e. 0, 1, 2, ..., [num_class - 1].\n",
      "  warnings.warn(label_encoder_deprecation_msg, UserWarning)\n",
      "/home/mah/anaconda3/lib/python3.8/site-packages/xgboost/sklearn.py:1224: UserWarning: The use of label encoder in XGBClassifier is deprecated and will be removed in a future release. To remove this warning, do the following: 1) Pass option use_label_encoder=False when constructing XGBClassifier object; and 2) Encode your labels (y) as integers starting with 0, i.e. 0, 1, 2, ..., [num_class - 1].\n",
      "  warnings.warn(label_encoder_deprecation_msg, UserWarning)\n"
     ]
    },
    {
     "data": {
      "text/html": [
       "<style  type=\"text/css\" >\n",
       "</style><table id=\"T_026d62c2_c4c2_11ec_b5ee_792570a62863\" ><caption>Results from fitting XGBoost model on bert-base-cased embeddings</caption><thead>    <tr>        <th class=\"blank level0\" ></th>        <th class=\"col_heading level0 col0\" >Tasks</th>        <th class=\"col_heading level0 col1\" >F1</th>        <th class=\"col_heading level0 col2\" >Precision</th>        <th class=\"col_heading level0 col3\" >Recall</th>    </tr></thead><tbody>\n",
       "                <tr>\n",
       "                        <th id=\"T_026d62c2_c4c2_11ec_b5ee_792570a62863level0_row0\" class=\"row_heading level0 row0\" >0</th>\n",
       "                        <td id=\"T_026d62c2_c4c2_11ec_b5ee_792570a62863row0_col0\" class=\"data row0 col0\" >argumentative</td>\n",
       "                        <td id=\"T_026d62c2_c4c2_11ec_b5ee_792570a62863row0_col1\" class=\"data row0 col1\" >0.886563</td>\n",
       "                        <td id=\"T_026d62c2_c4c2_11ec_b5ee_792570a62863row0_col2\" class=\"data row0 col2\" >0.818055</td>\n",
       "                        <td id=\"T_026d62c2_c4c2_11ec_b5ee_792570a62863row0_col3\" class=\"data row0 col3\" >0.969118</td>\n",
       "            </tr>\n",
       "            <tr>\n",
       "                        <th id=\"T_026d62c2_c4c2_11ec_b5ee_792570a62863level0_row1\" class=\"row_heading level0 row1\" >1</th>\n",
       "                        <td id=\"T_026d62c2_c4c2_11ec_b5ee_792570a62863row1_col0\" class=\"data row1 col0\" >claim</td>\n",
       "                        <td id=\"T_026d62c2_c4c2_11ec_b5ee_792570a62863row1_col1\" class=\"data row1 col1\" >0.383641</td>\n",
       "                        <td id=\"T_026d62c2_c4c2_11ec_b5ee_792570a62863row1_col2\" class=\"data row1 col2\" >0.505476</td>\n",
       "                        <td id=\"T_026d62c2_c4c2_11ec_b5ee_792570a62863row1_col3\" class=\"data row1 col3\" >0.348214</td>\n",
       "            </tr>\n",
       "            <tr>\n",
       "                        <th id=\"T_026d62c2_c4c2_11ec_b5ee_792570a62863level0_row2\" class=\"row_heading level0 row2\" >2</th>\n",
       "                        <td id=\"T_026d62c2_c4c2_11ec_b5ee_792570a62863row2_col0\" class=\"data row2 col0\" >evidence</td>\n",
       "                        <td id=\"T_026d62c2_c4c2_11ec_b5ee_792570a62863row2_col1\" class=\"data row2 col1\" >0.323961</td>\n",
       "                        <td id=\"T_026d62c2_c4c2_11ec_b5ee_792570a62863row2_col2\" class=\"data row2 col2\" >0.538571</td>\n",
       "                        <td id=\"T_026d62c2_c4c2_11ec_b5ee_792570a62863row2_col3\" class=\"data row2 col3\" >0.259524</td>\n",
       "            </tr>\n",
       "            <tr>\n",
       "                        <th id=\"T_026d62c2_c4c2_11ec_b5ee_792570a62863level0_row3\" class=\"row_heading level0 row3\" >3</th>\n",
       "                        <td id=\"T_026d62c2_c4c2_11ec_b5ee_792570a62863row3_col0\" class=\"data row3 col0\" >procon</td>\n",
       "                        <td id=\"T_026d62c2_c4c2_11ec_b5ee_792570a62863row3_col1\" class=\"data row3 col1\" >0.698182</td>\n",
       "                        <td id=\"T_026d62c2_c4c2_11ec_b5ee_792570a62863row3_col2\" class=\"data row3 col2\" >0.637143</td>\n",
       "                        <td id=\"T_026d62c2_c4c2_11ec_b5ee_792570a62863row3_col3\" class=\"data row3 col3\" >0.780000</td>\n",
       "            </tr>\n",
       "    </tbody></table>"
      ],
      "text/plain": [
       "<pandas.io.formats.style.Styler at 0x7f403c4bb310>"
      ]
     },
     "execution_count": 5,
     "metadata": {},
     "output_type": "execute_result"
    }
   ],
   "source": [
    "xgboost_baseline(df)"
   ]
  },
  {
   "cell_type": "code",
   "execution_count": 6,
   "metadata": {},
   "outputs": [
    {
     "name": "stdout",
     "output_type": "stream",
     "text": [
      "Gathering results for argumentative\n"
     ]
    },
    {
     "name": "stderr",
     "output_type": "stream",
     "text": [
      "ArgumentQualityClient: 100%|██████████| 200/200 [00:06<00:00, 28.79it/s]\n"
     ]
    },
    {
     "name": "stdout",
     "output_type": "stream",
     "text": [
      "Gathering results for claim\n"
     ]
    },
    {
     "name": "stderr",
     "output_type": "stream",
     "text": [
      "ClaimDetectionClient: 100%|██████████| 200/200 [00:30<00:00,  6.64it/s]\n"
     ]
    },
    {
     "name": "stdout",
     "output_type": "stream",
     "text": [
      "Gathering results for evidence\n"
     ]
    },
    {
     "name": "stderr",
     "output_type": "stream",
     "text": [
      "EvidenceDetectionClient: 100%|██████████| 200/200 [00:30<00:00,  6.64it/s]\n"
     ]
    },
    {
     "name": "stdout",
     "output_type": "stream",
     "text": [
      "Gathering results for procon\n"
     ]
    },
    {
     "name": "stderr",
     "output_type": "stream",
     "text": [
      "ProConClient: 100%|██████████| 80/80 [00:04<00:00, 16.30it/s]\n"
     ]
    },
    {
     "data": {
      "text/html": [
       "<style  type=\"text/css\" >\n",
       "</style><table id=\"T_2d69378a_c4c2_11ec_b5ee_792570a62863\" ><caption>Results from using imbs project debater api for 0 shot evalutaion</caption><thead>    <tr>        <th class=\"blank level0\" ></th>        <th class=\"col_heading level0 col0\" >Tasks</th>        <th class=\"col_heading level0 col1\" >F1</th>        <th class=\"col_heading level0 col2\" >Precision</th>        <th class=\"col_heading level0 col3\" >Recall</th>    </tr></thead><tbody>\n",
       "                <tr>\n",
       "                        <th id=\"T_2d69378a_c4c2_11ec_b5ee_792570a62863level0_row0\" class=\"row_heading level0 row0\" >0</th>\n",
       "                        <td id=\"T_2d69378a_c4c2_11ec_b5ee_792570a62863row0_col0\" class=\"data row0 col0\" >argumentative</td>\n",
       "                        <td id=\"T_2d69378a_c4c2_11ec_b5ee_792570a62863row0_col1\" class=\"data row0 col1\" >0.741573</td>\n",
       "                        <td id=\"T_2d69378a_c4c2_11ec_b5ee_792570a62863row0_col2\" class=\"data row0 col2\" >0.942857</td>\n",
       "                        <td id=\"T_2d69378a_c4c2_11ec_b5ee_792570a62863row0_col3\" class=\"data row0 col3\" >0.611111</td>\n",
       "            </tr>\n",
       "            <tr>\n",
       "                        <th id=\"T_2d69378a_c4c2_11ec_b5ee_792570a62863level0_row1\" class=\"row_heading level0 row1\" >1</th>\n",
       "                        <td id=\"T_2d69378a_c4c2_11ec_b5ee_792570a62863row1_col0\" class=\"data row1 col0\" >claim</td>\n",
       "                        <td id=\"T_2d69378a_c4c2_11ec_b5ee_792570a62863row1_col1\" class=\"data row1 col1\" >0.427350</td>\n",
       "                        <td id=\"T_2d69378a_c4c2_11ec_b5ee_792570a62863row1_col2\" class=\"data row1 col2\" >0.555556</td>\n",
       "                        <td id=\"T_2d69378a_c4c2_11ec_b5ee_792570a62863row1_col3\" class=\"data row1 col3\" >0.347222</td>\n",
       "            </tr>\n",
       "            <tr>\n",
       "                        <th id=\"T_2d69378a_c4c2_11ec_b5ee_792570a62863level0_row2\" class=\"row_heading level0 row2\" >2</th>\n",
       "                        <td id=\"T_2d69378a_c4c2_11ec_b5ee_792570a62863row2_col0\" class=\"data row2 col0\" >evidence</td>\n",
       "                        <td id=\"T_2d69378a_c4c2_11ec_b5ee_792570a62863row2_col1\" class=\"data row2 col1\" >0.109589</td>\n",
       "                        <td id=\"T_2d69378a_c4c2_11ec_b5ee_792570a62863row2_col2\" class=\"data row2 col2\" >0.500000</td>\n",
       "                        <td id=\"T_2d69378a_c4c2_11ec_b5ee_792570a62863row2_col3\" class=\"data row2 col3\" >0.061538</td>\n",
       "            </tr>\n",
       "            <tr>\n",
       "                        <th id=\"T_2d69378a_c4c2_11ec_b5ee_792570a62863level0_row3\" class=\"row_heading level0 row3\" >3</th>\n",
       "                        <td id=\"T_2d69378a_c4c2_11ec_b5ee_792570a62863row3_col0\" class=\"data row3 col0\" >procon</td>\n",
       "                        <td id=\"T_2d69378a_c4c2_11ec_b5ee_792570a62863row3_col1\" class=\"data row3 col1\" >0.800000</td>\n",
       "                        <td id=\"T_2d69378a_c4c2_11ec_b5ee_792570a62863row3_col2\" class=\"data row3 col2\" >0.800000</td>\n",
       "                        <td id=\"T_2d69378a_c4c2_11ec_b5ee_792570a62863row3_col3\" class=\"data row3 col3\" >0.800000</td>\n",
       "            </tr>\n",
       "    </tbody></table>"
      ],
      "text/plain": [
       "<pandas.io.formats.style.Styler at 0x7f403e08bb80>"
      ]
     },
     "execution_count": 6,
     "metadata": {},
     "output_type": "execute_result"
    }
   ],
   "source": [
    "ibm_baseline(df, ['argumentative', 'claim', 'evidence', 'procon'])"
   ]
  },
  {
   "cell_type": "code",
   "execution_count": 7,
   "metadata": {},
   "outputs": [
    {
     "name": "stdout",
     "output_type": "stream",
     "text": [
      "Gathering results for procon\n"
     ]
    },
    {
     "name": "stderr",
     "output_type": "stream",
     "text": [
      "ProConClient: 100%|██████████| 80/80 [00:04<00:00, 17.20it/s]\n"
     ]
    },
    {
     "data": {
      "text/html": [
       "<style  type=\"text/css\" >\n",
       "</style><table id=\"T_30381a62_c4c2_11ec_b5ee_792570a62863\" ><caption>Results from using imbs project debater api for 0 shot evalutaion</caption><thead>    <tr>        <th class=\"blank level0\" ></th>        <th class=\"col_heading level0 col0\" >Tasks</th>        <th class=\"col_heading level0 col1\" >F1</th>        <th class=\"col_heading level0 col2\" >Precision</th>        <th class=\"col_heading level0 col3\" >Recall</th>    </tr></thead><tbody>\n",
       "                <tr>\n",
       "                        <th id=\"T_30381a62_c4c2_11ec_b5ee_792570a62863level0_row0\" class=\"row_heading level0 row0\" >0</th>\n",
       "                        <td id=\"T_30381a62_c4c2_11ec_b5ee_792570a62863row0_col0\" class=\"data row0 col0\" >procon</td>\n",
       "                        <td id=\"T_30381a62_c4c2_11ec_b5ee_792570a62863row0_col1\" class=\"data row0 col1\" >0.800000</td>\n",
       "                        <td id=\"T_30381a62_c4c2_11ec_b5ee_792570a62863row0_col2\" class=\"data row0 col2\" >0.800000</td>\n",
       "                        <td id=\"T_30381a62_c4c2_11ec_b5ee_792570a62863row0_col3\" class=\"data row0 col3\" >0.800000</td>\n",
       "            </tr>\n",
       "    </tbody></table>"
      ],
      "text/plain": [
       "<pandas.io.formats.style.Styler at 0x7f403e08b220>"
      ]
     },
     "execution_count": 7,
     "metadata": {},
     "output_type": "execute_result"
    }
   ],
   "source": [
    "ibm_baseline(df, 'procon')"
   ]
  },
  {
   "cell_type": "code",
   "execution_count": null,
   "metadata": {},
   "outputs": [],
   "source": []
  }
 ],
 "metadata": {
  "kernelspec": {
   "display_name": "Python 3 (ipykernel)",
   "language": "python",
   "name": "python3"
  },
  "language_info": {
   "codemirror_mode": {
    "name": "ipython",
    "version": 3
   },
   "file_extension": ".py",
   "mimetype": "text/x-python",
   "name": "python",
   "nbconvert_exporter": "python",
   "pygments_lexer": "ipython3",
   "version": "3.8.5"
  }
 },
 "nbformat": 4,
 "nbformat_minor": 5
}
