{
 "cells": [
  {
   "cell_type": "code",
   "execution_count": null,
   "id": "a12a70db",
   "metadata": {},
   "outputs": [],
   "source": [
    "from transformers import AutoTokenizer, AutoModelForSequenceClassification\n",
    "from transformers import TrainingArguments, Trainer\n",
    "import pandas as pd\n",
    "import numpy as np\n",
    "import torch\n",
    "from sklearn.model_selection import train_test_split\n",
    "from transformers import pipeline\n",
    "import tweepy\n",
    "from flair.embeddings import TransformerDocumentEmbeddings\n",
    "from flair.data import Sentence\n",
    "import xgboost as xgb\n",
    "from sklearn.model_selection import GridSearchCV\n",
    "from sklearn.dummy import DummyClassifier\n",
    "from sklearn.model_selection import cross_validate\n",
    "import nltk\n",
    "from utils import numerical_df\n",
    "from baselines import xgboost_baseline, majority_class_baseline, random_class_baseline, ibm_baseline\n",
    "from sklearn.metrics import f1_score as f1, precision_score as ps, recall_score as rs\n",
    "from sklearn.model_selection import KFold"
   ]
  },
  {
   "cell_type": "markdown",
   "id": "be75aea9",
   "metadata": {},
   "source": [
    "### Hyperparameters"
   ]
  },
  {
   "cell_type": "code",
   "execution_count": null,
   "id": "73473da9",
   "metadata": {},
   "outputs": [],
   "source": [
    "\n",
    "df = numerical_df(pd.read_csv('full_development_set.csv'))\n",
    "## Remove empty strings\n",
    "df = df[df.tweet != '']\n",
    "df = df[df.tweet.notnull()]"
   ]
  },
  {
   "cell_type": "code",
   "execution_count": null,
   "id": "996ee203",
   "metadata": {},
   "outputs": [],
   "source": [
    "majority_class_baseline(df)"
   ]
  },
  {
   "cell_type": "code",
   "execution_count": null,
   "id": "bbd42ba2",
   "metadata": {},
   "outputs": [],
   "source": [
    "random_class_baseline(df)"
   ]
  },
  {
   "cell_type": "code",
   "execution_count": null,
   "id": "b9465212",
   "metadata": {},
   "outputs": [],
   "source": [
    "#res = xgboost_baseline(df)"
   ]
  },
  {
   "cell_type": "code",
   "execution_count": null,
   "id": "9c87dcca",
   "metadata": {},
   "outputs": [],
   "source": [
    "ibm_baseline(df, 'evidence')"
   ]
  },
  {
   "cell_type": "code",
   "execution_count": null,
   "id": "95957b35",
   "metadata": {},
   "outputs": [],
   "source": [
    "ibm_baseline(df, 'procon')"
   ]
  },
  {
   "cell_type": "code",
   "execution_count": null,
   "id": "3d633656",
   "metadata": {},
   "outputs": [],
   "source": []
  }
 ],
 "metadata": {
  "kernelspec": {
   "display_name": "Python 3 (ipykernel)",
   "language": "python",
   "name": "python3"
  },
  "language_info": {
   "codemirror_mode": {
    "name": "ipython",
    "version": 3
   },
   "file_extension": ".py",
   "mimetype": "text/x-python",
   "name": "python",
   "nbconvert_exporter": "python",
   "pygments_lexer": "ipython3",
   "version": "3.7.9"
  }
 },
 "nbformat": 4,
 "nbformat_minor": 5
}
