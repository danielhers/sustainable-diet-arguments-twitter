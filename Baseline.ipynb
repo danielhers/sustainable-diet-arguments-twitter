{
 "cells": [
  {
   "cell_type": "code",
   "execution_count": null,
   "metadata": {},
   "outputs": [],
   "source": [
    "from transformers import AutoTokenizer, AutoModelForSequenceClassification\n",
    "from transformers import TrainingArguments, Trainer\n",
    "import pandas as pd\n",
    "import numpy as np\n",
    "import torch\n",
    "from datasets import load_dataset, Dataset, load_metric\n",
    "from sklearn.model_selection import train_test_split\n",
    "from transformers import pipeline\n",
    "import tweepy\n",
    "from flair.embeddings import TransformerDocumentEmbeddings\n",
    "from flair.data import Sentence\n",
    "import xgboost as xgb\n",
    "from sklearn.model_selection import GridSearchCV\n",
    "from sklearn.dummy import DummyClassifier\n",
    "from sklearn.model_selection import cross_validate\n",
    "import nltk\n",
    "from utils import numerical_df\n",
    "from baselines import xgboost_baseline, majority_class_baseline, random_class_baseline\n",
    "from sklearn.metrics import f1_score as f1, precision_score as ps, recall_score as rs\n",
    "from sklearn.model_selection import KFold"
   ]
  },
  {
   "cell_type": "markdown",
   "metadata": {},
   "source": [
    "### Hyperparameters"
   ]
  },
  {
   "cell_type": "code",
   "execution_count": null,
   "metadata": {},
   "outputs": [],
   "source": []
  },
  {
   "cell_type": "code",
   "execution_count": 2,
   "metadata": {},
   "outputs": [],
   "source": [
    "\n",
    "df = numerical_df(pd.read_csv('full_development_set.csv'))\n",
    "## Remove empty strings\n",
    "df = df[df.tweet != '']\n",
    "df = df[df.tweet.notnull()]"
   ]
  },
  {
   "cell_type": "code",
   "execution_count": 3,
   "metadata": {},
   "outputs": [
    {
     "data": {
      "text/html": [
       "<style  type=\"text/css\" >\n",
       "</style><table id=\"T_7409106e_b42f_11ec_b600_7110f4c4fb85\" ><caption>Majority class results with 10 fold split</caption><thead>    <tr>        <th class=\"blank level0\" ></th>        <th class=\"col_heading level0 col0\" >Task</th>        <th class=\"col_heading level0 col1\" >F1</th>        <th class=\"col_heading level0 col2\" >Precision</th>        <th class=\"col_heading level0 col3\" >Recall</th>    </tr></thead><tbody>\n",
       "                <tr>\n",
       "                        <th id=\"T_7409106e_b42f_11ec_b600_7110f4c4fb85level0_row0\" class=\"row_heading level0 row0\" >0</th>\n",
       "                        <td id=\"T_7409106e_b42f_11ec_b600_7110f4c4fb85row0_col0\" class=\"data row0 col0\" >argumentative</td>\n",
       "                        <td id=\"T_7409106e_b42f_11ec_b600_7110f4c4fb85row0_col1\" class=\"data row0 col1\" >0.6166666666666667</td>\n",
       "                        <td id=\"T_7409106e_b42f_11ec_b600_7110f4c4fb85row0_col2\" class=\"data row0 col2\" >0.6166666666666667</td>\n",
       "                        <td id=\"T_7409106e_b42f_11ec_b600_7110f4c4fb85row0_col3\" class=\"data row0 col3\" >0.6166666666666667</td>\n",
       "            </tr>\n",
       "            <tr>\n",
       "                        <th id=\"T_7409106e_b42f_11ec_b600_7110f4c4fb85level0_row1\" class=\"row_heading level0 row1\" >1</th>\n",
       "                        <td id=\"T_7409106e_b42f_11ec_b600_7110f4c4fb85row1_col0\" class=\"data row1 col0\" >claim</td>\n",
       "                        <td id=\"T_7409106e_b42f_11ec_b600_7110f4c4fb85row1_col1\" class=\"data row1 col1\" >0.675</td>\n",
       "                        <td id=\"T_7409106e_b42f_11ec_b600_7110f4c4fb85row1_col2\" class=\"data row1 col2\" >0.675</td>\n",
       "                        <td id=\"T_7409106e_b42f_11ec_b600_7110f4c4fb85row1_col3\" class=\"data row1 col3\" >0.675</td>\n",
       "            </tr>\n",
       "            <tr>\n",
       "                        <th id=\"T_7409106e_b42f_11ec_b600_7110f4c4fb85level0_row2\" class=\"row_heading level0 row2\" >2</th>\n",
       "                        <td id=\"T_7409106e_b42f_11ec_b600_7110f4c4fb85row2_col0\" class=\"data row2 col0\" >evidence</td>\n",
       "                        <td id=\"T_7409106e_b42f_11ec_b600_7110f4c4fb85row2_col1\" class=\"data row2 col1\" >0.8958333333333334</td>\n",
       "                        <td id=\"T_7409106e_b42f_11ec_b600_7110f4c4fb85row2_col2\" class=\"data row2 col2\" >0.8958333333333334</td>\n",
       "                        <td id=\"T_7409106e_b42f_11ec_b600_7110f4c4fb85row2_col3\" class=\"data row2 col3\" >0.8958333333333334</td>\n",
       "            </tr>\n",
       "            <tr>\n",
       "                        <th id=\"T_7409106e_b42f_11ec_b600_7110f4c4fb85level0_row3\" class=\"row_heading level0 row3\" >3</th>\n",
       "                        <td id=\"T_7409106e_b42f_11ec_b600_7110f4c4fb85row3_col0\" class=\"data row3 col0\" >procon</td>\n",
       "                        <td id=\"T_7409106e_b42f_11ec_b600_7110f4c4fb85row3_col1\" class=\"data row3 col1\" >0.6142857142857142</td>\n",
       "                        <td id=\"T_7409106e_b42f_11ec_b600_7110f4c4fb85row3_col2\" class=\"data row3 col2\" >0.6142857142857142</td>\n",
       "                        <td id=\"T_7409106e_b42f_11ec_b600_7110f4c4fb85row3_col3\" class=\"data row3 col3\" >0.6142857142857142</td>\n",
       "            </tr>\n",
       "    </tbody></table>"
      ],
      "text/plain": [
       "<pandas.io.formats.style.Styler at 0x7f959b1fb7f0>"
      ]
     },
     "execution_count": 3,
     "metadata": {},
     "output_type": "execute_result"
    }
   ],
   "source": [
    "majority_class_baseline(df)"
   ]
  },
  {
   "cell_type": "code",
   "execution_count": 4,
   "metadata": {},
   "outputs": [
    {
     "data": {
      "text/html": [
       "<style  type=\"text/css\" >\n",
       "</style><table id=\"T_7910711a_b42f_11ec_b600_7110f4c4fb85\" ><caption>Random class results with 10 fold split using weighted approach</caption><thead>    <tr>        <th class=\"blank level0\" ></th>        <th class=\"col_heading level0 col0\" >Task</th>        <th class=\"col_heading level0 col1\" >F1</th>        <th class=\"col_heading level0 col2\" >Precision</th>        <th class=\"col_heading level0 col3\" >Recall</th>    </tr></thead><tbody>\n",
       "                <tr>\n",
       "                        <th id=\"T_7910711a_b42f_11ec_b600_7110f4c4fb85level0_row0\" class=\"row_heading level0 row0\" >0</th>\n",
       "                        <td id=\"T_7910711a_b42f_11ec_b600_7110f4c4fb85row0_col0\" class=\"data row0 col0\" >argumentative</td>\n",
       "                        <td id=\"T_7910711a_b42f_11ec_b600_7110f4c4fb85row0_col1\" class=\"data row0 col1\" >0.5291666666666666</td>\n",
       "                        <td id=\"T_7910711a_b42f_11ec_b600_7110f4c4fb85row0_col2\" class=\"data row0 col2\" >0.5291666666666666</td>\n",
       "                        <td id=\"T_7910711a_b42f_11ec_b600_7110f4c4fb85row0_col3\" class=\"data row0 col3\" >0.5291666666666666</td>\n",
       "            </tr>\n",
       "            <tr>\n",
       "                        <th id=\"T_7910711a_b42f_11ec_b600_7110f4c4fb85level0_row1\" class=\"row_heading level0 row1\" >1</th>\n",
       "                        <td id=\"T_7910711a_b42f_11ec_b600_7110f4c4fb85row1_col0\" class=\"data row1 col0\" >claim</td>\n",
       "                        <td id=\"T_7910711a_b42f_11ec_b600_7110f4c4fb85row1_col1\" class=\"data row1 col1\" >0.5333333333333334</td>\n",
       "                        <td id=\"T_7910711a_b42f_11ec_b600_7110f4c4fb85row1_col2\" class=\"data row1 col2\" >0.5333333333333334</td>\n",
       "                        <td id=\"T_7910711a_b42f_11ec_b600_7110f4c4fb85row1_col3\" class=\"data row1 col3\" >0.5333333333333334</td>\n",
       "            </tr>\n",
       "            <tr>\n",
       "                        <th id=\"T_7910711a_b42f_11ec_b600_7110f4c4fb85level0_row2\" class=\"row_heading level0 row2\" >2</th>\n",
       "                        <td id=\"T_7910711a_b42f_11ec_b600_7110f4c4fb85row2_col0\" class=\"data row2 col0\" >evidence</td>\n",
       "                        <td id=\"T_7910711a_b42f_11ec_b600_7110f4c4fb85row2_col1\" class=\"data row2 col1\" >0.85</td>\n",
       "                        <td id=\"T_7910711a_b42f_11ec_b600_7110f4c4fb85row2_col2\" class=\"data row2 col2\" >0.85</td>\n",
       "                        <td id=\"T_7910711a_b42f_11ec_b600_7110f4c4fb85row2_col3\" class=\"data row2 col3\" >0.85</td>\n",
       "            </tr>\n",
       "            <tr>\n",
       "                        <th id=\"T_7910711a_b42f_11ec_b600_7110f4c4fb85level0_row3\" class=\"row_heading level0 row3\" >3</th>\n",
       "                        <td id=\"T_7910711a_b42f_11ec_b600_7110f4c4fb85row3_col0\" class=\"data row3 col0\" >procon</td>\n",
       "                        <td id=\"T_7910711a_b42f_11ec_b600_7110f4c4fb85row3_col1\" class=\"data row3 col1\" >0.5928571428571429</td>\n",
       "                        <td id=\"T_7910711a_b42f_11ec_b600_7110f4c4fb85row3_col2\" class=\"data row3 col2\" >0.5928571428571429</td>\n",
       "                        <td id=\"T_7910711a_b42f_11ec_b600_7110f4c4fb85row3_col3\" class=\"data row3 col3\" >0.5928571428571429</td>\n",
       "            </tr>\n",
       "    </tbody></table>"
      ],
      "text/plain": [
       "<pandas.io.formats.style.Styler at 0x7f959b1f8310>"
      ]
     },
     "execution_count": 4,
     "metadata": {},
     "output_type": "execute_result"
    }
   ],
   "source": [
    "random_class_baseline(df)"
   ]
  },
  {
   "cell_type": "code",
   "execution_count": null,
   "metadata": {},
   "outputs": [],
   "source": [
    "#res = xgboost_baseline(df)"
   ]
  },
  {
   "cell_type": "code",
   "execution_count": null,
   "metadata": {},
   "outputs": [],
   "source": [
    "def dnummy_class_baseline(df, tasks = possible_tasks, fold = 10, strategy=\"stratified\"):\n",
    "    \n",
    "    if isinstance(tasks, str):\n",
    "        tasks = [tasks]\n",
    "    \n",
    "    if not isinstance(tasks, list):\n",
    "        return ValueError('Tasks is not a string or a list.')\n",
    "    \n",
    "    if not all(item in possible_tasks for item in tasks):\n",
    "        return ValueError(f'Tasks can only be or contain the following elements {possible_tasks} but found {tasks}')\n",
    "    \n",
    "    res = []\n",
    "    \n",
    "    for task in tasks:\n",
    "        kf = KFold(n_splits=fold)\n",
    "        data = np.array(df[task].values).astype(int) \n",
    "        if task == 'procon':\n",
    "            data = ((data[data != 0] + 1)/2).astype(int)\n",
    "        tres = [] \n",
    "        \n",
    "        for train_index, test_index in kf.split(data):\n",
    "            \n",
    "            dummy_clf = DummyClassifier(strategy=strategy)\n",
    "            X_train, X_test = data[train_index], data[test_index]  \n",
    "            dummy_clf.fit(X_train, X_train)\n",
    "\n",
    "            labels = dummy_clf.predict(X_test)\n",
    "        \n",
    "            tres.append((f1(X_test, labels, average='micro'), ps(X_test, labels, average='micro'), rs(X_test, labels, average='micro')))\n",
    "        res.append(np.concatenate([[task], np.mean(tres, axis=0)]))\n",
    "    res = pd.DataFrame(res)\n",
    "    res.columns = ['Task', 'F1', 'Precision', 'Recall']\n",
    "    res = res.style.set_caption('Majority class results')\n",
    "    return res"
   ]
  },
  {
   "cell_type": "code",
   "execution_count": null,
   "metadata": {},
   "outputs": [],
   "source": [
    "random_class_baseline(df, strategy = 'prior')"
   ]
  },
  {
   "cell_type": "code",
   "execution_count": null,
   "metadata": {},
   "outputs": [],
   "source": [
    "majority_class_baseline(df)"
   ]
  },
  {
   "cell_type": "code",
   "execution_count": null,
   "metadata": {},
   "outputs": [],
   "source": [
    "ibm_baseline(df, 'evidence')"
   ]
  },
  {
   "cell_type": "code",
   "execution_count": null,
   "metadata": {},
   "outputs": [],
   "source": [
    "ibm_baseline(df, 'procon')"
   ]
  },
  {
   "cell_type": "code",
   "execution_count": null,
   "metadata": {},
   "outputs": [],
   "source": []
  }
 ],
 "metadata": {
  "kernelspec": {
   "display_name": "Python 3 (ipykernel)",
   "language": "python",
   "name": "python3"
  },
  "language_info": {
   "codemirror_mode": {
    "name": "ipython",
    "version": 3
   },
   "file_extension": ".py",
   "mimetype": "text/x-python",
   "name": "python",
   "nbconvert_exporter": "python",
   "pygments_lexer": "ipython3",
   "version": "3.8.5"
  }
 },
 "nbformat": 4,
 "nbformat_minor": 5
}
